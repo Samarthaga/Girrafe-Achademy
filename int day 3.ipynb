{
 "cells": [
  {
   "cell_type": "code",
   "execution_count": 3,
   "id": "b6eacdf1-165e-4c75-937e-8cf6fcae195c",
   "metadata": {},
   "outputs": [],
   "source": [
    "my_string='''hello \\\n",
    "world'''"
   ]
  },
  {
   "cell_type": "code",
   "execution_count": 4,
   "id": "95412d2a-782d-459d-b375-04c4a49b7ace",
   "metadata": {},
   "outputs": [
    {
     "data": {
      "text/plain": [
       "'hello world'"
      ]
     },
     "execution_count": 4,
     "metadata": {},
     "output_type": "execute_result"
    }
   ],
   "source": [
    "my_string"
   ]
  },
  {
   "cell_type": "code",
   "execution_count": 5,
   "id": "f26c0068-109b-49aa-950f-e2f04df16da7",
   "metadata": {},
   "outputs": [],
   "source": [
    "my_string='''hello \n",
    "world'''"
   ]
  },
  {
   "cell_type": "code",
   "execution_count": 6,
   "id": "631d4a4f-8146-49bb-8c9c-f188318627d8",
   "metadata": {},
   "outputs": [
    {
     "data": {
      "text/plain": [
       "'hello \\nworld'"
      ]
     },
     "execution_count": 6,
     "metadata": {},
     "output_type": "execute_result"
    }
   ],
   "source": [
    "my_string"
   ]
  },
  {
   "cell_type": "code",
   "execution_count": 7,
   "id": "a5579ca2-f347-42af-b947-f24d79e922ac",
   "metadata": {},
   "outputs": [],
   "source": [
    "my_string='hello world'"
   ]
  },
  {
   "cell_type": "raw",
   "id": "c10f2967-5c10-43f0-87fd-d986fe3d65d7",
   "metadata": {},
   "source": []
  },
  {
   "cell_type": "code",
   "execution_count": 11,
   "id": "8e2f78f3-2756-475a-8a46-dc49473e516e",
   "metadata": {},
   "outputs": [],
   "source": [
    "char=my_string[1]"
   ]
  },
  {
   "cell_type": "code",
   "execution_count": 12,
   "id": "08e4c069-8003-4367-879c-8ad614ceb8b5",
   "metadata": {},
   "outputs": [
    {
     "name": "stdout",
     "output_type": "stream",
     "text": [
      "e\n"
     ]
    }
   ],
   "source": [
    "print(char)"
   ]
  },
  {
   "cell_type": "code",
   "execution_count": 14,
   "id": "e27e27f8-9b85-4a83-b010-17830ef946e5",
   "metadata": {},
   "outputs": [
    {
     "name": "stdout",
     "output_type": "stream",
     "text": [
      "ell\n"
     ]
    }
   ],
   "source": [
    "## strings are immutale and ordered and text rep.\n",
    "print(my_string[1:4])"
   ]
  },
  {
   "cell_type": "code",
   "execution_count": 16,
   "id": "710743db-dd8e-479c-90fc-9b90e9a2843b",
   "metadata": {},
   "outputs": [
    {
     "name": "stdout",
     "output_type": "stream",
     "text": [
      "dlrow olleh\n"
     ]
    }
   ],
   "source": [
    "print(my_string[::-1])"
   ]
  },
  {
   "cell_type": "code",
   "execution_count": 17,
   "id": "ea8c95c5-33f5-422a-bdb5-5399a83e93ab",
   "metadata": {},
   "outputs": [],
   "source": [
    "name ='samarth'\n",
    "last_name='agarwl'"
   ]
  },
  {
   "cell_type": "code",
   "execution_count": 18,
   "id": "d12eed70-0a74-46c3-a5de-2b51c39f2882",
   "metadata": {},
   "outputs": [],
   "source": [
    "full_name=name+ \" \" + last_name"
   ]
  },
  {
   "cell_type": "code",
   "execution_count": 19,
   "id": "7296e861-6eae-42a7-a007-b5080fe40418",
   "metadata": {},
   "outputs": [
    {
     "data": {
      "text/plain": [
       "'samarth agarwl'"
      ]
     },
     "execution_count": 19,
     "metadata": {},
     "output_type": "execute_result"
    }
   ],
   "source": [
    "full_name"
   ]
  },
  {
   "cell_type": "code",
   "execution_count": 21,
   "id": "5644a480-7946-4009-a1c5-b34ee0d1cba1",
   "metadata": {},
   "outputs": [
    {
     "name": "stdout",
     "output_type": "stream",
     "text": [
      "s\n",
      "a\n",
      "m\n",
      "a\n",
      "r\n",
      "t\n",
      "h\n",
      " \n",
      "a\n",
      "g\n",
      "a\n",
      "r\n",
      "w\n",
      "l\n"
     ]
    }
   ],
   "source": [
    "## iteration over the strings \n",
    "for i in full_name:\n",
    "    print(i)"
   ]
  },
  {
   "cell_type": "code",
   "execution_count": 22,
   "id": "4cfd532c-b631-4a07-af59-3755bac2c65f",
   "metadata": {},
   "outputs": [
    {
     "name": "stdout",
     "output_type": "stream",
     "text": [
      "yes\n"
     ]
    }
   ],
   "source": [
    "if 'a' in full_name:\n",
    "    print('yes')\n",
    "else:\n",
    "    print('n')"
   ]
  },
  {
   "cell_type": "code",
   "execution_count": 23,
   "id": "5e396c5c-d5d3-45f7-9d28-b51a4c9aee85",
   "metadata": {},
   "outputs": [
    {
     "name": "stdout",
     "output_type": "stream",
     "text": [
      "yes\n"
     ]
    }
   ],
   "source": [
    "if 'ama' in full_name:\n",
    "    print('yes')\n",
    "else:\n",
    "    print('n')"
   ]
  },
  {
   "cell_type": "code",
   "execution_count": 1,
   "id": "bdc6d009-0e2f-4779-85e5-37e51f51c61a",
   "metadata": {},
   "outputs": [],
   "source": [
    "mystring='hello world'"
   ]
  },
  {
   "cell_type": "code",
   "execution_count": 6,
   "id": "367e59fa-3048-4a16-bad9-3f9010fa933b",
   "metadata": {},
   "outputs": [
    {
     "name": "stdout",
     "output_type": "stream",
     "text": [
      "hello universe\n"
     ]
    }
   ],
   "source": [
    "print(mystring.replace('world','universe'))"
   ]
  },
  {
   "cell_type": "code",
   "execution_count": 4,
   "id": "cdcf0600-4b21-42a8-b84f-f19e3d09cc49",
   "metadata": {},
   "outputs": [
    {
     "data": {
      "text/plain": [
       "'hello world'"
      ]
     },
     "execution_count": 4,
     "metadata": {},
     "output_type": "execute_result"
    }
   ],
   "source": [
    "mystring"
   ]
  },
  {
   "cell_type": "code",
   "execution_count": 7,
   "id": "89a610f2-fb69-4efd-9e13-025819d5e87a",
   "metadata": {},
   "outputs": [],
   "source": [
    "my_string='how are u doing'"
   ]
  },
  {
   "cell_type": "code",
   "execution_count": 10,
   "id": "3f11e777-d7e9-4219-a01a-2f185fbbc4b9",
   "metadata": {},
   "outputs": [],
   "source": [
    "my_list=my_string.split(' ') ## Sapece is delimeter and it sentence is having , then dilemeter is ','"
   ]
  },
  {
   "cell_type": "code",
   "execution_count": 11,
   "id": "f4449e08-3c7d-41db-ac94-b9481612f725",
   "metadata": {},
   "outputs": [
    {
     "data": {
      "text/plain": [
       "['how', 'are', 'u', 'doing']"
      ]
     },
     "execution_count": 11,
     "metadata": {},
     "output_type": "execute_result"
    }
   ],
   "source": [
    "my_list"
   ]
  },
  {
   "cell_type": "code",
   "execution_count": 12,
   "id": "9e7d4443-d37a-4dad-8c70-e95afb479719",
   "metadata": {},
   "outputs": [],
   "source": [
    "new_string=''.join(my_list)"
   ]
  },
  {
   "cell_type": "code",
   "execution_count": 13,
   "id": "11de23c7-024d-4984-ae52-85fe743cb8b2",
   "metadata": {},
   "outputs": [
    {
     "data": {
      "text/plain": [
       "'howareudoing'"
      ]
     },
     "execution_count": 13,
     "metadata": {},
     "output_type": "execute_result"
    }
   ],
   "source": [
    "new_string"
   ]
  },
  {
   "cell_type": "code",
   "execution_count": 14,
   "id": "0966ea4a-3725-4ba2-ae72-72e7b59825b3",
   "metadata": {},
   "outputs": [],
   "source": [
    "new_string='  '.join(my_list) ## Important "
   ]
  },
  {
   "cell_type": "code",
   "execution_count": 15,
   "id": "2e0f6be2-5cce-47ff-9c40-b3b3affedccc",
   "metadata": {},
   "outputs": [
    {
     "data": {
      "text/plain": [
       "'how  are  u  doing'"
      ]
     },
     "execution_count": 15,
     "metadata": {},
     "output_type": "execute_result"
    }
   ],
   "source": [
    "new_string"
   ]
  },
  {
   "cell_type": "code",
   "execution_count": 19,
   "id": "3fae2a14-3637-40d0-9ad0-ed80be8eb79e",
   "metadata": {},
   "outputs": [],
   "source": [
    "mylist=['a']* 6 ## craeting list with 6 elements "
   ]
  },
  {
   "cell_type": "code",
   "execution_count": 18,
   "id": "92b606ed-d01a-4b7a-98cd-739c6296aca9",
   "metadata": {},
   "outputs": [
    {
     "data": {
      "text/plain": [
       "['a', 'a', 'a', 'a', 'a', 'a']"
      ]
     },
     "execution_count": 18,
     "metadata": {},
     "output_type": "execute_result"
    }
   ],
   "source": [
    "mylist"
   ]
  },
  {
   "cell_type": "code",
   "execution_count": 25,
   "id": "9a606a72-86db-4523-82d1-d87d2eff5de2",
   "metadata": {},
   "outputs": [
    {
     "name": "stdout",
     "output_type": "stream",
     "text": [
      "8.974224328994751e-05\n"
     ]
    }
   ],
   "source": [
    "start=timer()\n",
    "mystring=''\n",
    "for i in mystring:\n",
    "    mystring +=i\n",
    "stop=timer()\n",
    "print(stop-start)"
   ]
  },
  {
   "cell_type": "code",
   "execution_count": 26,
   "id": "35df4ecc-5e0d-4bda-9643-9ce4279bf19c",
   "metadata": {},
   "outputs": [
    {
     "name": "stdout",
     "output_type": "stream",
     "text": [
      "aaaaaa\n",
      "0.00015850365161895752\n"
     ]
    }
   ],
   "source": [
    "start=timer()\n",
    "mystring=''.join(mylist)\n",
    "print(mystring)\n",
    "stop=timer()\n",
    "print(stop-start)"
   ]
  },
  {
   "cell_type": "code",
   "execution_count": 22,
   "id": "ac50c515-f8cf-4f82-88be-84ad36c6ccc0",
   "metadata": {},
   "outputs": [
    {
     "name": "stdout",
     "output_type": "stream",
     "text": [
      "aaaaaa\n"
     ]
    }
   ],
   "source": [
    "print(mystring)"
   ]
  },
  {
   "cell_type": "code",
   "execution_count": 24,
   "id": "ba99924a-831f-4b79-bbdb-885cf5e7da85",
   "metadata": {},
   "outputs": [],
   "source": [
    "from timeit import default_timer as timer"
   ]
  },
  {
   "cell_type": "code",
   "execution_count": null,
   "id": "ffd54241-90a9-4e04-b367-090efb7d93a7",
   "metadata": {},
   "outputs": [],
   "source": [
    "## Formatting strings,%,format(),f- strings "
   ]
  },
  {
   "cell_type": "code",
   "execution_count": null,
   "id": "5ad078c0-8b53-4610-9d9f-40bd276c717c",
   "metadata": {},
   "outputs": [],
   "source": []
  },
  {
   "cell_type": "code",
   "execution_count": null,
   "id": "8c78bf65-9aa1-43be-afc6-1b2c4004f0f4",
   "metadata": {},
   "outputs": [],
   "source": []
  },
  {
   "cell_type": "code",
   "execution_count": null,
   "id": "cc1478fe-1cb1-41fa-95fa-62a1475c845e",
   "metadata": {},
   "outputs": [],
   "source": []
  },
  {
   "cell_type": "code",
   "execution_count": null,
   "id": "9846818b-bf24-4d1f-9971-a37ca381c28e",
   "metadata": {},
   "outputs": [],
   "source": []
  },
  {
   "cell_type": "code",
   "execution_count": null,
   "id": "f4edc059-c894-4dbc-8a9e-71451d3c3913",
   "metadata": {},
   "outputs": [],
   "source": []
  },
  {
   "cell_type": "code",
   "execution_count": null,
   "id": "9043c58b-aa61-4e7c-824b-31a64b0c26d3",
   "metadata": {},
   "outputs": [],
   "source": []
  },
  {
   "cell_type": "code",
   "execution_count": null,
   "id": "68ef49e1-45fa-46a8-ad47-7e30ce49a365",
   "metadata": {},
   "outputs": [],
   "source": []
  },
  {
   "cell_type": "code",
   "execution_count": null,
   "id": "4ddbf9bb-5100-4839-aabc-8b8292f280ef",
   "metadata": {},
   "outputs": [],
   "source": []
  },
  {
   "cell_type": "code",
   "execution_count": null,
   "id": "a994219a-116c-4c33-894e-1890ec478f30",
   "metadata": {
    "tags": []
   },
   "outputs": [],
   "source": []
  }
 ],
 "metadata": {
  "kernelspec": {
   "display_name": "Python 3 (ipykernel)",
   "language": "python",
   "name": "python3"
  },
  "language_info": {
   "codemirror_mode": {
    "name": "ipython",
    "version": 3
   },
   "file_extension": ".py",
   "mimetype": "text/x-python",
   "name": "python",
   "nbconvert_exporter": "python",
   "pygments_lexer": "ipython3",
   "version": "3.10.8"
  }
 },
 "nbformat": 4,
 "nbformat_minor": 5
}

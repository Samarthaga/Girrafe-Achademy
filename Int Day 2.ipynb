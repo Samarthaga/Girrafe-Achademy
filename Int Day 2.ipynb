{
 "cells": [
  {
   "cell_type": "markdown",
   "id": "2923a6b6-15bf-4f49-9850-e238db6d7699",
   "metadata": {},
   "source": [
    "## Dictionaries"
   ]
  },
  {
   "cell_type": "code",
   "execution_count": 7,
   "id": "addee9be-b046-4764-a47c-cfee41158c9b",
   "metadata": {},
   "outputs": [],
   "source": [
    "mydict={'name':'samarth','age':28,'city':'newyork'}"
   ]
  },
  {
   "cell_type": "code",
   "execution_count": 2,
   "id": "e0ce22fd-bf59-4ec5-8609-461270235883",
   "metadata": {},
   "outputs": [
    {
     "data": {
      "text/plain": [
       "{'name': 'samarth', 'age': 28, 'city': 'newyork'}"
      ]
     },
     "execution_count": 2,
     "metadata": {},
     "output_type": "execute_result"
    }
   ],
   "source": [
    "mydict"
   ]
  },
  {
   "cell_type": "code",
   "execution_count": 5,
   "id": "6c38e618-8194-470b-b0c8-25601492efb4",
   "metadata": {},
   "outputs": [],
   "source": [
    "mydict2=dict(name='samarth',age='26',city='mumbai')"
   ]
  },
  {
   "cell_type": "code",
   "execution_count": 6,
   "id": "db314883-7a5f-4fbd-9d5f-9d110acb0eb6",
   "metadata": {},
   "outputs": [
    {
     "data": {
      "text/plain": [
       "{'name': 'samarth', 'age': '26', 'city': 'mumbai'}"
      ]
     },
     "execution_count": 6,
     "metadata": {},
     "output_type": "execute_result"
    }
   ],
   "source": [
    "mydict2"
   ]
  },
  {
   "cell_type": "code",
   "execution_count": 8,
   "id": "e8283bf4-9f0a-4854-881a-56444d8b849f",
   "metadata": {},
   "outputs": [],
   "source": [
    "mydict['email']='sjahvfv'"
   ]
  },
  {
   "cell_type": "code",
   "execution_count": 9,
   "id": "b27c94bf-c56d-4c66-9af3-820621dc0633",
   "metadata": {},
   "outputs": [
    {
     "name": "stdout",
     "output_type": "stream",
     "text": [
      "{'name': 'samarth', 'age': 28, 'city': 'newyork', 'email': 'sjahvfv'}\n"
     ]
    }
   ],
   "source": [
    "print(mydict)"
   ]
  },
  {
   "cell_type": "code",
   "execution_count": 10,
   "id": "23c1a139-4917-4f32-864d-e92fcfdfd893",
   "metadata": {},
   "outputs": [],
   "source": [
    "del mydict['name']"
   ]
  },
  {
   "cell_type": "code",
   "execution_count": 11,
   "id": "1227f2ef-7b22-4664-8c90-bfb134dc3e94",
   "metadata": {},
   "outputs": [
    {
     "data": {
      "text/plain": [
       "{'age': 28, 'city': 'newyork', 'email': 'sjahvfv'}"
      ]
     },
     "execution_count": 11,
     "metadata": {},
     "output_type": "execute_result"
    }
   ],
   "source": [
    "mydict"
   ]
  },
  {
   "cell_type": "code",
   "execution_count": 15,
   "id": "fc04da0d-c0cb-4d16-aa6d-566aa02c5adb",
   "metadata": {},
   "outputs": [
    {
     "name": "stdout",
     "output_type": "stream",
     "text": [
      "28\n"
     ]
    }
   ],
   "source": [
    "if 'age' in mydict:\n",
    "    print(mydict['age'])\n",
    "else :\n",
    "    print('no')"
   ]
  },
  {
   "cell_type": "code",
   "execution_count": 16,
   "id": "7a6e4c79-840e-49f5-a1a5-fb64991ed96d",
   "metadata": {},
   "outputs": [
    {
     "name": "stdout",
     "output_type": "stream",
     "text": [
      "error\n"
     ]
    }
   ],
   "source": [
    "try:\n",
    "    print(mydict['name'])\n",
    "except:\n",
    "    print('error')"
   ]
  },
  {
   "cell_type": "code",
   "execution_count": 18,
   "id": "8cdc62fb-004c-4375-9b7d-c8de1e8121fd",
   "metadata": {},
   "outputs": [
    {
     "name": "stdout",
     "output_type": "stream",
     "text": [
      "28\n"
     ]
    }
   ],
   "source": [
    "try:\n",
    "    print(mydict['age'])\n",
    "except:\n",
    "    print('error')"
   ]
  },
  {
   "cell_type": "markdown",
   "id": "cac929c0-e80b-4040-b602-071e8f8600ee",
   "metadata": {},
   "source": [
    "## Loops"
   ]
  },
  {
   "cell_type": "code",
   "execution_count": 21,
   "id": "5e572505-30e7-472b-9f5c-bc6b128e24cb",
   "metadata": {},
   "outputs": [
    {
     "name": "stdout",
     "output_type": "stream",
     "text": [
      "age\n",
      "city\n",
      "email\n"
     ]
    }
   ],
   "source": [
    "for i in mydict.keys():\n",
    "    print(i)"
   ]
  },
  {
   "cell_type": "code",
   "execution_count": 23,
   "id": "0eb41113-7aed-4a1e-9fef-5b5207760beb",
   "metadata": {},
   "outputs": [
    {
     "name": "stdout",
     "output_type": "stream",
     "text": [
      "age 28\n",
      "city newyork\n",
      "email sjahvfv\n"
     ]
    }
   ],
   "source": [
    "for i,j in mydict.items():\n",
    "    print(i,j)"
   ]
  },
  {
   "cell_type": "code",
   "execution_count": 24,
   "id": "87a057c3-32fc-4ab9-b7b7-18c05241ddac",
   "metadata": {},
   "outputs": [],
   "source": [
    "mydict_copy=mydict"
   ]
  },
  {
   "cell_type": "code",
   "execution_count": 25,
   "id": "61d6e3d4-8063-428b-9838-65138335f3c8",
   "metadata": {},
   "outputs": [
    {
     "data": {
      "text/plain": [
       "{'age': 28, 'city': 'newyork', 'email': 'sjahvfv'}"
      ]
     },
     "execution_count": 25,
     "metadata": {},
     "output_type": "execute_result"
    }
   ],
   "source": [
    "mydict_copy"
   ]
  },
  {
   "cell_type": "code",
   "execution_count": 26,
   "id": "c269aa84-9685-4734-8961-d6139c5eaa59",
   "metadata": {},
   "outputs": [],
   "source": [
    "mydict_copy['job']='kotak'"
   ]
  },
  {
   "cell_type": "code",
   "execution_count": 28,
   "id": "ecf792bb-080b-4ba3-b157-25163772431b",
   "metadata": {},
   "outputs": [
    {
     "data": {
      "text/plain": [
       "({'age': 28, 'city': 'newyork', 'email': 'sjahvfv', 'job': 'kotak'},\n",
       " {'age': 28, 'city': 'newyork', 'email': 'sjahvfv', 'job': 'kotak'})"
      ]
     },
     "execution_count": 28,
     "metadata": {},
     "output_type": "execute_result"
    }
   ],
   "source": [
    "mydict_copy,mydict ## copy function changes orignal table as well eithe use .copy() at the end for no changes to be applicable "
   ]
  },
  {
   "cell_type": "code",
   "execution_count": 30,
   "id": "677db206-a98d-47e2-a3e8-2321bc54729e",
   "metadata": {
    "jupyter": {
     "source_hidden": true
    },
    "tags": []
   },
   "outputs": [],
   "source": [
    "mydict1={'age': 28, 'city': 'newyork', 'email': 'sjahvfv', 'job': 'kotak'}\n",
    "mydict2=dict(name='pramit',age=26,city='mumbai')"
   ]
  },
  {
   "cell_type": "code",
   "execution_count": 31,
   "id": "e19c98bb-0b26-4329-ac51-81b764bc8fdf",
   "metadata": {},
   "outputs": [],
   "source": [
    "mydict2.update(mydict1)"
   ]
  },
  {
   "cell_type": "code",
   "execution_count": 33,
   "id": "118382fe-ea19-4a98-924c-ed92cfcfcf1b",
   "metadata": {},
   "outputs": [
    {
     "data": {
      "text/plain": [
       "{'age': 28, 'city': 'newyork', 'email': 'sjahvfv', 'job': 'kotak'}"
      ]
     },
     "execution_count": 33,
     "metadata": {},
     "output_type": "execute_result"
    }
   ],
   "source": [
    "mydict1"
   ]
  },
  {
   "cell_type": "code",
   "execution_count": 34,
   "id": "21b86d33-847f-4628-9091-fef140ff8736",
   "metadata": {},
   "outputs": [],
   "source": [
    "mydict={3:9,6:36,9:81}"
   ]
  },
  {
   "cell_type": "code",
   "execution_count": 35,
   "id": "c3daad72-573e-4750-a093-7d843f0bd2d2",
   "metadata": {},
   "outputs": [
    {
     "data": {
      "text/plain": [
       "{3: 9, 6: 36, 9: 81}"
      ]
     },
     "execution_count": 35,
     "metadata": {},
     "output_type": "execute_result"
    }
   ],
   "source": [
    "mydict"
   ]
  },
  {
   "cell_type": "code",
   "execution_count": 36,
   "id": "87b47216-c194-4b5f-903c-5a888d28bbe7",
   "metadata": {},
   "outputs": [],
   "source": [
    "value=mydict[3]"
   ]
  },
  {
   "cell_type": "code",
   "execution_count": 37,
   "id": "f7b470e3-678a-4772-9b80-bd492670e745",
   "metadata": {},
   "outputs": [
    {
     "data": {
      "text/plain": [
       "9"
      ]
     },
     "execution_count": 37,
     "metadata": {},
     "output_type": "execute_result"
    }
   ],
   "source": [
    "value"
   ]
  },
  {
   "cell_type": "code",
   "execution_count": 38,
   "id": "30aa0df8-3618-4af5-b560-b377e40eb889",
   "metadata": {},
   "outputs": [],
   "source": [
    "mytuple=(7,8)\n",
    "mydict={mytuple:15} ## tuple can be converted to dict"
   ]
  },
  {
   "cell_type": "code",
   "execution_count": 39,
   "id": "06206c4f-fe95-43c4-826b-9034dbef2e9b",
   "metadata": {},
   "outputs": [
    {
     "data": {
      "text/plain": [
       "{(7, 8): 15}"
      ]
     },
     "execution_count": 39,
     "metadata": {},
     "output_type": "execute_result"
    }
   ],
   "source": [
    "mydict"
   ]
  },
  {
   "cell_type": "markdown",
   "id": "9fa3430c-d1f3-4592-b702-a91fc6b3a33d",
   "metadata": {},
   "source": [
    "## Sets"
   ]
  },
  {
   "cell_type": "code",
   "execution_count": 1,
   "id": "6d4a5125-f18c-4516-8873-9118c96da4a6",
   "metadata": {},
   "outputs": [],
   "source": [
    "myset={1,2,3,4,5,6}"
   ]
  },
  {
   "cell_type": "code",
   "execution_count": 2,
   "id": "eca52860-aa55-4b3f-849b-4dbc0aff4f6e",
   "metadata": {},
   "outputs": [
    {
     "data": {
      "text/plain": [
       "{1, 2, 3, 4, 5, 6}"
      ]
     },
     "execution_count": 2,
     "metadata": {},
     "output_type": "execute_result"
    }
   ],
   "source": [
    "myset"
   ]
  },
  {
   "cell_type": "code",
   "execution_count": 3,
   "id": "3a6a79c8-36b3-4405-98a0-2b7f434e057d",
   "metadata": {},
   "outputs": [],
   "source": [
    "myset2={('hello')}"
   ]
  },
  {
   "cell_type": "code",
   "execution_count": 4,
   "id": "55741e06-1189-4c21-8a41-7a4e12eb6853",
   "metadata": {},
   "outputs": [
    {
     "data": {
      "text/plain": [
       "{'hello'}"
      ]
     },
     "execution_count": 4,
     "metadata": {},
     "output_type": "execute_result"
    }
   ],
   "source": [
    "myset2"
   ]
  },
  {
   "cell_type": "code",
   "execution_count": 5,
   "id": "2e80cc57-e156-4591-bb79-629736fc1fd2",
   "metadata": {},
   "outputs": [
    {
     "data": {
      "text/plain": [
       "1"
      ]
     },
     "execution_count": 5,
     "metadata": {},
     "output_type": "execute_result"
    }
   ],
   "source": [
    "len(myset2)"
   ]
  },
  {
   "cell_type": "code",
   "execution_count": 8,
   "id": "5f6c899a-c242-4ee9-ab54-a24dd8c47a75",
   "metadata": {},
   "outputs": [],
   "source": [
    "myset2.add(2)"
   ]
  },
  {
   "cell_type": "code",
   "execution_count": 9,
   "id": "f4e25d25-2cc4-4018-8328-bb030a8bc97c",
   "metadata": {},
   "outputs": [
    {
     "data": {
      "text/plain": [
       "{2, 'hello'}"
      ]
     },
     "execution_count": 9,
     "metadata": {},
     "output_type": "execute_result"
    }
   ],
   "source": [
    "myset2"
   ]
  },
  {
   "cell_type": "code",
   "execution_count": 10,
   "id": "3a4af968-d52d-4ba4-aee1-f9da6c73bec8",
   "metadata": {},
   "outputs": [],
   "source": [
    "myset2.discard(2)"
   ]
  },
  {
   "cell_type": "code",
   "execution_count": 11,
   "id": "2010ce59-3498-44c9-ab26-0bbb7b97f916",
   "metadata": {},
   "outputs": [
    {
     "data": {
      "text/plain": [
       "{'hello'}"
      ]
     },
     "execution_count": 11,
     "metadata": {},
     "output_type": "execute_result"
    }
   ],
   "source": [
    "myset2"
   ]
  },
  {
   "cell_type": "code",
   "execution_count": 12,
   "id": "3fd91c14-3005-42f2-8115-2dc61ab98a3f",
   "metadata": {},
   "outputs": [
    {
     "name": "stdout",
     "output_type": "stream",
     "text": [
      "1\n",
      "2\n",
      "3\n",
      "4\n",
      "5\n",
      "6\n"
     ]
    }
   ],
   "source": [
    "## iteration of sets \n",
    "for i in myset:\n",
    "    print(i)"
   ]
  },
  {
   "cell_type": "code",
   "execution_count": 13,
   "id": "9374b439-866a-449c-b540-89456b514b9b",
   "metadata": {},
   "outputs": [
    {
     "name": "stdout",
     "output_type": "stream",
     "text": [
      "yes\n"
     ]
    }
   ],
   "source": [
    "if 1 in myset:\n",
    "    print('yes')\n",
    "else:\n",
    "    print('no')"
   ]
  },
  {
   "cell_type": "code",
   "execution_count": 15,
   "id": "c9c80d57-8b52-40c4-b3ca-ad81f3774332",
   "metadata": {},
   "outputs": [],
   "source": [
    "## Union in sets \n",
    "odd={1,3,5,7,9}\n",
    "even={0,2,4,6,8}\n",
    "prime={2,3,5,7}"
   ]
  },
  {
   "cell_type": "code",
   "execution_count": 17,
   "id": "08fe8012-0468-4371-a18e-ca356c3914d2",
   "metadata": {},
   "outputs": [],
   "source": [
    "## Union combines 2 elements from 2 sets without duplication \n",
    "\n",
    "u=odd.union(even)"
   ]
  },
  {
   "cell_type": "code",
   "execution_count": 18,
   "id": "47ab1489-c711-4d00-9c0e-8f7c7c2c609d",
   "metadata": {},
   "outputs": [
    {
     "data": {
      "text/plain": [
       "{0, 1, 2, 3, 4, 5, 6, 7, 8, 9}"
      ]
     },
     "execution_count": 18,
     "metadata": {},
     "output_type": "execute_result"
    }
   ],
   "source": [
    "u"
   ]
  },
  {
   "cell_type": "code",
   "execution_count": 19,
   "id": "adae0aa9-4bfe-44e1-84e9-16543e9c499e",
   "metadata": {},
   "outputs": [],
   "source": [
    "i=odd.intersection(even)"
   ]
  },
  {
   "cell_type": "code",
   "execution_count": 23,
   "id": "e4893695-6aac-4ed3-8072-bdffdceee3b4",
   "metadata": {},
   "outputs": [
    {
     "data": {
      "text/plain": [
       "set()"
      ]
     },
     "execution_count": 23,
     "metadata": {},
     "output_type": "execute_result"
    }
   ],
   "source": [
    "(i)"
   ]
  },
  {
   "cell_type": "code",
   "execution_count": 24,
   "id": "4d3342ac-1c12-460a-89a1-fa468904595d",
   "metadata": {},
   "outputs": [],
   "source": [
    "j=odd.intersection(prime)"
   ]
  },
  {
   "cell_type": "code",
   "execution_count": 25,
   "id": "eeb538fc-1fbb-4a0d-833e-51d45f8d1cf4",
   "metadata": {},
   "outputs": [
    {
     "name": "stdout",
     "output_type": "stream",
     "text": [
      "{3, 5, 7}\n"
     ]
    }
   ],
   "source": [
    "print(j)"
   ]
  },
  {
   "cell_type": "code",
   "execution_count": 27,
   "id": "8889e70b-5add-4e9d-b2f5-692024e36d42",
   "metadata": {},
   "outputs": [],
   "source": [
    "## differece of 2 sets\n",
    "\n",
    "setA={1,2,3,4,5,6,7,8,9}\n",
    "setB={1,2,3,10,11,12}\n",
    "diff=setA.difference(setB)"
   ]
  },
  {
   "cell_type": "code",
   "execution_count": 32,
   "id": "44202c99-427e-4bfa-a797-4e8f55795bed",
   "metadata": {},
   "outputs": [
    {
     "name": "stdout",
     "output_type": "stream",
     "text": [
      "{4, 5, 6, 7, 8, 9}\n"
     ]
    }
   ],
   "source": [
    "print(diff)## set A output "
   ]
  },
  {
   "cell_type": "code",
   "execution_count": 33,
   "id": "65e86ffc-944c-4b42-83dd-3d1f165897fa",
   "metadata": {},
   "outputs": [
    {
     "data": {
      "text/plain": [
       "{10, 11, 12}"
      ]
     },
     "execution_count": 33,
     "metadata": {},
     "output_type": "execute_result"
    }
   ],
   "source": [
    "setB.difference(setA) ## set B output"
   ]
  },
  {
   "cell_type": "code",
   "execution_count": 36,
   "id": "0958f66b-4585-46fc-bd52-60e3ae0656c6",
   "metadata": {},
   "outputs": [],
   "source": [
    "diff2=setA.symmetric_difference(setB) ## diff from both sets are taken into consideration npt the same one  "
   ]
  },
  {
   "cell_type": "code",
   "execution_count": 35,
   "id": "2a4f863e-9138-433c-9a12-f7854381eff6",
   "metadata": {},
   "outputs": [
    {
     "data": {
      "text/plain": [
       "{4, 5, 6, 7, 8, 9, 10, 11, 12}"
      ]
     },
     "execution_count": 35,
     "metadata": {},
     "output_type": "execute_result"
    }
   ],
   "source": [
    "diff2"
   ]
  },
  {
   "cell_type": "code",
   "execution_count": 39,
   "id": "d44c6578-b729-43e0-9f25-561794ab5a2a",
   "metadata": {},
   "outputs": [],
   "source": [
    "setA.update(setB) ## All elements are added without duplication "
   ]
  },
  {
   "cell_type": "code",
   "execution_count": 38,
   "id": "2c20ecb4-24ee-44a0-9ace-10520691ff6a",
   "metadata": {},
   "outputs": [
    {
     "data": {
      "text/plain": [
       "{1, 2, 3, 4, 5, 6, 7, 8, 9, 10, 11, 12}"
      ]
     },
     "execution_count": 38,
     "metadata": {},
     "output_type": "execute_result"
    }
   ],
   "source": [
    "setA"
   ]
  },
  {
   "cell_type": "code",
   "execution_count": 40,
   "id": "ad04e218-6088-4a00-92c7-f801b5a0a94a",
   "metadata": {},
   "outputs": [],
   "source": [
    "setA.intersection_update(setB)"
   ]
  },
  {
   "cell_type": "code",
   "execution_count": 41,
   "id": "2d5a8331-bb5a-479c-bf44-2771d0dc4e35",
   "metadata": {},
   "outputs": [
    {
     "data": {
      "text/plain": [
       "{1, 2, 3, 10, 11, 12}"
      ]
     },
     "execution_count": 41,
     "metadata": {},
     "output_type": "execute_result"
    }
   ],
   "source": [
    "setA"
   ]
  },
  {
   "cell_type": "code",
   "execution_count": 42,
   "id": "cb179bce-c215-41d6-9bda-b085db7f46f6",
   "metadata": {},
   "outputs": [],
   "source": [
    "setA.difference_update(setB)"
   ]
  },
  {
   "cell_type": "code",
   "execution_count": 43,
   "id": "55653dff-62cd-4eb0-b817-05bfd374d075",
   "metadata": {},
   "outputs": [
    {
     "data": {
      "text/plain": [
       "set()"
      ]
     },
     "execution_count": 43,
     "metadata": {},
     "output_type": "execute_result"
    }
   ],
   "source": [
    "setA"
   ]
  },
  {
   "cell_type": "code",
   "execution_count": 46,
   "id": "83112417-753f-464e-b9f9-15601742308f",
   "metadata": {},
   "outputs": [],
   "source": [
    "setA={1,2,3,4,5,6}\n",
    "setB={1,2,3,}"
   ]
  },
  {
   "cell_type": "code",
   "execution_count": 47,
   "id": "d0c8ffc7-4861-422b-add2-e5a3b7d55557",
   "metadata": {},
   "outputs": [
    {
     "data": {
      "text/plain": [
       "False"
      ]
     },
     "execution_count": 47,
     "metadata": {},
     "output_type": "execute_result"
    }
   ],
   "source": [
    "setA.issubset(setB)"
   ]
  },
  {
   "cell_type": "code",
   "execution_count": 49,
   "id": "e1500b65-0f1a-4b6a-b635-163232f461f0",
   "metadata": {},
   "outputs": [
    {
     "data": {
      "text/plain": [
       "True"
      ]
     },
     "execution_count": 49,
     "metadata": {},
     "output_type": "execute_result"
    }
   ],
   "source": [
    "setB.issubset(setA) ## all elemets of b is in set A"
   ]
  },
  {
   "cell_type": "code",
   "execution_count": 50,
   "id": "b636464c-384f-47eb-991e-72eed97685b9",
   "metadata": {},
   "outputs": [
    {
     "data": {
      "text/plain": [
       "False"
      ]
     },
     "execution_count": 50,
     "metadata": {},
     "output_type": "execute_result"
    }
   ],
   "source": [
    "setB.issuperset(setA)"
   ]
  },
  {
   "cell_type": "code",
   "execution_count": 51,
   "id": "e8d74f85-dd6c-432a-a212-56961c642629",
   "metadata": {},
   "outputs": [
    {
     "data": {
      "text/plain": [
       "True"
      ]
     },
     "execution_count": 51,
     "metadata": {},
     "output_type": "execute_result"
    }
   ],
   "source": [
    "setA.issuperset(setB)"
   ]
  },
  {
   "cell_type": "code",
   "execution_count": 52,
   "id": "3e390799-9b5a-4ff1-bf21-6d56f84ea1a6",
   "metadata": {},
   "outputs": [
    {
     "data": {
      "text/plain": [
       "False"
      ]
     },
     "execution_count": 52,
     "metadata": {},
     "output_type": "execute_result"
    }
   ],
   "source": [
    "setA.isdisjoint(setB)"
   ]
  },
  {
   "cell_type": "code",
   "execution_count": 53,
   "id": "0d67223c-a1fb-4d61-901f-cfff293bd2a1",
   "metadata": {},
   "outputs": [
    {
     "data": {
      "text/plain": [
       "False"
      ]
     },
     "execution_count": 53,
     "metadata": {},
     "output_type": "execute_result"
    }
   ],
   "source": [
    "setB.isdisjoint(setA)"
   ]
  },
  {
   "cell_type": "code",
   "execution_count": 54,
   "id": "f8277054-2cd9-4931-bec6-c483642fcafa",
   "metadata": {},
   "outputs": [],
   "source": [
    "Setc={7,8}"
   ]
  },
  {
   "cell_type": "code",
   "execution_count": 56,
   "id": "5c80a8c7-27f4-4c08-81cc-b8b5c34da253",
   "metadata": {},
   "outputs": [
    {
     "data": {
      "text/plain": [
       "True"
      ]
     },
     "execution_count": 56,
     "metadata": {},
     "output_type": "execute_result"
    }
   ],
   "source": [
    "setA.isdisjoint(Setc)"
   ]
  },
  {
   "cell_type": "code",
   "execution_count": 57,
   "id": "d31c7452-2c4b-4455-b9ad-bb291159c46f",
   "metadata": {},
   "outputs": [],
   "source": [
    "setD={4,5,6}"
   ]
  },
  {
   "cell_type": "code",
   "execution_count": 58,
   "id": "3296119c-20d7-4f7d-a453-aa1da3edee8e",
   "metadata": {},
   "outputs": [
    {
     "data": {
      "text/plain": [
       "True"
      ]
     },
     "execution_count": 58,
     "metadata": {},
     "output_type": "execute_result"
    }
   ],
   "source": [
    "setB.isdisjoint(setD)"
   ]
  },
  {
   "cell_type": "code",
   "execution_count": 59,
   "id": "05148c70-7bf9-46e8-ad2f-c9ece57ee2ed",
   "metadata": {},
   "outputs": [],
   "source": [
    "setA={1,2,3,4,5,6}"
   ]
  },
  {
   "cell_type": "code",
   "execution_count": 60,
   "id": "4a1fff59-9d0e-4cb7-9773-5fb11f0f1364",
   "metadata": {},
   "outputs": [],
   "source": [
    "setB=setA"
   ]
  },
  {
   "cell_type": "code",
   "execution_count": 62,
   "id": "ec98c9db-2d30-42d6-bfb3-434ad2051468",
   "metadata": {},
   "outputs": [
    {
     "data": {
      "text/plain": [
       "{1, 2, 3, 4, 5, 6}"
      ]
     },
     "execution_count": 62,
     "metadata": {},
     "output_type": "execute_result"
    }
   ],
   "source": [
    "setB"
   ]
  },
  {
   "cell_type": "code",
   "execution_count": 63,
   "id": "bb6f49ed-c4f3-4de4-82b5-80b3e1864d16",
   "metadata": {},
   "outputs": [],
   "source": [
    "setB.add(7)"
   ]
  },
  {
   "cell_type": "code",
   "execution_count": 64,
   "id": "1f1720d3-b328-4eea-b703-29ed65ed3fb4",
   "metadata": {},
   "outputs": [
    {
     "data": {
      "text/plain": [
       "({1, 2, 3, 4, 5, 6, 7}, {1, 2, 3, 4, 5, 6, 7})"
      ]
     },
     "execution_count": 64,
     "metadata": {},
     "output_type": "execute_result"
    }
   ],
   "source": [
    "setB,setA"
   ]
  },
  {
   "cell_type": "code",
   "execution_count": 66,
   "id": "503b87bb-fa6e-41a2-9f36-0d5b176f9d91",
   "metadata": {},
   "outputs": [],
   "source": [
    "## frozen set\n",
    "a=frozenset([1,2,4,5])"
   ]
  },
  {
   "cell_type": "code",
   "execution_count": 67,
   "id": "accb289f-1fa8-4a46-b93f-f764009b1067",
   "metadata": {},
   "outputs": [
    {
     "data": {
      "text/plain": [
       "frozenset({1, 2, 4, 5})"
      ]
     },
     "execution_count": 67,
     "metadata": {},
     "output_type": "execute_result"
    }
   ],
   "source": [
    "a"
   ]
  },
  {
   "cell_type": "code",
   "execution_count": 69,
   "id": "5dac399f-6fe7-4738-8c2e-c39ffd8b0c8f",
   "metadata": {},
   "outputs": [
    {
     "ename": "AttributeError",
     "evalue": "'frozenset' object has no attribute 'add'",
     "output_type": "error",
     "traceback": [
      "\u001b[0;31m---------------------------------------------------------------------------\u001b[0m",
      "\u001b[0;31mAttributeError\u001b[0m                            Traceback (most recent call last)",
      "Cell \u001b[0;32mIn[69], line 1\u001b[0m\n\u001b[0;32m----> 1\u001b[0m \u001b[43ma\u001b[49m\u001b[38;5;241;43m.\u001b[39;49m\u001b[43madd\u001b[49m(\u001b[38;5;241m2\u001b[39m) \u001b[38;5;66;03m## frozen set does not make addition , remove,update possible \u001b[39;00m\n",
      "\u001b[0;31mAttributeError\u001b[0m: 'frozenset' object has no attribute 'add'"
     ]
    }
   ],
   "source": [
    "a.add(2) ## frozen set does not make addition , remove,update possible "
   ]
  },
  {
   "cell_type": "code",
   "execution_count": null,
   "id": "5f368edc-63f9-42dd-9a8d-2adee3f07553",
   "metadata": {},
   "outputs": [],
   "source": []
  },
  {
   "cell_type": "code",
   "execution_count": null,
   "id": "a00e9ef5-02cf-49ed-8abf-0a3dcc1f3830",
   "metadata": {},
   "outputs": [],
   "source": []
  },
  {
   "cell_type": "code",
   "execution_count": null,
   "id": "500ccde2-499e-49e4-9f14-25d06fd524a1",
   "metadata": {},
   "outputs": [],
   "source": []
  }
 ],
 "metadata": {
  "kernelspec": {
   "display_name": "Python 3 (ipykernel)",
   "language": "python",
   "name": "python3"
  },
  "language_info": {
   "codemirror_mode": {
    "name": "ipython",
    "version": 3
   },
   "file_extension": ".py",
   "mimetype": "text/x-python",
   "name": "python",
   "nbconvert_exporter": "python",
   "pygments_lexer": "ipython3",
   "version": "3.10.8"
  }
 },
 "nbformat": 4,
 "nbformat_minor": 5
}

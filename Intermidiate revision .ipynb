{
 "cells": [
  {
   "cell_type": "code",
   "execution_count": 1,
   "id": "d7be1f7b-bc40-4596-9856-c65845ac0be2",
   "metadata": {},
   "outputs": [],
   "source": [
    "# List is mutable ,ordered, allos duplicate elements "
   ]
  },
  {
   "cell_type": "code",
   "execution_count": 2,
   "id": "3440fe5d-a3e7-47a5-8e65-3aaf85186320",
   "metadata": {},
   "outputs": [
    {
     "name": "stdout",
     "output_type": "stream",
     "text": [
      "['banana', 'cherry', 'apple']\n"
     ]
    }
   ],
   "source": [
    "mylist=['banana','cherry','apple']\n",
    "print(mylist)"
   ]
  },
  {
   "cell_type": "code",
   "execution_count": 5,
   "id": "40c506cd-6ae6-4e5a-82ed-86f4e880ccde",
   "metadata": {},
   "outputs": [],
   "source": [
    "mylist2=list['']"
   ]
  },
  {
   "cell_type": "code",
   "execution_count": 6,
   "id": "ef0859cd-5642-4330-a187-8f010ca8eff3",
   "metadata": {},
   "outputs": [
    {
     "data": {
      "text/plain": [
       "list['']"
      ]
     },
     "execution_count": 6,
     "metadata": {},
     "output_type": "execute_result"
    }
   ],
   "source": [
    "mylist2"
   ]
  },
  {
   "cell_type": "code",
   "execution_count": 45,
   "id": "805fa74c-8deb-498d-98fc-3ea6769ce852",
   "metadata": {},
   "outputs": [],
   "source": [
    "mylist2=[5,True,'apple','apple']"
   ]
  },
  {
   "cell_type": "code",
   "execution_count": 8,
   "id": "208fa2f9-2565-43e0-a588-2b66a3709f0d",
   "metadata": {},
   "outputs": [
    {
     "data": {
      "text/plain": [
       "5"
      ]
     },
     "execution_count": 8,
     "metadata": {},
     "output_type": "execute_result"
    }
   ],
   "source": [
    "mylist2[0]"
   ]
  },
  {
   "cell_type": "code",
   "execution_count": 9,
   "id": "ed86fad0-a52e-4303-b947-15646b08a674",
   "metadata": {},
   "outputs": [
    {
     "data": {
      "text/plain": [
       "'apple'"
      ]
     },
     "execution_count": 9,
     "metadata": {},
     "output_type": "execute_result"
    }
   ],
   "source": [
    "mylist2[3]"
   ]
  },
  {
   "cell_type": "code",
   "execution_count": 10,
   "id": "729e0faf-ad74-4e2b-b3ca-ff6cf80dd4a9",
   "metadata": {},
   "outputs": [
    {
     "data": {
      "text/plain": [
       "'apple'"
      ]
     },
     "execution_count": 10,
     "metadata": {},
     "output_type": "execute_result"
    }
   ],
   "source": [
    "mylist2[-1]"
   ]
  },
  {
   "cell_type": "code",
   "execution_count": 15,
   "id": "0c71358f-300b-4c43-b0b1-c294ed5c941d",
   "metadata": {},
   "outputs": [
    {
     "name": "stdout",
     "output_type": "stream",
     "text": [
      "5\n",
      "True\n",
      "apple\n",
      "apple\n"
     ]
    }
   ],
   "source": [
    "## iternation \n",
    "for i in mylist2:\n",
    "    print(i)"
   ]
  },
  {
   "cell_type": "code",
   "execution_count": 18,
   "id": "92f7f426-a4cb-4e63-ac8e-ce7ff258bf2c",
   "metadata": {},
   "outputs": [
    {
     "name": "stdout",
     "output_type": "stream",
     "text": [
      "yes\n"
     ]
    }
   ],
   "source": [
    "if 'apple' in mylist2:\n",
    "    print('yes')\n",
    "else:\n",
    "    print('item not found')"
   ]
  },
  {
   "cell_type": "code",
   "execution_count": 19,
   "id": "e9359333-1a85-4181-84d6-30981a680b26",
   "metadata": {},
   "outputs": [
    {
     "name": "stdout",
     "output_type": "stream",
     "text": [
      "item not found\n"
     ]
    }
   ],
   "source": [
    "if 'banana' in mylist2:\n",
    "    print('yes')\n",
    "else:\n",
    "    print('item not found')"
   ]
  },
  {
   "cell_type": "code",
   "execution_count": 20,
   "id": "7f6d2579-6bcd-4917-8b5b-268461f36de6",
   "metadata": {},
   "outputs": [
    {
     "data": {
      "text/plain": [
       "4"
      ]
     },
     "execution_count": 20,
     "metadata": {},
     "output_type": "execute_result"
    }
   ],
   "source": [
    "len(mylist2)"
   ]
  },
  {
   "cell_type": "code",
   "execution_count": 22,
   "id": "6ecbf6b6-4533-496a-a56d-c04084015476",
   "metadata": {},
   "outputs": [
    {
     "name": "stdout",
     "output_type": "stream",
     "text": [
      "[5, True, 'apple', 'apple', 'apple', 'apple']\n"
     ]
    }
   ],
   "source": [
    "mylist2.append('apple')\n",
    "print(mylist2)"
   ]
  },
  {
   "cell_type": "code",
   "execution_count": 25,
   "id": "bedf5009-c558-4124-b684-abc396d64b67",
   "metadata": {},
   "outputs": [
    {
     "name": "stdout",
     "output_type": "stream",
     "text": [
      "[5, 'blueberry', 'blueberry', True, 'apple', 'apple', 'apple', 'apple']\n"
     ]
    }
   ],
   "source": [
    "## indexing\n",
    "mylist2.insert(1,'blueberry')\n",
    "print(mylist2)"
   ]
  },
  {
   "cell_type": "code",
   "execution_count": 27,
   "id": "d9836c0f-4def-49ad-90c5-a40889970509",
   "metadata": {},
   "outputs": [
    {
     "data": {
      "text/plain": [
       "'apple'"
      ]
     },
     "execution_count": 27,
     "metadata": {},
     "output_type": "execute_result"
    }
   ],
   "source": [
    "mylist2.pop()"
   ]
  },
  {
   "cell_type": "code",
   "execution_count": 28,
   "id": "0315dd4c-b484-419a-8015-b6b4f29caaa6",
   "metadata": {},
   "outputs": [
    {
     "data": {
      "text/plain": [
       "[5, 'blueberry', 'blueberry', True, 'apple', 'apple', 'apple']"
      ]
     },
     "execution_count": 28,
     "metadata": {},
     "output_type": "execute_result"
    }
   ],
   "source": [
    "mylist2"
   ]
  },
  {
   "cell_type": "code",
   "execution_count": 29,
   "id": "fd93740d-c8bc-4ca4-b5a9-5e133ff52f97",
   "metadata": {},
   "outputs": [
    {
     "name": "stdout",
     "output_type": "stream",
     "text": [
      "[5, 'blueberry', 'blueberry', True, 'apple', 'apple', 'apple']\n"
     ]
    }
   ],
   "source": [
    "print(mylist2)"
   ]
  },
  {
   "cell_type": "code",
   "execution_count": 30,
   "id": "586eb5d4-4f7b-47d7-9abc-2b04721ffdac",
   "metadata": {},
   "outputs": [],
   "source": [
    "mylist2.remove('apple')"
   ]
  },
  {
   "cell_type": "code",
   "execution_count": 31,
   "id": "a4de85c5-0e62-41f3-8aae-03975c24cc88",
   "metadata": {},
   "outputs": [
    {
     "data": {
      "text/plain": [
       "[5, 'blueberry', 'blueberry', True, 'apple', 'apple']"
      ]
     },
     "execution_count": 31,
     "metadata": {},
     "output_type": "execute_result"
    }
   ],
   "source": [
    "mylist2"
   ]
  },
  {
   "cell_type": "code",
   "execution_count": 32,
   "id": "75a6d27a-622a-46f2-852e-3abf4bd79851",
   "metadata": {},
   "outputs": [],
   "source": [
    "mylist2.reverse()"
   ]
  },
  {
   "cell_type": "code",
   "execution_count": 33,
   "id": "3decd0ee-5a83-4ee9-8e48-ad95b622d992",
   "metadata": {},
   "outputs": [
    {
     "data": {
      "text/plain": [
       "['apple', 'apple', True, 'blueberry', 'blueberry', 5]"
      ]
     },
     "execution_count": 33,
     "metadata": {},
     "output_type": "execute_result"
    }
   ],
   "source": [
    "mylist2"
   ]
  },
  {
   "cell_type": "code",
   "execution_count": 41,
   "id": "0594e780-dc45-4a28-9a26-9d79a299947d",
   "metadata": {},
   "outputs": [
    {
     "data": {
      "text/plain": [
       "[64, 646, 683, 3265, 469461, 6546489]"
      ]
     },
     "execution_count": 41,
     "metadata": {},
     "output_type": "execute_result"
    }
   ],
   "source": [
    "list3=[\n",
    "    3265,6546489,469461,64,646,683]\n",
    "list3.sort()\n",
    "list3"
   ]
  },
  {
   "cell_type": "code",
   "execution_count": 42,
   "id": "6c1cfd21-d9d1-41b3-973d-d208bf093a93",
   "metadata": {},
   "outputs": [],
   "source": [
    "new_list=sorted(list3)"
   ]
  },
  {
   "cell_type": "code",
   "execution_count": 43,
   "id": "789f3259-9654-45d7-91c9-e3744f8ae13c",
   "metadata": {},
   "outputs": [
    {
     "data": {
      "text/plain": [
       "[64, 646, 683, 3265, 469461, 6546489]"
      ]
     },
     "execution_count": 43,
     "metadata": {},
     "output_type": "execute_result"
    }
   ],
   "source": [
    "new_list"
   ]
  },
  {
   "cell_type": "code",
   "execution_count": 46,
   "id": "4a673def-a0d4-4b88-bf21-7346fa335bcd",
   "metadata": {},
   "outputs": [],
   "source": [
    "mylist3=[0]*5"
   ]
  },
  {
   "cell_type": "code",
   "execution_count": 47,
   "id": "6b3b7ab5-5c78-464e-94fa-48e4253c1c0e",
   "metadata": {},
   "outputs": [
    {
     "data": {
      "text/plain": [
       "[0, 0, 0, 0, 0]"
      ]
     },
     "execution_count": 47,
     "metadata": {},
     "output_type": "execute_result"
    }
   ],
   "source": [
    "mylist3"
   ]
  },
  {
   "cell_type": "code",
   "execution_count": 49,
   "id": "ac4a8f5a-4b00-4d0a-91d6-bef5e1a8067f",
   "metadata": {},
   "outputs": [],
   "source": [
    "concat_list=mylist2+mylist3"
   ]
  },
  {
   "cell_type": "code",
   "execution_count": 50,
   "id": "0df01ea1-7246-4d24-a3ce-09a31de14da5",
   "metadata": {},
   "outputs": [
    {
     "data": {
      "text/plain": [
       "[5, True, 'apple', 'apple', 0, 0, 0, 0, 0]"
      ]
     },
     "execution_count": 50,
     "metadata": {},
     "output_type": "execute_result"
    }
   ],
   "source": [
    "concat_list"
   ]
  },
  {
   "cell_type": "code",
   "execution_count": null,
   "id": "c92497c7-066d-488b-b6d2-e3ea39f8a51c",
   "metadata": {},
   "outputs": [
    {
     "name": "stdout",
     "output_type": "stream",
     "text": [
      "[2, 1]\n"
     ]
    }
   ],
   "source": [
    "# Slicing \n",
    "\n",
    "lst=[1,2,3,4,5,6,7,8,9]\n",
    "a=lst[1:5]\n",
    "print(a)"
   ]
  },
  {
   "cell_type": "code",
   "execution_count": 55,
   "id": "2193e3a3-daf5-4303-80c5-64adbbdf7540",
   "metadata": {},
   "outputs": [
    {
     "name": "stdout",
     "output_type": "stream",
     "text": [
      "[2, 1]\n"
     ]
    }
   ],
   "source": [
    "lst=[1,2,3,4,5,6,7,8,9]\n",
    "a=lst[1::-1]\n",
    "print(a)"
   ]
  },
  {
   "cell_type": "code",
   "execution_count": 56,
   "id": "1c470958-0282-4652-a0a5-5f65126d1a87",
   "metadata": {},
   "outputs": [
    {
     "name": "stdout",
     "output_type": "stream",
     "text": [
      "[1, 3, 5, 7, 9]\n"
     ]
    }
   ],
   "source": [
    "lst=[1,2,3,4,5,6,7,8,9]\n",
    "a=lst[::2]\n",
    "print(a)"
   ]
  },
  {
   "cell_type": "code",
   "execution_count": 57,
   "id": "ae2d3ead-f5be-4426-b089-a90d22ca47ad",
   "metadata": {},
   "outputs": [
    {
     "name": "stdout",
     "output_type": "stream",
     "text": [
      "[1, 2, 3, 4, 5, 6, 7, 8, 9]\n"
     ]
    }
   ],
   "source": [
    "lst=[1,2,3,4,5,6,7,8,9]\n",
    "a=lst[::1]\n",
    "print(a)"
   ]
  },
  {
   "cell_type": "code",
   "execution_count": 63,
   "id": "a0a9eb11-134c-4175-941b-c973eddd4326",
   "metadata": {},
   "outputs": [
    {
     "name": "stdout",
     "output_type": "stream",
     "text": [
      "['banana', 'cherry', 'apple']\n"
     ]
    }
   ],
   "source": [
    "## Copy \n",
    "list_org=['banana','cherry','apple']\n",
    "list_cpy=list_org.copy()\n",
    "\n",
    "print(list_cpy)"
   ]
  },
  {
   "cell_type": "code",
   "execution_count": 64,
   "id": "e2c7f175-c8d5-4c2e-bf2e-353f9c0f77ff",
   "metadata": {},
   "outputs": [
    {
     "name": "stdout",
     "output_type": "stream",
     "text": [
      "['banana', 'cherry', 'apple', 'orange']\n",
      "['banana', 'cherry', 'apple']\n"
     ]
    }
   ],
   "source": [
    "list_cpy.append('orange')\n",
    "print(list_cpy)\n",
    "print(list_org)"
   ]
  },
  {
   "cell_type": "code",
   "execution_count": 70,
   "id": "d632a0bd-2501-466b-b9c0-02eaa1fe3a6a",
   "metadata": {},
   "outputs": [
    {
     "name": "stdout",
     "output_type": "stream",
     "text": [
      "[1, 2, 3, 4, 5, 6, 78, 9]\n",
      "[1, 8, 27, 64, 125, 216, 474552, 729]\n"
     ]
    }
   ],
   "source": [
    "num=[1,2,3,4,5,6,78,9]\n",
    "cube=[i*i*i for i in num]\n",
    "print(num)\n",
    "print(cube)"
   ]
  },
  {
   "cell_type": "markdown",
   "id": "c171bc58-a6bc-4d6b-8108-bd32d65b80fd",
   "metadata": {
    "tags": []
   },
   "source": [
    "## Tuples- ordered and immutable "
   ]
  },
  {
   "cell_type": "code",
   "execution_count": 72,
   "id": "917fb7ae-9555-4ce2-a1fb-ca4a352a59f2",
   "metadata": {},
   "outputs": [
    {
     "name": "stdout",
     "output_type": "stream",
     "text": [
      "('max', 28, 'boston')\n"
     ]
    }
   ],
   "source": [
    "mytuple=('max',28,'boston')\n",
    "print(mytuple)"
   ]
  },
  {
   "cell_type": "code",
   "execution_count": 73,
   "id": "7d6f6c49-d2a8-4652-a2ae-c959ec47ef4d",
   "metadata": {},
   "outputs": [],
   "source": [
    "mytuple2=(['max',28,'bostom'])"
   ]
  },
  {
   "cell_type": "code",
   "execution_count": 74,
   "id": "4e4187b8-be38-4492-927e-cfd3a10e923c",
   "metadata": {},
   "outputs": [
    {
     "data": {
      "text/plain": [
       "['max', 28, 'bostom']"
      ]
     },
     "execution_count": 74,
     "metadata": {},
     "output_type": "execute_result"
    }
   ],
   "source": [
    "mytuple2"
   ]
  },
  {
   "cell_type": "code",
   "execution_count": 75,
   "id": "bcda4fbb-42e5-4d5d-9b75-c8c1128b0b5f",
   "metadata": {},
   "outputs": [
    {
     "data": {
      "text/plain": [
       "list"
      ]
     },
     "execution_count": 75,
     "metadata": {},
     "output_type": "execute_result"
    }
   ],
   "source": [
    "type(mytuple2)"
   ]
  },
  {
   "cell_type": "code",
   "execution_count": 76,
   "id": "3942c578-c0a6-4e71-aa1b-5864389b0482",
   "metadata": {},
   "outputs": [
    {
     "data": {
      "text/plain": [
       "tuple"
      ]
     },
     "execution_count": 76,
     "metadata": {},
     "output_type": "execute_result"
    }
   ],
   "source": [
    "type(mytuple)"
   ]
  },
  {
   "cell_type": "code",
   "execution_count": 77,
   "id": "e7c41f2b-1ebe-40eb-ae26-e18f57646706",
   "metadata": {},
   "outputs": [
    {
     "name": "stdout",
     "output_type": "stream",
     "text": [
      "bostom\n"
     ]
    }
   ],
   "source": [
    "item=mytuple2[2]\n",
    "print(item)"
   ]
  },
  {
   "cell_type": "code",
   "execution_count": 78,
   "id": "3b9f39b3-1d8f-40ef-99aa-529b5dc1748d",
   "metadata": {},
   "outputs": [],
   "source": [
    "## we cannot change the items in the tuple as it is immutable "
   ]
  },
  {
   "cell_type": "code",
   "execution_count": 83,
   "id": "c2269a1f-5b7e-48b3-9a55-fa46abb46bff",
   "metadata": {},
   "outputs": [
    {
     "name": "stdout",
     "output_type": "stream",
     "text": [
      "max\n",
      "28\n",
      "bostom\n"
     ]
    }
   ],
   "source": [
    "for i in mytuple2:\n",
    "    print(i)\n",
    "    "
   ]
  },
  {
   "cell_type": "code",
   "execution_count": 84,
   "id": "20317b38-e195-4d6a-855b-b20a0e64e90c",
   "metadata": {},
   "outputs": [
    {
     "name": "stdout",
     "output_type": "stream",
     "text": [
      "yes\n"
     ]
    }
   ],
   "source": [
    "if 'max' in mytuple2:\n",
    "    print('yes')\n",
    "else:\n",
    "    print('npo')"
   ]
  },
  {
   "cell_type": "code",
   "execution_count": 85,
   "id": "f5fd4116-a56b-48b9-bc81-b051f402443e",
   "metadata": {},
   "outputs": [
    {
     "name": "stdout",
     "output_type": "stream",
     "text": [
      "npo\n"
     ]
    }
   ],
   "source": [
    "if 'revision' in mytuple2:\n",
    "    print('yes')\n",
    "else:\n",
    "    print('npo')"
   ]
  },
  {
   "cell_type": "code",
   "execution_count": 86,
   "id": "005a574b-607f-422d-90ed-9cc94669c64d",
   "metadata": {},
   "outputs": [
    {
     "data": {
      "text/plain": [
       "3"
      ]
     },
     "execution_count": 86,
     "metadata": {},
     "output_type": "execute_result"
    }
   ],
   "source": [
    "len(mytuple2)"
   ]
  },
  {
   "cell_type": "code",
   "execution_count": 91,
   "id": "8f961568-7b7a-43c3-abce-aded860ec9c3",
   "metadata": {},
   "outputs": [
    {
     "name": "stdout",
     "output_type": "stream",
     "text": [
      "0\n"
     ]
    }
   ],
   "source": [
    "print(mytuple2.count('x'))"
   ]
  },
  {
   "cell_type": "code",
   "execution_count": 94,
   "id": "515955ba-7f22-4b39-bd57-cd274069e957",
   "metadata": {},
   "outputs": [],
   "source": [
    "mylist=list(mytuple2)"
   ]
  },
  {
   "cell_type": "code",
   "execution_count": 95,
   "id": "7d79efac-a4bf-4f62-9d28-780de5c6f48d",
   "metadata": {},
   "outputs": [
    {
     "data": {
      "text/plain": [
       "['max', 28, 'bostom']"
      ]
     },
     "execution_count": 95,
     "metadata": {},
     "output_type": "execute_result"
    }
   ],
   "source": [
    "mylist"
   ]
  },
  {
   "cell_type": "code",
   "execution_count": 96,
   "id": "9877489a-0c2d-4690-bed4-f5d09a6fde25",
   "metadata": {},
   "outputs": [],
   "source": [
    "mylist=tuple(mylist)"
   ]
  },
  {
   "cell_type": "code",
   "execution_count": 97,
   "id": "13ce5643-304f-44fc-b900-d1484f53f636",
   "metadata": {},
   "outputs": [
    {
     "data": {
      "text/plain": [
       "('max', 28, 'bostom')"
      ]
     },
     "execution_count": 97,
     "metadata": {},
     "output_type": "execute_result"
    }
   ],
   "source": [
    "mylist\n"
   ]
  },
  {
   "cell_type": "code",
   "execution_count": 99,
   "id": "843827dc-4c18-4be1-b129-513c8b1735b2",
   "metadata": {},
   "outputs": [
    {
     "name": "stdout",
     "output_type": "stream",
     "text": [
      "(3, 4, 5, 6)\n"
     ]
    }
   ],
   "source": [
    "a=(1,2,3,4,5,6,7,8,9)\n",
    "b=a[2:6]\n",
    "print(b)"
   ]
  },
  {
   "cell_type": "code",
   "execution_count": 101,
   "id": "127f216b-9a1b-4d99-8fd6-c770ce192cc8",
   "metadata": {},
   "outputs": [
    {
     "name": "stdout",
     "output_type": "stream",
     "text": [
      "(1, 3, 5, 7, 9)\n"
     ]
    }
   ],
   "source": [
    "b=a[::2]\n",
    "print(b)"
   ]
  },
  {
   "cell_type": "code",
   "execution_count": 102,
   "id": "87addbed-bc91-4948-a5cb-bdefbe11ee2f",
   "metadata": {},
   "outputs": [],
   "source": [
    "my_tuple='Max',28,'bostom'"
   ]
  },
  {
   "cell_type": "code",
   "execution_count": 103,
   "id": "d477018d-c431-4448-b62b-6c52cbab0d2b",
   "metadata": {},
   "outputs": [
    {
     "name": "stdout",
     "output_type": "stream",
     "text": [
      "Max 28 bostom\n"
     ]
    }
   ],
   "source": [
    "name,age,city=my_tuple\n",
    "print(name,age,city)"
   ]
  },
  {
   "cell_type": "code",
   "execution_count": 106,
   "id": "00f67a5c-fa28-4e31-ba7f-22001d118745",
   "metadata": {},
   "outputs": [
    {
     "name": "stdout",
     "output_type": "stream",
     "text": [
      "0\n",
      "9\n"
     ]
    }
   ],
   "source": [
    "my_tuple2=(0,1,2,3,4,5,6,7,8,9)\n",
    "i1,*i2,i3=my_tuple2\n",
    "print(i1)\n",
    "print(i3)"
   ]
  },
  {
   "cell_type": "code",
   "execution_count": 107,
   "id": "9b347aeb-d809-48cd-a2ec-f2fc5bc239d7",
   "metadata": {},
   "outputs": [
    {
     "name": "stdout",
     "output_type": "stream",
     "text": [
      "[1, 2, 3, 4, 5, 6, 7, 8]\n"
     ]
    }
   ],
   "source": [
    "print(i2)"
   ]
  },
  {
   "cell_type": "code",
   "execution_count": 109,
   "id": "9c2790c2-30db-429f-8e4a-1736b827790e",
   "metadata": {},
   "outputs": [
    {
     "name": "stdout",
     "output_type": "stream",
     "text": [
      "104 bytes\n",
      "80 bytes\n"
     ]
    }
   ],
   "source": [
    "import sys\n",
    "my_list=[0,1,2,'hello',True]\n",
    "my_tuple=(0,1,2,'hello',True)\n",
    "print(sys.getsizeof(my_list),'bytes')\n",
    "print(sys.getsizeof(my_tuple),'bytes')"
   ]
  },
  {
   "cell_type": "code",
   "execution_count": 110,
   "id": "265fdcdc-5138-4f4e-a173-2db7c1831a78",
   "metadata": {},
   "outputs": [],
   "source": [
    "## list is larger than a tuple , iteration is easy on tuple"
   ]
  },
  {
   "cell_type": "code",
   "execution_count": 111,
   "id": "294af800-52ae-4eb1-b09d-286461e24778",
   "metadata": {},
   "outputs": [],
   "source": [
    "import timeit"
   ]
  },
  {
   "cell_type": "code",
   "execution_count": 112,
   "id": "34086385-194d-4803-9d4d-e4113b14debe",
   "metadata": {},
   "outputs": [
    {
     "name": "stdout",
     "output_type": "stream",
     "text": [
      "0.4995529390871525\n",
      "0.08596653398126364\n"
     ]
    }
   ],
   "source": [
    "print(timeit.timeit(stmt='[0,1,2,3,4,5]',number=10000000))\n",
    "print(timeit.timeit(stmt='(0,1,2,3,4,5)',number=10000000))"
   ]
  },
  {
   "cell_type": "code",
   "execution_count": 113,
   "id": "23802dc2-9912-467a-99ad-8e83ababc0ab",
   "metadata": {},
   "outputs": [],
   "source": [
    "## time taken to create a list was more than a tuple "
   ]
  },
  {
   "cell_type": "code",
   "execution_count": null,
   "id": "4addc068-7136-43f4-a06a-6535752e739d",
   "metadata": {},
   "outputs": [],
   "source": []
  }
 ],
 "metadata": {
  "kernelspec": {
   "display_name": "Python 3 (ipykernel)",
   "language": "python",
   "name": "python3"
  },
  "language_info": {
   "codemirror_mode": {
    "name": "ipython",
    "version": 3
   },
   "file_extension": ".py",
   "mimetype": "text/x-python",
   "name": "python",
   "nbconvert_exporter": "python",
   "pygments_lexer": "ipython3",
   "version": "3.10.8"
  }
 },
 "nbformat": 4,
 "nbformat_minor": 5
}

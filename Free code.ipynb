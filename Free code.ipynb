{
 "cells": [
  {
   "cell_type": "code",
   "execution_count": 1,
   "id": "8ad6cc2a-1529-4710-bebc-4a119cefea28",
   "metadata": {},
   "outputs": [
    {
     "name": "stdout",
     "output_type": "stream",
     "text": [
      "hello world\n"
     ]
    }
   ],
   "source": [
    "print('hello world')"
   ]
  },
  {
   "cell_type": "code",
   "execution_count": 4,
   "id": "ce676c52-df27-40b0-8e37-636addce4c90",
   "metadata": {},
   "outputs": [
    {
     "name": "stdout",
     "output_type": "stream",
     "text": [
      "    /|\n",
      "   / |\n",
      "  /  |\n",
      " /   |\n",
      "/____|\n"
     ]
    }
   ],
   "source": [
    "print('    /|')\n",
    "print('   / |')\n",
    "print('  /  |')\n",
    "print(' /   |')\n",
    "print('/____|')"
   ]
  },
  {
   "cell_type": "markdown",
   "id": "e8568eb9-4af4-4950-8101-6556a3225bf8",
   "metadata": {},
   "source": [
    "## Variables and Data types"
   ]
  },
  {
   "cell_type": "code",
   "execution_count": 14,
   "id": "efa6ec72-2432-400e-87aa-b150a1a5842a",
   "metadata": {},
   "outputs": [
    {
     "name": "stdout",
     "output_type": "stream",
     "text": [
      "there once was a man named john,\n",
      "he was 70 years old\n",
      "he really liked the name mike,\n",
      "but didnt like being 35, \n"
     ]
    }
   ],
   "source": [
    "print('there once was a man named ' + character_name +',')\n",
    "print('he was 70 years old')\n",
    "\n",
    "character_name='mike'\n",
    "print('he really liked the name ' + character_name +',')\n",
    "print('but didnt like being ' + character_age + ', ')"
   ]
  },
  {
   "cell_type": "code",
   "execution_count": 6,
   "id": "9199418a-f758-454a-a303-79fcab5ad100",
   "metadata": {},
   "outputs": [],
   "source": [
    "## hoe to change the characters\n",
    "character_name='john'\n",
    "character_age='35'"
   ]
  },
  {
   "cell_type": "markdown",
   "id": "7c60b1ce-c216-4da8-ab75-d9a3b711f7ce",
   "metadata": {},
   "source": [
    "## working with strings "
   ]
  },
  {
   "cell_type": "code",
   "execution_count": 19,
   "id": "15cdf678-243f-4974-a48b-13f22195c863",
   "metadata": {},
   "outputs": [
    {
     "name": "stdout",
     "output_type": "stream",
     "text": [
      "giraffe ' academy\n"
     ]
    }
   ],
   "source": [
    "print('giraffe \\' academy') ## \\' is used to print quatation without ending the string"
   ]
  },
  {
   "cell_type": "code",
   "execution_count": 18,
   "id": "ce9004ab-41f8-4917-9d1d-3d6d9fa9377c",
   "metadata": {},
   "outputs": [
    {
     "name": "stdout",
     "output_type": "stream",
     "text": [
      "giraffe \n",
      " academy\n"
     ]
    }
   ],
   "source": [
    "print('giraffe \\n academy')"
   ]
  },
  {
   "cell_type": "code",
   "execution_count": 20,
   "id": "db751640-7119-4e1e-b237-81e94f25c0f9",
   "metadata": {},
   "outputs": [],
   "source": [
    "phrase='Giraffe Achedemy'"
   ]
  },
  {
   "cell_type": "code",
   "execution_count": 21,
   "id": "1185313a-156a-4fb6-9735-b694166c64c6",
   "metadata": {},
   "outputs": [
    {
     "data": {
      "text/plain": [
       "'Giraffe Achedemy'"
      ]
     },
     "execution_count": 21,
     "metadata": {},
     "output_type": "execute_result"
    }
   ],
   "source": [
    "phrase"
   ]
  },
  {
   "cell_type": "code",
   "execution_count": 23,
   "id": "3381257f-e0bb-4da5-a701-d6599b17dfef",
   "metadata": {},
   "outputs": [
    {
     "name": "stdout",
     "output_type": "stream",
     "text": [
      "Giraffe Achedemy is cool\n"
     ]
    }
   ],
   "source": [
    "## concatenation 1string Plus another \n",
    "print(phrase +' is cool')"
   ]
  },
  {
   "cell_type": "markdown",
   "id": "13d168c3-86bd-411d-824d-d320fd43a796",
   "metadata": {},
   "source": [
    "## Functions for strings "
   ]
  },
  {
   "cell_type": "code",
   "execution_count": 25,
   "id": "97fa027e-c7f2-4646-bbb3-0f9fe480c586",
   "metadata": {},
   "outputs": [
    {
     "name": "stdout",
     "output_type": "stream",
     "text": [
      "giraffe achedemy\n"
     ]
    }
   ],
   "source": [
    "print(phrase.lower())"
   ]
  },
  {
   "cell_type": "code",
   "execution_count": 26,
   "id": "313e8b18-998e-4044-849b-d4bbe7581094",
   "metadata": {},
   "outputs": [
    {
     "name": "stdout",
     "output_type": "stream",
     "text": [
      "GIRAFFE ACHEDEMY\n"
     ]
    }
   ],
   "source": [
    "print(phrase.upper())"
   ]
  },
  {
   "cell_type": "code",
   "execution_count": 27,
   "id": "d4ea861a-27c0-4e99-877d-b3f0f339e71f",
   "metadata": {},
   "outputs": [
    {
     "name": "stdout",
     "output_type": "stream",
     "text": [
      "Giraffe achedemy\n"
     ]
    }
   ],
   "source": [
    "print(phrase.capitalize())"
   ]
  },
  {
   "cell_type": "code",
   "execution_count": 31,
   "id": "97dfa077-2f15-40b6-896a-93ec70825c6b",
   "metadata": {},
   "outputs": [
    {
     "name": "stdout",
     "output_type": "stream",
     "text": [
      "True\n"
     ]
    }
   ],
   "source": [
    "print(phrase.upper().isupper()) ## for using two functions in single line () parantheses is req to be used "
   ]
  },
  {
   "cell_type": "code",
   "execution_count": 32,
   "id": "0148cbaa-a5d8-499c-88e2-8840fd1656b4",
   "metadata": {},
   "outputs": [
    {
     "name": "stdout",
     "output_type": "stream",
     "text": [
      "16\n"
     ]
    }
   ],
   "source": [
    "print(len(phrase))"
   ]
  },
  {
   "cell_type": "code",
   "execution_count": 33,
   "id": "ec45bb2a-b16c-41e8-afa2-9bcad88adcf2",
   "metadata": {},
   "outputs": [
    {
     "name": "stdout",
     "output_type": "stream",
     "text": [
      "G\n"
     ]
    }
   ],
   "source": [
    "## to grab a specif charater\n",
    "print(phrase[0])"
   ]
  },
  {
   "cell_type": "code",
   "execution_count": 34,
   "id": "42db8224-1c12-467a-b847-07dc2b6d5c65",
   "metadata": {},
   "outputs": [
    {
     "data": {
      "text/plain": [
       "'ymedehcA effariG'"
      ]
     },
     "execution_count": 34,
     "metadata": {},
     "output_type": "execute_result"
    }
   ],
   "source": [
    "phrase[::-1]"
   ]
  },
  {
   "cell_type": "code",
   "execution_count": 35,
   "id": "26ea6411-d685-4a2a-a356-65b01ed42ca4",
   "metadata": {},
   "outputs": [
    {
     "name": "stdout",
     "output_type": "stream",
     "text": [
      "a\n"
     ]
    }
   ],
   "source": [
    "print(phrase[3])"
   ]
  },
  {
   "cell_type": "code",
   "execution_count": 45,
   "id": "c68b6302-5a4d-45fd-8cc0-266ccf7a4fa8",
   "metadata": {},
   "outputs": [
    {
     "name": "stdout",
     "output_type": "stream",
     "text": [
      "3\n"
     ]
    }
   ],
   "source": [
    "##index function\n",
    "\n",
    "print(phrase.index('a'))"
   ]
  },
  {
   "cell_type": "code",
   "execution_count": 48,
   "id": "9ae32b18-68f3-4acb-83a6-4885236654a1",
   "metadata": {},
   "outputs": [
    {
     "name": "stdout",
     "output_type": "stream",
     "text": [
      "Elephant Achedemy\n"
     ]
    }
   ],
   "source": [
    "## How to rplace a string inside the character \n",
    "print(phrase.replace('Giraffe','Elephant'))"
   ]
  },
  {
   "cell_type": "code",
   "execution_count": null,
   "id": "f84cc32a-8205-494b-a705-0a3ed99dd14a",
   "metadata": {},
   "outputs": [],
   "source": []
  }
 ],
 "metadata": {
  "kernelspec": {
   "display_name": "Python 3 (ipykernel)",
   "language": "python",
   "name": "python3"
  },
  "language_info": {
   "codemirror_mode": {
    "name": "ipython",
    "version": 3
   },
   "file_extension": ".py",
   "mimetype": "text/x-python",
   "name": "python",
   "nbconvert_exporter": "python",
   "pygments_lexer": "ipython3",
   "version": "3.10.8"
  }
 },
 "nbformat": 4,
 "nbformat_minor": 5
}

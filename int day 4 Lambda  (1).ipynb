{
 "cells": [
  {
   "cell_type": "code",
   "execution_count": 1,
   "id": "330cbfcf-2c5a-49de-a59f-30bd7ff52db4",
   "metadata": {},
   "outputs": [
    {
     "name": "stdout",
     "output_type": "stream",
     "text": [
      "10\n",
      "11\n",
      "12\n",
      "13\n",
      "14\n",
      "15\n"
     ]
    }
   ],
   "source": [
    "from itertools import count,cycle,repeat\n",
    "for i in count(10):\n",
    "    print(i)\n",
    "    if i==15:\n",
    "        break"
   ]
  },
  {
   "cell_type": "code",
   "execution_count": 2,
   "id": "905fb7dd-7a36-437c-b6de-818ba74b48c0",
   "metadata": {},
   "outputs": [
    {
     "name": "stdout",
     "output_type": "stream",
     "text": [
      "1\n",
      "1\n",
      "1\n",
      "1\n"
     ]
    }
   ],
   "source": [
    "a=[1,2,3,4]\n",
    "for i in repeat(1,4): \n",
    "    print(i)"
   ]
  },
  {
   "cell_type": "code",
   "execution_count": 1,
   "id": "7bac474e-31af-43ef-9819-89ac328b08bd",
   "metadata": {},
   "outputs": [],
   "source": [
    "## Lambda Functions : small one line and is done without a name and create an expression \n",
    "\n",
    "add10=lambda x: x+10"
   ]
  },
  {
   "cell_type": "code",
   "execution_count": 2,
   "id": "fd7cae27-96b7-4392-b426-46dec6665fe8",
   "metadata": {},
   "outputs": [
    {
     "data": {
      "text/plain": [
       "15"
      ]
     },
     "execution_count": 2,
     "metadata": {},
     "output_type": "execute_result"
    }
   ],
   "source": [
    "add10(5)"
   ]
  },
  {
   "cell_type": "code",
   "execution_count": 5,
   "id": "336aae64-6c2e-40c9-a174-eb8c1cdcdeaf",
   "metadata": {},
   "outputs": [],
   "source": [
    "def add10_funct(x): ## lambda function can be done in a single line \n",
    "    return(x+10)"
   ]
  },
  {
   "cell_type": "code",
   "execution_count": 4,
   "id": "e340d288-ad29-4c36-a923-4e6079006515",
   "metadata": {},
   "outputs": [
    {
     "data": {
      "text/plain": [
       "20"
      ]
     },
     "execution_count": 4,
     "metadata": {},
     "output_type": "execute_result"
    }
   ],
   "source": [
    "add10_funct(10)"
   ]
  },
  {
   "cell_type": "code",
   "execution_count": 7,
   "id": "ef69449d-c4fa-487f-a871-26ea0d2d0d9c",
   "metadata": {},
   "outputs": [
    {
     "data": {
      "text/plain": [
       "72"
      ]
     },
     "execution_count": 7,
     "metadata": {},
     "output_type": "execute_result"
    }
   ],
   "source": [
    "mult=lambda x,y: x*y\n",
    "mult(9,8)"
   ]
  },
  {
   "cell_type": "code",
   "execution_count": 11,
   "id": "cafc7827-2a60-4f53-8322-1e7dae531938",
   "metadata": {},
   "outputs": [
    {
     "name": "stdout",
     "output_type": "stream",
     "text": [
      "[(1, 2), (15, 1), (5, -1), (10, 4)]\n",
      "[(5, -1), (15, 1), (1, 2), (10, 4)]\n"
     ]
    }
   ],
   "source": [
    "points2D=[(1,2),(15,1),(5,-1),(10,4)]\n",
    "points2d_sorted=sorted(points2D,key=lambda x: x[1])\n",
    "print(points2D)\n",
    "print(points2d_sorted)"
   ]
  },
  {
   "cell_type": "code",
   "execution_count": 12,
   "id": "fb2bfadd-8f8f-4b5d-8cd2-d5118f661792",
   "metadata": {},
   "outputs": [
    {
     "name": "stdout",
     "output_type": "stream",
     "text": [
      "[(1, 2), (15, 1), (5, -1), (10, 4)]\n",
      "[(5, -1), (15, 1), (1, 2), (10, 4)]\n"
     ]
    }
   ],
   "source": [
    "points2D=[(1,2),(15,1),(5,-1),(10,4)]\n",
    "def sortb(x):\n",
    "    return x[1]\n",
    "points2d_sorted=sorted(points2D,key=sortb)\n",
    "print(points2D)\n",
    "print(points2d_sorted)"
   ]
  },
  {
   "cell_type": "code",
   "execution_count": 15,
   "id": "0b0a0140-b03d-4fb0-8cc9-715e28101009",
   "metadata": {},
   "outputs": [
    {
     "name": "stdout",
     "output_type": "stream",
     "text": [
      "[(1, 2), (15, 1), (5, -1), (10, 4)]\n",
      "[(1, 2), (5, -1), (10, 4), (15, 1)]\n"
     ]
    }
   ],
   "source": [
    "points2D=[(1,2),(15,1),(5,-1),(10,4)]\n",
    "points_sum=sorted(points2D,key=lambda x: x[0] + x[1])\n",
    "print(points2D)\n",
    "print(points_sum)"
   ]
  },
  {
   "cell_type": "code",
   "execution_count": 17,
   "id": "5dbf098e-d37d-4854-9f66-4929cd13089e",
   "metadata": {},
   "outputs": [
    {
     "name": "stdout",
     "output_type": "stream",
     "text": [
      "[2, 4, 6, 8, 10]\n"
     ]
    }
   ],
   "source": [
    "## map(funct,seq)\n",
    "a=[1,2,3,4,5]\n",
    "b=map(lambda x:x*2,a)\n",
    "print(list(b))"
   ]
  },
  {
   "cell_type": "code",
   "execution_count": 18,
   "id": "6bfe0ab5-fdaa-4a2b-bce9-74f9601277a1",
   "metadata": {},
   "outputs": [
    {
     "name": "stdout",
     "output_type": "stream",
     "text": [
      "[0.5, 1.0, 1.5, 2.0, 2.5]\n"
     ]
    }
   ],
   "source": [
    "a=[1,2,3,4,5]\n",
    "b=map(lambda x:x/2,a)\n",
    "print(list(b))"
   ]
  },
  {
   "cell_type": "code",
   "execution_count": 19,
   "id": "ae315ab6-1163-4931-bde8-7a26e02fcb78",
   "metadata": {},
   "outputs": [
    {
     "data": {
      "text/plain": [
       "[2, 4, 6, 8, 10]"
      ]
     },
     "execution_count": 19,
     "metadata": {},
     "output_type": "execute_result"
    }
   ],
   "source": [
    "c=[x*2 for x in a]\n",
    "c"
   ]
  },
  {
   "cell_type": "code",
   "execution_count": 24,
   "id": "c4ddf479-6102-4f83-8595-64842b49c36f",
   "metadata": {},
   "outputs": [
    {
     "name": "stdout",
     "output_type": "stream",
     "text": [
      "[4225, 2704, 4225, 270400, 4356]\n"
     ]
    }
   ],
   "source": [
    "lt=[65,52,65,520,66]\n",
    "lt=[x**2 for x in lt]\n",
    "print(lt)"
   ]
  },
  {
   "cell_type": "code",
   "execution_count": 26,
   "id": "7c24d49c-407d-44dd-8f19-172acbe59269",
   "metadata": {},
   "outputs": [
    {
     "data": {
      "text/plain": [
       "[2, 4, 6]"
      ]
     },
     "execution_count": 26,
     "metadata": {},
     "output_type": "execute_result"
    }
   ],
   "source": [
    "## Filter function will retun all elements that retun true \n",
    "a=[1,2,3,4,5,6]\n",
    "b=filter(lambda x: x%2==0,a)\n",
    "list(b)"
   ]
  },
  {
   "cell_type": "code",
   "execution_count": 27,
   "id": "69c103d1-fa12-4ef0-8da0-385a7be730d2",
   "metadata": {},
   "outputs": [
    {
     "data": {
      "text/plain": [
       "[2, 4, 6]"
      ]
     },
     "execution_count": 27,
     "metadata": {},
     "output_type": "execute_result"
    }
   ],
   "source": [
    "c=[x for x in a if x%2==0]\n",
    "c"
   ]
  },
  {
   "cell_type": "code",
   "execution_count": 30,
   "id": "0f7d0ce1-7036-40eb-aaf2-2b5d4edc6655",
   "metadata": {},
   "outputs": [
    {
     "data": {
      "text/plain": [
       "12"
      ]
     },
     "execution_count": 30,
     "metadata": {},
     "output_type": "execute_result"
    }
   ],
   "source": [
    "## reduced function takes seq and elements \n",
    "from functools import reduce \n",
    "a=[1,3,4]\n",
    "prod=reduce(lambda x,y:x*y ,a)\n",
    "prod"
   ]
  },
  {
   "cell_type": "markdown",
   "id": "5030dbf7-7011-4419-86fc-969a3752ef7c",
   "metadata": {},
   "source": [
    "## exceptions "
   ]
  },
  {
   "cell_type": "code",
   "execution_count": 1,
   "id": "a04a6d50-37aa-4188-8988-f9dd3d446435",
   "metadata": {},
   "outputs": [],
   "source": [
    "## error and exceptions "
   ]
  },
  {
   "cell_type": "markdown",
   "id": "5e1b3182-0fbf-4fa4-bd54-c045ae86e882",
   "metadata": {},
   "source": [
    "syntax error when syntactically error aoccurs "
   ]
  },
  {
   "cell_type": "markdown",
   "id": "cbfa2743-97f1-4f13-b907-4bda8347d3d6",
   "metadata": {},
   "source": []
  },
  {
   "cell_type": "code",
   "execution_count": 3,
   "id": "6589bc23-6c1c-4fab-a01f-c0c3fdfa16fa",
   "metadata": {},
   "outputs": [
    {
     "ename": "TypeError",
     "evalue": "unsupported operand type(s) for +: 'int' and 'str'",
     "output_type": "error",
     "traceback": [
      "\u001b[0;31m---------------------------------------------------------------------------\u001b[0m",
      "\u001b[0;31mTypeError\u001b[0m                                 Traceback (most recent call last)",
      "Cell \u001b[0;32mIn[3], line 1\u001b[0m\n\u001b[0;32m----> 1\u001b[0m a\u001b[38;5;241m=\u001b[39m\u001b[38;5;241;43m5\u001b[39;49m\u001b[43m \u001b[49m\u001b[38;5;241;43m+\u001b[39;49m\u001b[43m \u001b[49m\u001b[38;5;124;43m'\u001b[39;49m\u001b[38;5;124;43m10\u001b[39;49m\u001b[38;5;124;43m'\u001b[39;49m\n",
      "\u001b[0;31mTypeError\u001b[0m: unsupported operand type(s) for +: 'int' and 'str'"
     ]
    }
   ],
   "source": [
    "a=5 + '10'"
   ]
  },
  {
   "cell_type": "code",
   "execution_count": 5,
   "id": "9da2856b-adc3-4cdd-b5f6-443fd43713fd",
   "metadata": {},
   "outputs": [
    {
     "ename": "ModuleNotFoundError",
     "evalue": "No module named 'somemodule'",
     "output_type": "error",
     "traceback": [
      "\u001b[0;31m---------------------------------------------------------------------------\u001b[0m",
      "\u001b[0;31mModuleNotFoundError\u001b[0m                       Traceback (most recent call last)",
      "Cell \u001b[0;32mIn[5], line 1\u001b[0m\n\u001b[0;32m----> 1\u001b[0m \u001b[38;5;28;01mimport\u001b[39;00m \u001b[38;5;21;01msomemodule\u001b[39;00m \n",
      "\u001b[0;31mModuleNotFoundError\u001b[0m: No module named 'somemodule'"
     ]
    }
   ],
   "source": [
    "import somemodule "
   ]
  },
  {
   "cell_type": "code",
   "execution_count": 6,
   "id": "846e3a62-fa24-451b-8e53-633db7b5fd96",
   "metadata": {},
   "outputs": [
    {
     "ename": "NameError",
     "evalue": "name 'c' is not defined",
     "output_type": "error",
     "traceback": [
      "\u001b[0;31m---------------------------------------------------------------------------\u001b[0m",
      "\u001b[0;31mNameError\u001b[0m                                 Traceback (most recent call last)",
      "Cell \u001b[0;32mIn[6], line 3\u001b[0m\n\u001b[1;32m      1\u001b[0m \u001b[38;5;66;03m## name error \u001b[39;00m\n\u001b[1;32m      2\u001b[0m a\u001b[38;5;241m=\u001b[39m\u001b[38;5;241m5\u001b[39m\n\u001b[0;32m----> 3\u001b[0m b\u001b[38;5;241m=\u001b[39m\u001b[43mc\u001b[49m\n",
      "\u001b[0;31mNameError\u001b[0m: name 'c' is not defined"
     ]
    }
   ],
   "source": [
    "## name error \n",
    "a=5\n",
    "b=c"
   ]
  },
  {
   "cell_type": "code",
   "execution_count": 7,
   "id": "5c764524-290c-4458-abfc-988fc18b91ef",
   "metadata": {},
   "outputs": [
    {
     "ename": "FileNotFoundError",
     "evalue": "[Errno 2] No such file or directory: 'some file.text'",
     "output_type": "error",
     "traceback": [
      "\u001b[0;31m---------------------------------------------------------------------------\u001b[0m",
      "\u001b[0;31mFileNotFoundError\u001b[0m                         Traceback (most recent call last)",
      "Cell \u001b[0;32mIn[7], line 2\u001b[0m\n\u001b[1;32m      1\u001b[0m \u001b[38;5;66;03m## file not found error \u001b[39;00m\n\u001b[0;32m----> 2\u001b[0m f\u001b[38;5;241m=\u001b[39m\u001b[38;5;28;43mopen\u001b[39;49m\u001b[43m(\u001b[49m\u001b[38;5;124;43m'\u001b[39;49m\u001b[38;5;124;43msome file.text\u001b[39;49m\u001b[38;5;124;43m'\u001b[39;49m\u001b[43m)\u001b[49m\n",
      "File \u001b[0;32m/opt/conda/lib/python3.10/site-packages/IPython/core/interactiveshell.py:282\u001b[0m, in \u001b[0;36m_modified_open\u001b[0;34m(file, *args, **kwargs)\u001b[0m\n\u001b[1;32m    275\u001b[0m \u001b[38;5;28;01mif\u001b[39;00m file \u001b[38;5;129;01min\u001b[39;00m {\u001b[38;5;241m0\u001b[39m, \u001b[38;5;241m1\u001b[39m, \u001b[38;5;241m2\u001b[39m}:\n\u001b[1;32m    276\u001b[0m     \u001b[38;5;28;01mraise\u001b[39;00m \u001b[38;5;167;01mValueError\u001b[39;00m(\n\u001b[1;32m    277\u001b[0m         \u001b[38;5;124mf\u001b[39m\u001b[38;5;124m\"\u001b[39m\u001b[38;5;124mIPython won\u001b[39m\u001b[38;5;124m'\u001b[39m\u001b[38;5;124mt let you open fd=\u001b[39m\u001b[38;5;132;01m{\u001b[39;00mfile\u001b[38;5;132;01m}\u001b[39;00m\u001b[38;5;124m by default \u001b[39m\u001b[38;5;124m\"\u001b[39m\n\u001b[1;32m    278\u001b[0m         \u001b[38;5;124m\"\u001b[39m\u001b[38;5;124mas it is likely to crash IPython. If you know what you are doing, \u001b[39m\u001b[38;5;124m\"\u001b[39m\n\u001b[1;32m    279\u001b[0m         \u001b[38;5;124m\"\u001b[39m\u001b[38;5;124myou can use builtins\u001b[39m\u001b[38;5;124m'\u001b[39m\u001b[38;5;124m open.\u001b[39m\u001b[38;5;124m\"\u001b[39m\n\u001b[1;32m    280\u001b[0m     )\n\u001b[0;32m--> 282\u001b[0m \u001b[38;5;28;01mreturn\u001b[39;00m \u001b[43mio_open\u001b[49m\u001b[43m(\u001b[49m\u001b[43mfile\u001b[49m\u001b[43m,\u001b[49m\u001b[43m \u001b[49m\u001b[38;5;241;43m*\u001b[39;49m\u001b[43margs\u001b[49m\u001b[43m,\u001b[49m\u001b[43m \u001b[49m\u001b[38;5;241;43m*\u001b[39;49m\u001b[38;5;241;43m*\u001b[39;49m\u001b[43mkwargs\u001b[49m\u001b[43m)\u001b[49m\n",
      "\u001b[0;31mFileNotFoundError\u001b[0m: [Errno 2] No such file or directory: 'some file.text'"
     ]
    }
   ],
   "source": [
    "## file not found error \n",
    "f=open('some file.text')"
   ]
  },
  {
   "cell_type": "code",
   "execution_count": 8,
   "id": "490add66-12e6-443b-9255-1619fea9ca36",
   "metadata": {},
   "outputs": [],
   "source": [
    "## value error \n",
    "a=[1,2,3]\n",
    "a.remove(1)"
   ]
  },
  {
   "cell_type": "code",
   "execution_count": 9,
   "id": "796c7367-a315-4973-9675-5a64b540d4cd",
   "metadata": {},
   "outputs": [
    {
     "data": {
      "text/plain": [
       "[2, 3]"
      ]
     },
     "execution_count": 9,
     "metadata": {},
     "output_type": "execute_result"
    }
   ],
   "source": [
    "a"
   ]
  },
  {
   "cell_type": "code",
   "execution_count": 10,
   "id": "44acfd44-1da0-4699-b112-f5845083aa8d",
   "metadata": {},
   "outputs": [
    {
     "ename": "ValueError",
     "evalue": "list.remove(x): x not in list",
     "output_type": "error",
     "traceback": [
      "\u001b[0;31m---------------------------------------------------------------------------\u001b[0m",
      "\u001b[0;31mValueError\u001b[0m                                Traceback (most recent call last)",
      "Cell \u001b[0;32mIn[10], line 1\u001b[0m\n\u001b[0;32m----> 1\u001b[0m \u001b[43ma\u001b[49m\u001b[38;5;241;43m.\u001b[39;49m\u001b[43mremove\u001b[49m\u001b[43m(\u001b[49m\u001b[38;5;241;43m4\u001b[39;49m\u001b[43m)\u001b[49m\n",
      "\u001b[0;31mValueError\u001b[0m: list.remove(x): x not in list"
     ]
    }
   ],
   "source": [
    "a.remove(4)"
   ]
  },
  {
   "cell_type": "code",
   "execution_count": 11,
   "id": "dc8eee6c-0912-4f1f-b6ea-2361c22c91b0",
   "metadata": {},
   "outputs": [
    {
     "ename": "IndexError",
     "evalue": "list index out of range",
     "output_type": "error",
     "traceback": [
      "\u001b[0;31m---------------------------------------------------------------------------\u001b[0m",
      "\u001b[0;31mIndexError\u001b[0m                                Traceback (most recent call last)",
      "Cell \u001b[0;32mIn[11], line 4\u001b[0m\n\u001b[1;32m      1\u001b[0m \u001b[38;5;66;03m## index error \u001b[39;00m\n\u001b[1;32m      3\u001b[0m a\u001b[38;5;241m=\u001b[39m[\u001b[38;5;241m2\u001b[39m,\u001b[38;5;241m3\u001b[39m,\u001b[38;5;241m4\u001b[39m,\u001b[38;5;241m5\u001b[39m]\n\u001b[0;32m----> 4\u001b[0m \u001b[43ma\u001b[49m\u001b[43m[\u001b[49m\u001b[38;5;241;43m8\u001b[39;49m\u001b[43m]\u001b[49m\n",
      "\u001b[0;31mIndexError\u001b[0m: list index out of range"
     ]
    }
   ],
   "source": [
    "## index error \n",
    "\n",
    "a=[2,3,4,5]\n",
    "a[8]"
   ]
  },
  {
   "cell_type": "code",
   "execution_count": 14,
   "id": "a5b1a155-4a30-48dc-af31-942227b14d83",
   "metadata": {},
   "outputs": [
    {
     "ename": "KeyError",
     "evalue": "'age'",
     "output_type": "error",
     "traceback": [
      "\u001b[0;31m---------------------------------------------------------------------------\u001b[0m",
      "\u001b[0;31mKeyError\u001b[0m                                  Traceback (most recent call last)",
      "Cell \u001b[0;32mIn[14], line 3\u001b[0m\n\u001b[1;32m      1\u001b[0m \u001b[38;5;66;03m## dictionary error \u001b[39;00m\n\u001b[1;32m      2\u001b[0m a\u001b[38;5;241m=\u001b[39m{\u001b[38;5;124m'\u001b[39m\u001b[38;5;124mname\u001b[39m\u001b[38;5;124m'\u001b[39m:\u001b[38;5;124m'\u001b[39m\u001b[38;5;124mmac\u001b[39m\u001b[38;5;124m'\u001b[39m}\n\u001b[0;32m----> 3\u001b[0m \u001b[43ma\u001b[49m\u001b[43m[\u001b[49m\u001b[38;5;124;43m'\u001b[39;49m\u001b[38;5;124;43mage\u001b[39;49m\u001b[38;5;124;43m'\u001b[39;49m\u001b[43m]\u001b[49m\n",
      "\u001b[0;31mKeyError\u001b[0m: 'age'"
     ]
    }
   ],
   "source": [
    "## dictionary error , key error \n",
    "a={'name':'mac'}\n",
    "a['age']"
   ]
  },
  {
   "cell_type": "code",
   "execution_count": 15,
   "id": "a88738b0-5c55-4e1a-860e-3d7efe039f79",
   "metadata": {},
   "outputs": [
    {
     "ename": "Exception",
     "evalue": "x should be +ve",
     "output_type": "error",
     "traceback": [
      "\u001b[0;31m---------------------------------------------------------------------------\u001b[0m",
      "\u001b[0;31mException\u001b[0m                                 Traceback (most recent call last)",
      "Cell \u001b[0;32mIn[15], line 4\u001b[0m\n\u001b[1;32m      2\u001b[0m x\u001b[38;5;241m=\u001b[39m\u001b[38;5;241m-\u001b[39m\u001b[38;5;241m5\u001b[39m\n\u001b[1;32m      3\u001b[0m \u001b[38;5;28;01mif\u001b[39;00m x\u001b[38;5;241m<\u001b[39m\u001b[38;5;241m0\u001b[39m:\n\u001b[0;32m----> 4\u001b[0m     \u001b[38;5;28;01mraise\u001b[39;00m \u001b[38;5;167;01mException\u001b[39;00m (\u001b[38;5;124m'\u001b[39m\u001b[38;5;124mx should be +ve\u001b[39m\u001b[38;5;124m'\u001b[39m)\n",
      "\u001b[0;31mException\u001b[0m: x should be +ve"
     ]
    }
   ],
   "source": [
    "## force an exception to occur \n",
    "x=-5\n",
    "if x<0:\n",
    "    raise Exception ('x should be +ve')"
   ]
  },
  {
   "cell_type": "code",
   "execution_count": 16,
   "id": "b9925d51-071d-415b-af04-8090f28bfe4a",
   "metadata": {},
   "outputs": [],
   "source": [
    "x=5\n",
    "if x<0:\n",
    "    raise Exception ('x should be +ve')"
   ]
  },
  {
   "cell_type": "code",
   "execution_count": 18,
   "id": "bade8008-ac16-4eb3-b3b8-65655b9cf1e2",
   "metadata": {},
   "outputs": [
    {
     "ename": "AssertionError",
     "evalue": "x is not positive",
     "output_type": "error",
     "traceback": [
      "\u001b[0;31m---------------------------------------------------------------------------\u001b[0m",
      "\u001b[0;31mAssertionError\u001b[0m                            Traceback (most recent call last)",
      "Cell \u001b[0;32mIn[18], line 3\u001b[0m\n\u001b[1;32m      1\u001b[0m \u001b[38;5;66;03m## assert statement\u001b[39;00m\n\u001b[1;32m      2\u001b[0m x\u001b[38;5;241m=\u001b[39m\u001b[38;5;241m-\u001b[39m\u001b[38;5;241m5\u001b[39m\n\u001b[0;32m----> 3\u001b[0m \u001b[38;5;28;01massert\u001b[39;00m (x\u001b[38;5;241m>\u001b[39m\u001b[38;5;241m=\u001b[39m\u001b[38;5;241m0\u001b[39m),\u001b[38;5;124m'\u001b[39m\u001b[38;5;124mx is not positive\u001b[39m\u001b[38;5;124m'\u001b[39m\n",
      "\u001b[0;31mAssertionError\u001b[0m: x is not positive"
     ]
    }
   ],
   "source": [
    "## assert statement\n",
    "x=-5\n",
    "assert (x>=0),'x is not positive'"
   ]
  },
  {
   "cell_type": "code",
   "execution_count": 19,
   "id": "be6e3870-58f7-491e-b14c-94c714cea6df",
   "metadata": {},
   "outputs": [],
   "source": [
    "## assert statement\n",
    "x=5\n",
    "assert (x>=0),'x is not positive'"
   ]
  },
  {
   "cell_type": "code",
   "execution_count": 22,
   "id": "3e8e71b2-64b8-424e-abdc-4bdbfe9039b0",
   "metadata": {},
   "outputs": [
    {
     "name": "stdout",
     "output_type": "stream",
     "text": [
      "an error happened\n"
     ]
    }
   ],
   "source": [
    "## try exception \n",
    "try:\n",
    "    a=5/0\n",
    "except:\n",
    "    print('an error happened')"
   ]
  },
  {
   "cell_type": "code",
   "execution_count": 21,
   "id": "43ac3003-ceec-4ab4-97bb-f9c7a86f3d48",
   "metadata": {},
   "outputs": [
    {
     "ename": "ZeroDivisionError",
     "evalue": "division by zero",
     "output_type": "error",
     "traceback": [
      "\u001b[0;31m---------------------------------------------------------------------------\u001b[0m",
      "\u001b[0;31mZeroDivisionError\u001b[0m                         Traceback (most recent call last)",
      "Cell \u001b[0;32mIn[21], line 1\u001b[0m\n\u001b[0;32m----> 1\u001b[0m a\u001b[38;5;241m=\u001b[39m\u001b[38;5;241;43m5\u001b[39;49m\u001b[38;5;241;43m/\u001b[39;49m\u001b[38;5;241;43m0\u001b[39;49m\n",
      "\u001b[0;31mZeroDivisionError\u001b[0m: division by zero"
     ]
    }
   ],
   "source": [
    "a=5/0"
   ]
  },
  {
   "cell_type": "code",
   "execution_count": 25,
   "id": "180689c4-3cb4-4563-ac30-e25515d8740f",
   "metadata": {},
   "outputs": [
    {
     "name": "stdout",
     "output_type": "stream",
     "text": [
      "division by zero\n"
     ]
    }
   ],
   "source": [
    "## ZeroDivisionError\n",
    "try:\n",
    "    a=5/0\n",
    "except ZeroDivisionError as e:\n",
    "    print(e)"
   ]
  },
  {
   "cell_type": "code",
   "execution_count": 26,
   "id": "a358e021-7a01-498e-b858-cf7c48f653c2",
   "metadata": {},
   "outputs": [
    {
     "name": "stdout",
     "output_type": "stream",
     "text": [
      "division by zero\n"
     ]
    }
   ],
   "source": [
    "try:\n",
    "    a=5/0\n",
    "except Exception as e:\n",
    "    print(e)"
   ]
  },
  {
   "cell_type": "code",
   "execution_count": 27,
   "id": "95072aa7-9693-4244-b91e-cebd43ab853b",
   "metadata": {},
   "outputs": [
    {
     "name": "stdout",
     "output_type": "stream",
     "text": [
      "unsupported operand type(s) for +: 'dict' and 'str'\n"
     ]
    }
   ],
   "source": [
    "try:\n",
    "    5/1\n",
    "    b=a+'10'\n",
    "except ZeroDivisionError as e:\n",
    "    print(e)\n",
    "except TypeError as e:\n",
    "    print(e)"
   ]
  },
  {
   "cell_type": "code",
   "execution_count": 28,
   "id": "934a8bcb-a979-4d92-8e4b-45c9c84c6913",
   "metadata": {},
   "outputs": [
    {
     "name": "stdout",
     "output_type": "stream",
     "text": [
      "division by zero\n"
     ]
    }
   ],
   "source": [
    "try:\n",
    "    5/0\n",
    "    b=a+'10'\n",
    "except ZeroDivisionError as e:\n",
    "    print(e)\n",
    "except TypeError as e:\n",
    "    print(e)"
   ]
  },
  {
   "cell_type": "code",
   "execution_count": 32,
   "id": "3f740d5c-7735-49dc-9b69-fa2f70ece678",
   "metadata": {},
   "outputs": [
    {
     "name": "stdout",
     "output_type": "stream",
     "text": [
      "every this is fine go 20.0\n"
     ]
    }
   ],
   "source": [
    "try:\n",
    "    a=5/1\n",
    "    b=a+10\n",
    "except ZeroDivisionError as e:\n",
    "    print(e)\n",
    "except TypeError as e:\n",
    "    print(e)\n",
    "else:\n",
    "    print('every this is fine go',a+b)"
   ]
  },
  {
   "cell_type": "code",
   "execution_count": 33,
   "id": "e4f0f7e5-be7e-4ee5-8bf8-114ed20bfda1",
   "metadata": {},
   "outputs": [
    {
     "name": "stdout",
     "output_type": "stream",
     "text": [
      "every this is fine go 20.0\n",
      "this is my cleaup operation\n"
     ]
    }
   ],
   "source": [
    "try:\n",
    "    a=5/1\n",
    "    b=a+10\n",
    "except ZeroDivisionError as e:\n",
    "    print(e)\n",
    "except TypeError as e:\n",
    "    print(e)\n",
    "else:\n",
    "    print('every this is fine go',a+b)\n",
    "finally:\n",
    "    print('this is my cleaup operation')"
   ]
  },
  {
   "cell_type": "code",
   "execution_count": 34,
   "id": "e521d9e6-ca56-4e7c-866c-92c0dce4955f",
   "metadata": {},
   "outputs": [
    {
     "name": "stdout",
     "output_type": "stream",
     "text": [
      "division by zero\n",
      "this is my cleaup operation\n"
     ]
    }
   ],
   "source": [
    "try:\n",
    "    a=5/0\n",
    "    b=a+10\n",
    "except ZeroDivisionError as e:\n",
    "    print(e)\n",
    "except TypeError as e:\n",
    "    print(e)\n",
    "else:\n",
    "    print('every this is fine go',a+b)\n",
    "finally:\n",
    "    print('this is my cleaup operation')"
   ]
  },
  {
   "cell_type": "code",
   "execution_count": 37,
   "id": "df443b84-9842-4a03-b8ff-47528f2085c6",
   "metadata": {},
   "outputs": [
    {
     "name": "stdout",
     "output_type": "stream",
     "text": [
      "value is too high\n",
      "this is an exception class method\n"
     ]
    }
   ],
   "source": [
    "## define our own exception \n",
    "class ValueTooHighError(Exception):\n",
    "    pass\n",
    "def test_value(x):\n",
    "    if x >100:\n",
    "        raise ValueTooHighError('value is too high')\n",
    "try:\n",
    "    test_value(200)\n",
    "except ValueTooHighError as e:\n",
    "    print(e)\n",
    "finally:\n",
    "    print('this is an exception class method')"
   ]
  },
  {
   "cell_type": "code",
   "execution_count": 41,
   "id": "8691255c-85cf-4b9d-90a4-00d0a74ab4fb",
   "metadata": {},
   "outputs": [
    {
     "name": "stdout",
     "output_type": "stream",
     "text": [
      "value is too small 1\n",
      "this is an exception class method\n"
     ]
    }
   ],
   "source": [
    "class ValueTooHighError(Exception):\n",
    "    pass\n",
    "class ValueTooSmallError(Exception):\n",
    "    def __init__(self,message,value):\n",
    "        self.message=message\n",
    "        self.value=value\n",
    "    \n",
    "def test_value(x):\n",
    "    if x >100:\n",
    "        raise ValueTooHighError('value is too high')\n",
    "    if x<5:\n",
    "        raise ValueTooSmallError('value is too small',x)\n",
    "try:\n",
    "    test_value(1)\n",
    "except ValueTooHighError as e:\n",
    "    print(e)\n",
    "except ValueTooSmallError as e:\n",
    "    print(e.message,e.value)\n",
    "finally:\n",
    "    print('this is an exception class method')"
   ]
  },
  {
   "cell_type": "markdown",
   "id": "63a68ba9-6e63-491e-87cb-009c5a38b0fe",
   "metadata": {},
   "source": [
    "## Logging"
   ]
  },
  {
   "cell_type": "code",
   "execution_count": 49,
   "id": "de730243-9592-40a9-b6be-c51ab57c4a9d",
   "metadata": {},
   "outputs": [
    {
     "name": "stderr",
     "output_type": "stream",
     "text": [
      "WARNING:root:this is a warning message\n",
      "ERROR:root:this is an error message\n",
      "CRITICAL:root:this is a critical message\n"
     ]
    }
   ],
   "source": [
    "import logging\n",
    "logging.basicConfig(level=logging.DEBUG,format='%(asctime)s - %(name)s -%(levellname)s - %(message)',\n",
    "                    datefmt='%m/%d/%Y %H:%M:%S')\n",
    "logging.debug('this is the debug message')\n",
    "logging.info('this is an ifo message')\n",
    "logging.warning('this is a warning message')\n",
    "logging.error('this is an error message')\n",
    "logging.critical('this is a critical message')"
   ]
  },
  {
   "cell_type": "code",
   "execution_count": null,
   "id": "8e4752a6-bc56-4b24-9fd3-01a3319ce987",
   "metadata": {},
   "outputs": [],
   "source": []
  },
  {
   "cell_type": "code",
   "execution_count": null,
   "id": "0e284fde-8109-4ad8-9dbb-2376a31e7cdd",
   "metadata": {},
   "outputs": [],
   "source": []
  },
  {
   "cell_type": "code",
   "execution_count": null,
   "id": "9052e59a-60ee-4b0c-9b6d-b82dad545a90",
   "metadata": {},
   "outputs": [],
   "source": []
  },
  {
   "cell_type": "code",
   "execution_count": null,
   "id": "5d61d0e8-030f-4887-8fe3-2b4da350bd4d",
   "metadata": {},
   "outputs": [],
   "source": []
  },
  {
   "cell_type": "code",
   "execution_count": null,
   "id": "7e09f63b-886c-41ad-8a65-4c348e3657f7",
   "metadata": {},
   "outputs": [],
   "source": []
  },
  {
   "cell_type": "code",
   "execution_count": null,
   "id": "8a0bf9ba-bd99-4a5b-a64b-f7d969535b65",
   "metadata": {},
   "outputs": [],
   "source": []
  },
  {
   "cell_type": "code",
   "execution_count": null,
   "id": "1acb4c76-33f4-441b-86fe-ae70de748e3f",
   "metadata": {},
   "outputs": [],
   "source": []
  },
  {
   "cell_type": "code",
   "execution_count": null,
   "id": "99d5daa9-9463-4346-9e21-7e1ae8f24ee2",
   "metadata": {},
   "outputs": [],
   "source": []
  },
  {
   "cell_type": "code",
   "execution_count": null,
   "id": "1f68870e-0f9f-457b-bbf7-1c1ccb588953",
   "metadata": {},
   "outputs": [],
   "source": []
  },
  {
   "cell_type": "code",
   "execution_count": null,
   "id": "c54929f4-5627-4191-abd9-d86eeac36faa",
   "metadata": {},
   "outputs": [],
   "source": []
  },
  {
   "cell_type": "code",
   "execution_count": null,
   "id": "d90edbc2-55a6-4402-858a-b963792a7b58",
   "metadata": {},
   "outputs": [],
   "source": []
  },
  {
   "cell_type": "code",
   "execution_count": null,
   "id": "b6cd9688-8a7c-4e48-9493-e9b0cc7f7d36",
   "metadata": {},
   "outputs": [],
   "source": []
  },
  {
   "cell_type": "code",
   "execution_count": null,
   "id": "e6c49a7b-e24b-4edc-899a-f004e9230fae",
   "metadata": {},
   "outputs": [],
   "source": []
  },
  {
   "cell_type": "code",
   "execution_count": null,
   "id": "f5ef8514-9bf3-4ea3-9d5f-ce90fdc4d467",
   "metadata": {},
   "outputs": [],
   "source": []
  },
  {
   "cell_type": "code",
   "execution_count": null,
   "id": "6747892f-833b-46c9-a105-503a7c197bf8",
   "metadata": {},
   "outputs": [],
   "source": []
  },
  {
   "cell_type": "code",
   "execution_count": null,
   "id": "2f195a13-f97c-4c78-9a4b-d043051a18ab",
   "metadata": {},
   "outputs": [],
   "source": []
  },
  {
   "cell_type": "code",
   "execution_count": null,
   "id": "4551422a-ab13-4fba-85ba-e79a76851062",
   "metadata": {},
   "outputs": [],
   "source": []
  },
  {
   "cell_type": "code",
   "execution_count": null,
   "id": "20c2d465-70b1-414b-b13f-9c43efe329a2",
   "metadata": {},
   "outputs": [],
   "source": []
  },
  {
   "cell_type": "code",
   "execution_count": null,
   "id": "cc4eafd0-fed2-47ca-b657-82cc8d86bcc4",
   "metadata": {},
   "outputs": [],
   "source": []
  },
  {
   "cell_type": "code",
   "execution_count": null,
   "id": "301730f5-ad3f-4687-a61a-3fc34b175bee",
   "metadata": {},
   "outputs": [],
   "source": []
  },
  {
   "cell_type": "code",
   "execution_count": null,
   "id": "df8037f5-e2f7-4b74-8e71-26191cd8e1d4",
   "metadata": {},
   "outputs": [],
   "source": []
  },
  {
   "cell_type": "code",
   "execution_count": null,
   "id": "6266e417-607e-45dc-988c-ff1d63a6d94f",
   "metadata": {},
   "outputs": [],
   "source": []
  },
  {
   "cell_type": "code",
   "execution_count": null,
   "id": "87d6fa02-dc7e-4cb9-bd23-28caa81a7c10",
   "metadata": {},
   "outputs": [],
   "source": []
  },
  {
   "cell_type": "code",
   "execution_count": null,
   "id": "9d678e97-c41a-4210-b18b-46817004461a",
   "metadata": {},
   "outputs": [],
   "source": []
  },
  {
   "cell_type": "code",
   "execution_count": null,
   "id": "691a507a-0530-42f9-92d9-68b4c2f516c5",
   "metadata": {},
   "outputs": [],
   "source": []
  },
  {
   "cell_type": "code",
   "execution_count": null,
   "id": "5e2c4bf3-1e0f-43cb-bd16-fa5eea908dca",
   "metadata": {},
   "outputs": [],
   "source": []
  }
 ],
 "metadata": {
  "kernelspec": {
   "display_name": "Python 3 (ipykernel)",
   "language": "python",
   "name": "python3"
  },
  "language_info": {
   "codemirror_mode": {
    "name": "ipython",
    "version": 3
   },
   "file_extension": ".py",
   "mimetype": "text/x-python",
   "name": "python",
   "nbconvert_exporter": "python",
   "pygments_lexer": "ipython3",
   "version": "3.10.8"
  }
 },
 "nbformat": 4,
 "nbformat_minor": 5
}

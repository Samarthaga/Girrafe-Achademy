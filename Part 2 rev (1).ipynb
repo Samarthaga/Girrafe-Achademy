{
 "cells": [
  {
   "cell_type": "code",
   "execution_count": 5,
   "id": "eb46d0ec-304f-42e9-b209-934db05cec0b",
   "metadata": {},
   "outputs": [
    {
     "name": "stdout",
     "output_type": "stream",
     "text": [
      "comments are fun\n"
     ]
    }
   ],
   "source": [
    "print('comments are fun'\n",
    ") ## Explation of comments "
   ]
  },
  {
   "cell_type": "code",
   "execution_count": 2,
   "id": "582855c5-1568-4a0a-9f69-ef1be1d5a919",
   "metadata": {},
   "outputs": [],
   "source": [
    "## I already know what comment is and i will learn more this is just the start of my revision i alraedy know a lot "
   ]
  },
  {
   "cell_type": "code",
   "execution_count": 3,
   "id": "1698d466-ff0f-45d5-87e0-36310057c53b",
   "metadata": {},
   "outputs": [
    {
     "data": {
      "text/plain": [
       "'\\nthis is comment \\n'"
      ]
     },
     "execution_count": 3,
     "metadata": {},
     "output_type": "execute_result"
    }
   ],
   "source": [
    "'''\n",
    "this is comment \n",
    "'''"
   ]
  },
  {
   "cell_type": "markdown",
   "id": "0ec59fbe-a109-43dc-9ed1-01f048207a43",
   "metadata": {},
   "source": [
    "## Try Except "
   ]
  },
  {
   "cell_type": "code",
   "execution_count": 13,
   "id": "92f47ada-3230-46d5-b457-95034d5174f0",
   "metadata": {},
   "outputs": [
    {
     "name": "stdin",
     "output_type": "stream",
     "text": [
      "enter a number 981\n"
     ]
    },
    {
     "name": "stdout",
     "output_type": "stream",
     "text": [
      "981.0\n"
     ]
    }
   ],
   "source": [
    "number=float(int(input('enter a number')))\n",
    "print(number)"
   ]
  },
  {
   "cell_type": "code",
   "execution_count": 8,
   "id": "432a8fd9-40dd-40e4-bdf1-10913d929fec",
   "metadata": {},
   "outputs": [
    {
     "data": {
      "text/plain": [
       "984"
      ]
     },
     "execution_count": 8,
     "metadata": {},
     "output_type": "execute_result"
    }
   ],
   "source": [
    "number"
   ]
  },
  {
   "cell_type": "markdown",
   "id": "30f5600d-edf5-45d2-b971-4a6a0b2b4b4a",
   "metadata": {},
   "source": [
    "## Try and except plot "
   ]
  },
  {
   "cell_type": "code",
   "execution_count": 17,
   "id": "7946be11-618b-4cc7-9015-8623c37acd31",
   "metadata": {},
   "outputs": [
    {
     "name": "stdin",
     "output_type": "stream",
     "text": [
      "enter the number 65614\n"
     ]
    },
    {
     "name": "stdout",
     "output_type": "stream",
     "text": [
      "981.0\n",
      "input accepted\n"
     ]
    }
   ],
   "source": [
    "try:\n",
    "    num=int(input('enter the number'))\n",
    "    print(number)\n",
    "    print('input accepted')\n",
    "except:\n",
    "    print('Invalid input')\n",
    "    "
   ]
  },
  {
   "cell_type": "code",
   "execution_count": 21,
   "id": "34dc317d-859c-46a0-9ffb-9b1527911979",
   "metadata": {},
   "outputs": [
    {
     "name": "stdout",
     "output_type": "stream",
     "text": [
      "you dumb boy this division is unacceptable \n"
     ]
    }
   ],
   "source": [
    "try:\n",
    "    value=10/0\n",
    "except:\n",
    "    print('you dumb boy this division is unacceptable ')"
   ]
  },
  {
   "cell_type": "code",
   "execution_count": 27,
   "id": "8d741d0d-bd8b-443d-bcfe-17bc810f1900",
   "metadata": {},
   "outputs": [
    {
     "name": "stdout",
     "output_type": "stream",
     "text": [
      "division error \n"
     ]
    }
   ],
   "source": [
    "try:\n",
    "    value=10/0\n",
    "    num=int(input('enter the number'))\n",
    "    print(number)\n",
    "    print('input accepted')\n",
    "except ZeroDivisionError :\n",
    "    print('division error ')\n",
    "except ValueError:\n",
    "    print('invalid input')"
   ]
  },
  {
   "cell_type": "code",
   "execution_count": 30,
   "id": "191731a7-284d-4d0a-8061-980a4665de11",
   "metadata": {},
   "outputs": [
    {
     "name": "stdout",
     "output_type": "stream",
     "text": [
      "division by zero\n"
     ]
    }
   ],
   "source": [
    "try:\n",
    "    value=10/0\n",
    "    num=int(input('enter the number'))\n",
    "    print(number)\n",
    "    print('input accepted')\n",
    "except ZeroDivisionError as err :\n",
    "    print(err)\n",
    "except ValueError:\n",
    "    print('invalid input')"
   ]
  },
  {
   "cell_type": "markdown",
   "id": "5afd7768-fe6c-484f-b9b7-024fac5130fa",
   "metadata": {},
   "source": [
    "## Reading Files "
   ]
  },
  {
   "cell_type": "code",
   "execution_count": 31,
   "id": "97820308-579e-4994-99ee-5f8bb6218a71",
   "metadata": {},
   "outputs": [],
   "source": [
    "import pandas as pd "
   ]
  },
  {
   "cell_type": "code",
   "execution_count": 37,
   "id": "768a6fc3-8c49-4b52-a502-c8167c406bab",
   "metadata": {},
   "outputs": [
    {
     "name": "stdout",
     "output_type": "stream",
     "text": [
      "True\n"
     ]
    }
   ],
   "source": [
    "sample_data=open('sample3.txt','r')\n",
    "print(sample_data.readable())\n",
    "sample_data.close()"
   ]
  },
  {
   "cell_type": "code",
   "execution_count": 36,
   "id": "7349f018-28e1-478d-a4c2-8e0a3c807032",
   "metadata": {},
   "outputs": [
    {
     "name": "stdout",
     "output_type": "stream",
     "text": [
      "False\n"
     ]
    }
   ],
   "source": [
    "sample_data=open('sample3.txt','w')\n",
    "print(sample_data.readable())\n",
    "sample_data.close()"
   ]
  },
  {
   "cell_type": "code",
   "execution_count": 44,
   "id": "52e8a056-2e82-4b67-aaa7-20176d2c0caf",
   "metadata": {},
   "outputs": [],
   "source": [
    "sample_data=open('sample3.txt','r')\n",
    "for employee in sample_data.readlines():\n",
    "    print(sample_data)\n",
    "\n",
    "sample_data.close()"
   ]
  },
  {
   "cell_type": "markdown",
   "id": "55bb20f9-7fc3-44cb-8e35-763ee3d60cf3",
   "metadata": {},
   "source": [
    "## Writing to Files "
   ]
  },
  {
   "cell_type": "code",
   "execution_count": 51,
   "id": "0c6aafac-3f88-40a8-a28b-bffdbc8e185c",
   "metadata": {},
   "outputs": [],
   "source": [
    "sample_data1=open('sample1.txt','a')\n",
    "sample_data1.write('this is my brief revision')\n",
    "sample_data1.write('\\n i am still learning')\n",
    "sample_data.close()"
   ]
  },
  {
   "cell_type": "code",
   "execution_count": 52,
   "id": "faf57319-f919-4104-a220-b548a40f64f1",
   "metadata": {},
   "outputs": [],
   "source": [
    "sample_data1=open('sample11.txt','w')\n",
    "sample_data1.write('this is my brief revision')\n",
    "sample_data1.write('\\n i am still learning')\n",
    "sample_data.close()"
   ]
  },
  {
   "cell_type": "markdown",
   "id": "2dc2fdba-80f9-476b-bf46-aa1c97cf60e0",
   "metadata": {},
   "source": [
    "## Modules in python "
   ]
  },
  {
   "cell_type": "code",
   "execution_count": 59,
   "id": "ec913298-775c-48bd-a512-c924e8fab316",
   "metadata": {},
   "outputs": [
    {
     "name": "stdout",
     "output_type": "stream",
     "text": [
      "Collecting mymodule\n",
      "  Downloading myModule-1.0.0.tar.gz (787 bytes)\n",
      "  Preparing metadata (setup.py) ... \u001b[?25ldone\n",
      "\u001b[?25hBuilding wheels for collected packages: mymodule\n",
      "  Building wheel for mymodule (setup.py) ... \u001b[?25ldone\n",
      "\u001b[?25h  Created wheel for mymodule: filename=myModule-1.0.0-py3-none-any.whl size=1411 sha256=b92d21d56365de8b5abbb4dfa75a979a0f6d6420e6350874448ab83535a29320\n",
      "  Stored in directory: /home/jovyan/.cache/pip/wheels/ed/15/b5/176d9fe2101c54f27b6f093c918fd4930d787176ec5f6a0ab1\n",
      "Successfully built mymodule\n",
      "Installing collected packages: mymodule\n",
      "Successfully installed mymodule-1.0.0\n",
      "Note: you may need to restart the kernel to use updated packages.\n"
     ]
    }
   ],
   "source": [
    "pip install mymodule"
   ]
  },
  {
   "cell_type": "code",
   "execution_count": 2,
   "id": "123cd4db-3944-4b0d-8a75-4c3bb0257d58",
   "metadata": {},
   "outputs": [],
   "source": [
    "import myModule"
   ]
  },
  {
   "cell_type": "code",
   "execution_count": 5,
   "id": "959f2f19-0bb6-48ce-8d33-bad5f02d8c88",
   "metadata": {},
   "outputs": [
    {
     "name": "stdout",
     "output_type": "stream",
     "text": [
      "H\n",
      "e\n",
      "l\n",
      "l\n",
      "o\n",
      " \n",
      "s\n",
      "i\n",
      "r\n",
      " \n"
     ]
    }
   ],
   "source": [
    "myModule.print_lol('Hello sir ')"
   ]
  },
  {
   "cell_type": "code",
   "execution_count": 7,
   "id": "82bd5c64-93ab-4738-9ff3-49ec19d5a81c",
   "metadata": {},
   "outputs": [],
   "source": [
    "def greeting(name):\n",
    "    print(\"Hello, \" + name)"
   ]
  },
  {
   "cell_type": "code",
   "execution_count": 9,
   "id": "103bfc69-39a1-4267-9723-8ba07f582d5c",
   "metadata": {},
   "outputs": [
    {
     "name": "stdout",
     "output_type": "stream",
     "text": [
      "Hello, no i wont sleep\n"
     ]
    }
   ],
   "source": [
    "greeting('no i wont sleep')"
   ]
  },
  {
   "cell_type": "code",
   "execution_count": 10,
   "id": "57a2c618-e5be-4017-ad4f-f9d9440e831f",
   "metadata": {},
   "outputs": [
    {
     "name": "stdout",
     "output_type": "stream",
     "text": [
      "Collecting googletrans==3.1.0a0\n",
      "  Downloading googletrans-3.1.0a0.tar.gz (19 kB)\n",
      "  Preparing metadata (setup.py) ... \u001b[?25ldone\n",
      "\u001b[?25hCollecting httpx==0.13.3\n",
      "  Downloading httpx-0.13.3-py3-none-any.whl (55 kB)\n",
      "\u001b[2K     \u001b[90m━━━━━━━━━━━━━━━━━━━━━━━━━━━━━━━━━━━━━━━━\u001b[0m \u001b[32m55.1/55.1 kB\u001b[0m \u001b[31m1.8 MB/s\u001b[0m eta \u001b[36m0:00:00\u001b[0m\n",
      "\u001b[?25hCollecting httpcore==0.9.*\n",
      "  Downloading httpcore-0.9.1-py3-none-any.whl (42 kB)\n",
      "\u001b[2K     \u001b[90m━━━━━━━━━━━━━━━━━━━━━━━━━━━━━━━━━━━━━━━━\u001b[0m \u001b[32m42.6/42.6 kB\u001b[0m \u001b[31m6.6 MB/s\u001b[0m eta \u001b[36m0:00:00\u001b[0m\n",
      "\u001b[?25hRequirement already satisfied: sniffio in /opt/conda/lib/python3.10/site-packages (from httpx==0.13.3->googletrans==3.1.0a0) (1.3.0)\n",
      "Collecting hstspreload\n",
      "  Downloading hstspreload-2023.1.1-py3-none-any.whl (1.5 MB)\n",
      "\u001b[2K     \u001b[90m━━━━━━━━━━━━━━━━━━━━━━━━━━━━━━━━━━━━━━━━\u001b[0m \u001b[32m1.5/1.5 MB\u001b[0m \u001b[31m6.3 MB/s\u001b[0m eta \u001b[36m0:00:00\u001b[0ma \u001b[36m0:00:01\u001b[0m\n",
      "\u001b[?25hCollecting idna==2.*\n",
      "  Downloading idna-2.10-py2.py3-none-any.whl (58 kB)\n",
      "\u001b[2K     \u001b[90m━━━━━━━━━━━━━━━━━━━━━━━━━━━━━━━━━━━━━━━━\u001b[0m \u001b[32m58.8/58.8 kB\u001b[0m \u001b[31m9.2 MB/s\u001b[0m eta \u001b[36m0:00:00\u001b[0m\n",
      "\u001b[?25hRequirement already satisfied: certifi in /opt/conda/lib/python3.10/site-packages (from httpx==0.13.3->googletrans==3.1.0a0) (2022.12.7)\n",
      "Collecting chardet==3.*\n",
      "  Downloading chardet-3.0.4-py2.py3-none-any.whl (133 kB)\n",
      "\u001b[2K     \u001b[90m━━━━━━━━━━━━━━━━━━━━━━━━━━━━━━━━━━━━━━\u001b[0m \u001b[32m133.4/133.4 kB\u001b[0m \u001b[31m11.8 MB/s\u001b[0m eta \u001b[36m0:00:00\u001b[0m\n",
      "\u001b[?25hCollecting rfc3986<2,>=1.3\n",
      "  Downloading rfc3986-1.5.0-py2.py3-none-any.whl (31 kB)\n",
      "Collecting h11<0.10,>=0.8\n",
      "  Downloading h11-0.9.0-py2.py3-none-any.whl (53 kB)\n",
      "\u001b[2K     \u001b[90m━━━━━━━━━━━━━━━━━━━━━━━━━━━━━━━━━━━━━━━━\u001b[0m \u001b[32m53.6/53.6 kB\u001b[0m \u001b[31m9.6 MB/s\u001b[0m eta \u001b[36m0:00:00\u001b[0m\n",
      "\u001b[?25hCollecting h2==3.*\n",
      "  Downloading h2-3.2.0-py2.py3-none-any.whl (65 kB)\n",
      "\u001b[2K     \u001b[90m━━━━━━━━━━━━━━━━━━━━━━━━━━━━━━━━━━━━━━━━\u001b[0m \u001b[32m65.0/65.0 kB\u001b[0m \u001b[31m9.0 MB/s\u001b[0m eta \u001b[36m0:00:00\u001b[0m\n",
      "\u001b[?25hCollecting hyperframe<6,>=5.2.0\n",
      "  Downloading hyperframe-5.2.0-py2.py3-none-any.whl (12 kB)\n",
      "Collecting hpack<4,>=3.0\n",
      "  Downloading hpack-3.0.0-py2.py3-none-any.whl (38 kB)\n",
      "Building wheels for collected packages: googletrans\n",
      "  Building wheel for googletrans (setup.py) ... \u001b[?25ldone\n",
      "\u001b[?25h  Created wheel for googletrans: filename=googletrans-3.1.0a0-py3-none-any.whl size=16352 sha256=a96b84c18d17bada7955fd15f7e23eff784261835c15e1002e8b8d1e1092263b\n",
      "  Stored in directory: /home/jovyan/.cache/pip/wheels/9e/34/61/bca066e1d3fd568936bcaabf6a769eadbbbf8449ee8f1fc18b\n",
      "Successfully built googletrans\n",
      "Installing collected packages: rfc3986, hyperframe, hpack, h11, chardet, idna, hstspreload, h2, httpcore, httpx, googletrans\n",
      "  Attempting uninstall: idna\n",
      "    Found existing installation: idna 3.4\n",
      "    Uninstalling idna-3.4:\n",
      "      Successfully uninstalled idna-3.4\n",
      "Successfully installed chardet-3.0.4 googletrans-3.1.0a0 h11-0.9.0 h2-3.2.0 hpack-3.0.0 hstspreload-2023.1.1 httpcore-0.9.1 httpx-0.13.3 hyperframe-5.2.0 idna-2.10 rfc3986-1.5.0\n",
      "Note: you may need to restart the kernel to use updated packages.\n"
     ]
    }
   ],
   "source": [
    "pip install googletrans==3.1.0a0"
   ]
  },
  {
   "cell_type": "code",
   "execution_count": 5,
   "id": "b0af7039-6f7f-4a7e-af2f-97ee38a4cc7d",
   "metadata": {},
   "outputs": [
    {
     "name": "stdout",
     "output_type": "stream",
     "text": [
      "hello.\n",
      "こんにちは。\n",
      "bonjour madame ce sont vos données\n"
     ]
    }
   ],
   "source": [
    "from googletrans import Translator\n",
    "\n",
    "translator = Translator()\n",
    "\n",
    "translated_text = translator.translate('안녕하세요.')\n",
    "print(translated_text.text)\n",
    "\n",
    "translated_text = translator.translate('안녕하세요.', dest='ja')\n",
    "print(translated_text.text)\n",
    "\n",
    "translated_text = translator.translate('bonjour madame ce sont vos données', src='la')\n",
    "print(translated_text.text)"
   ]
  },
  {
   "cell_type": "markdown",
   "id": "b219d631-1241-4e0c-8685-1f02a2f35c20",
   "metadata": {},
   "source": [
    "## Classes "
   ]
  },
  {
   "cell_type": "code",
   "execution_count": 7,
   "id": "2f406175-fb09-4e0f-9d0e-d94e5dc47586",
   "metadata": {},
   "outputs": [
    {
     "ename": "SyntaxError",
     "evalue": "invalid syntax (3343352585.py, line 3)",
     "output_type": "error",
     "traceback": [
      "\u001b[0;36m  Cell \u001b[0;32mIn[7], line 3\u001b[0;36m\u001b[0m\n\u001b[0;31m    def__init__(self,name,major,gpa,is_on_probabtion):\u001b[0m\n\u001b[0m                                                     ^\u001b[0m\n\u001b[0;31mSyntaxError\u001b[0m\u001b[0;31m:\u001b[0m invalid syntax\n"
     ]
    }
   ],
   "source": [
    "class student:\n",
    "    \n",
    "    def__init__(self,name,major,gpa,is_on_probabtion):\n",
    "        self.name=name\n",
    "        self.major=major\n",
    "        self.gpa=gpa\n",
    "        self.is_on_probabtion=is_on_probabtion\n",
    " "
   ]
  },
  {
   "cell_type": "code",
   "execution_count": null,
   "id": "05721ce6-8be8-4461-a760-f473d13ae9f7",
   "metadata": {},
   "outputs": [],
   "source": []
  },
  {
   "cell_type": "code",
   "execution_count": null,
   "id": "498a3770-b711-4268-8cc4-0ab534461fa4",
   "metadata": {},
   "outputs": [],
   "source": []
  },
  {
   "cell_type": "code",
   "execution_count": null,
   "id": "0370b96a-9174-4a3b-89b1-d9be7b808299",
   "metadata": {},
   "outputs": [],
   "source": []
  },
  {
   "cell_type": "code",
   "execution_count": null,
   "id": "72fadf5d-8ec5-4543-a1d3-2d41ea85a9c2",
   "metadata": {},
   "outputs": [],
   "source": []
  },
  {
   "cell_type": "code",
   "execution_count": null,
   "id": "c118c990-aa27-4a58-b024-3a284f4c177a",
   "metadata": {},
   "outputs": [],
   "source": []
  },
  {
   "cell_type": "code",
   "execution_count": null,
   "id": "cd7443a8-ab0c-424f-92f6-f6336427a05c",
   "metadata": {},
   "outputs": [],
   "source": []
  }
 ],
 "metadata": {
  "kernelspec": {
   "display_name": "Python 3 (ipykernel)",
   "language": "python",
   "name": "python3"
  },
  "language_info": {
   "codemirror_mode": {
    "name": "ipython",
    "version": 3
   },
   "file_extension": ".py",
   "mimetype": "text/x-python",
   "name": "python",
   "nbconvert_exporter": "python",
   "pygments_lexer": "ipython3",
   "version": "3.10.8"
  }
 },
 "nbformat": 4,
 "nbformat_minor": 5
}

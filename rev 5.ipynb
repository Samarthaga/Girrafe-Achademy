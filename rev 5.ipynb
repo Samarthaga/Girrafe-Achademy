{
 "cells": [
  {
   "cell_type": "code",
   "execution_count": 1,
   "id": "a60b506e-49de-421e-b64f-75cdd6ad4cbe",
   "metadata": {},
   "outputs": [],
   "source": [
    "import random"
   ]
  },
  {
   "cell_type": "code",
   "execution_count": 2,
   "id": "22de787f-eb76-44a6-925c-8e0b7ca28c99",
   "metadata": {},
   "outputs": [
    {
     "name": "stdout",
     "output_type": "stream",
     "text": [
      "0.7709004668589684\n"
     ]
    }
   ],
   "source": [
    "a=random.random()\n",
    "print(a)"
   ]
  },
  {
   "cell_type": "code",
   "execution_count": 4,
   "id": "ec7b46d5-cfa6-42d6-99da-12af96621e8e",
   "metadata": {},
   "outputs": [
    {
     "data": {
      "text/plain": [
       "2.15573783852167"
      ]
     },
     "execution_count": 4,
     "metadata": {},
     "output_type": "execute_result"
    }
   ],
   "source": [
    "b=random.uniform(1,10)\n",
    "b"
   ]
  },
  {
   "cell_type": "code",
   "execution_count": 8,
   "id": "7e9a4e4b-b18f-41b0-ba2d-35287ca76ebf",
   "metadata": {},
   "outputs": [
    {
     "data": {
      "text/plain": [
       "3"
      ]
     },
     "execution_count": 8,
     "metadata": {},
     "output_type": "execute_result"
    }
   ],
   "source": [
    "c=random.randint(1,10)\n",
    "c"
   ]
  },
  {
   "cell_type": "code",
   "execution_count": 11,
   "id": "173d2362-ae2a-424c-bbea-39f0245b374c",
   "metadata": {},
   "outputs": [
    {
     "data": {
      "text/plain": [
       "9"
      ]
     },
     "execution_count": 11,
     "metadata": {},
     "output_type": "execute_result"
    }
   ],
   "source": [
    "d=random.randrange(1,10)\n",
    "d"
   ]
  },
  {
   "cell_type": "code",
   "execution_count": 15,
   "id": "b920ca04-4ca5-41a6-b147-671a27adf398",
   "metadata": {},
   "outputs": [
    {
     "name": "stdout",
     "output_type": "stream",
     "text": [
      "2.9422406251191684\n"
     ]
    }
   ],
   "source": [
    "e=random.normalvariate(0,1) ## mean of zero and Std dev of 1 \n",
    "print(e) ## Normalized graph"
   ]
  },
  {
   "cell_type": "code",
   "execution_count": 16,
   "id": "929e81fe-c4ca-4c6a-900b-91ed24c7a3f4",
   "metadata": {},
   "outputs": [
    {
     "name": "stdout",
     "output_type": "stream",
     "text": [
      "['A', 'B', 'C', 'D', 'E', 'F', 'G', 'H']\n"
     ]
    }
   ],
   "source": [
    "## Sequences \n",
    "mylist=list('ABCDEFGH')\n",
    "print(mylist)"
   ]
  },
  {
   "cell_type": "code",
   "execution_count": 17,
   "id": "907dc834-e67c-4103-b784-f360edd4ae09",
   "metadata": {},
   "outputs": [],
   "source": [
    "f=random.choice(mylist)"
   ]
  },
  {
   "cell_type": "code",
   "execution_count": 19,
   "id": "fbbbec33-c14f-4808-8862-c20f54865ead",
   "metadata": {},
   "outputs": [
    {
     "data": {
      "text/plain": [
       "'H'"
      ]
     },
     "execution_count": 19,
     "metadata": {},
     "output_type": "execute_result"
    }
   ],
   "source": [
    "f"
   ]
  },
  {
   "cell_type": "code",
   "execution_count": 21,
   "id": "5c0b9391-ff7e-4178-bf11-2952f1090a90",
   "metadata": {},
   "outputs": [
    {
     "data": {
      "text/plain": [
       "['A', 'C', 'D']"
      ]
     },
     "execution_count": 21,
     "metadata": {},
     "output_type": "execute_result"
    }
   ],
   "source": [
    "g=random.sample(mylist,3)\n",
    "g"
   ]
  },
  {
   "cell_type": "code",
   "execution_count": 23,
   "id": "37a43aa0-b6f3-437e-b38e-a6ead1d07a2c",
   "metadata": {},
   "outputs": [
    {
     "data": {
      "text/plain": [
       "['F', 'F', 'E']"
      ]
     },
     "execution_count": 23,
     "metadata": {},
     "output_type": "execute_result"
    }
   ],
   "source": [
    "h=random.choices(mylist,k=3)\n",
    "h"
   ]
  },
  {
   "cell_type": "code",
   "execution_count": 28,
   "id": "90f07222-626a-4f1c-9c11-3f10a87d8531",
   "metadata": {},
   "outputs": [
    {
     "name": "stdout",
     "output_type": "stream",
     "text": [
      "['G', 'B', 'F', 'A', 'D', 'C', 'H', 'E']\n"
     ]
    }
   ],
   "source": [
    "random.shuffle(mylist)\n",
    "print(mylist)"
   ]
  },
  {
   "cell_type": "code",
   "execution_count": 29,
   "id": "7f862127-d857-48f8-9704-df6c0c805c28",
   "metadata": {},
   "outputs": [
    {
     "name": "stdout",
     "output_type": "stream",
     "text": [
      "0.13436424411240122\n",
      "2\n"
     ]
    }
   ],
   "source": [
    "random.seed(1)\n",
    "print(random.random())\n",
    "print(random.randint(1,10))"
   ]
  },
  {
   "cell_type": "code",
   "execution_count": 30,
   "id": "696a3741-337e-4b44-a72c-8599d23dcc16",
   "metadata": {},
   "outputs": [
    {
     "name": "stdout",
     "output_type": "stream",
     "text": [
      "0.13436424411240122\n",
      "2\n"
     ]
    }
   ],
   "source": [
    "random.seed(1)\n",
    "print(random.random())\n",
    "print(random.randint(1,10))"
   ]
  },
  {
   "cell_type": "code",
   "execution_count": 31,
   "id": "ddb798f5-aa94-4203-9427-67746ddde48d",
   "metadata": {},
   "outputs": [
    {
     "name": "stdout",
     "output_type": "stream",
     "text": [
      "0.9560342718892494\n",
      "1\n"
     ]
    }
   ],
   "source": [
    "random.seed(2)\n",
    "print(random.random())\n",
    "print(random.randint(1,10))"
   ]
  },
  {
   "cell_type": "raw",
   "id": "822a6842-45be-40a4-8d1d-ff41a3db2b3d",
   "metadata": {},
   "source": [
    "random.seed(1)\n",
    "print(random.random())\n",
    "print(random.randint(1,10))"
   ]
  },
  {
   "cell_type": "code",
   "execution_count": 32,
   "id": "ca9f1b6e-eefd-4603-a365-4e5d83850e5f",
   "metadata": {},
   "outputs": [
    {
     "name": "stdout",
     "output_type": "stream",
     "text": [
      "0.13436424411240122\n",
      "2\n"
     ]
    }
   ],
   "source": [
    "random.seed(1)\n",
    "print(random.random())\n",
    "print(random.randint(1,10))"
   ]
  },
  {
   "cell_type": "code",
   "execution_count": 33,
   "id": "927d6d09-78b2-45ba-a011-614b93b86f8a",
   "metadata": {},
   "outputs": [
    {
     "name": "stdout",
     "output_type": "stream",
     "text": [
      "0.9560342718892494\n",
      "1\n"
     ]
    }
   ],
   "source": [
    "random.seed(2)\n",
    "print(random.random())\n",
    "print(random.randint(1,10))"
   ]
  },
  {
   "cell_type": "code",
   "execution_count": 34,
   "id": "1e9e37fc-c5cf-4b2a-8268-916e794276e5",
   "metadata": {},
   "outputs": [],
   "source": [
    "import secrets"
   ]
  },
  {
   "cell_type": "code",
   "execution_count": 36,
   "id": "887b1cbf-81f4-4eb5-bd65-e21fc7d58115",
   "metadata": {},
   "outputs": [
    {
     "data": {
      "text/plain": [
       "9"
      ]
     },
     "execution_count": 36,
     "metadata": {},
     "output_type": "execute_result"
    }
   ],
   "source": [
    "## used for passwords , account etc\n",
    "## disadvantages as it takes more time and generate true random no \n",
    "a=secrets.randbelow(10)\n",
    "a"
   ]
  },
  {
   "cell_type": "code",
   "execution_count": 40,
   "id": "d7cf9b20-8682-4f6b-a0cf-7b3f273c60b9",
   "metadata": {},
   "outputs": [
    {
     "data": {
      "text/plain": [
       "5"
      ]
     },
     "execution_count": 40,
     "metadata": {},
     "output_type": "execute_result"
    }
   ],
   "source": [
    "b=secrets.randbits(4) ## returns bits and bites \n",
    "b"
   ]
  },
  {
   "cell_type": "code",
   "execution_count": 42,
   "id": "a8f15bb3-953b-47a4-981c-146a99f0ce84",
   "metadata": {},
   "outputs": [
    {
     "data": {
      "text/plain": [
       "'D'"
      ]
     },
     "execution_count": 42,
     "metadata": {},
     "output_type": "execute_result"
    }
   ],
   "source": [
    "mylist=list(\"ABCDEFGH\")\n",
    "a=secrets.choice(mylist)\n",
    "a"
   ]
  },
  {
   "cell_type": "code",
   "execution_count": 43,
   "id": "a2637f5f-5cc8-46e6-8565-8aacb41343a3",
   "metadata": {},
   "outputs": [],
   "source": [
    "import numpy as np "
   ]
  },
  {
   "cell_type": "code",
   "execution_count": 44,
   "id": "429868f0-97a4-4613-81ae-c540fa41f398",
   "metadata": {},
   "outputs": [
    {
     "data": {
      "text/plain": [
       "array([0.43532193, 0.38624839, 0.70208932])"
      ]
     },
     "execution_count": 44,
     "metadata": {},
     "output_type": "execute_result"
    }
   ],
   "source": [
    "## array with random floats \n",
    "a=np.random.rand(3)\n",
    "a"
   ]
  },
  {
   "cell_type": "code",
   "execution_count": 45,
   "id": "3e831a3d-5d2e-4336-bbe6-06f90cdabc9c",
   "metadata": {},
   "outputs": [
    {
     "data": {
      "text/plain": [
       "array([[0.67264126, 0.24706941, 0.65110449],\n",
       "       [0.91250507, 0.25655581, 0.61980307],\n",
       "       [0.4537467 , 0.16084254, 0.64972171]])"
      ]
     },
     "execution_count": 45,
     "metadata": {},
     "output_type": "execute_result"
    }
   ],
   "source": [
    "a=np.random.rand(3,3)\n",
    "a"
   ]
  },
  {
   "cell_type": "code",
   "execution_count": 53,
   "id": "09048c8b-dc3d-4fec-a501-c9680d0b0fdf",
   "metadata": {},
   "outputs": [
    {
     "name": "stdout",
     "output_type": "stream",
     "text": [
      "[[0 8 1 5]\n",
      " [6 1 9 3]\n",
      " [0 2 3 9]]\n"
     ]
    }
   ],
   "source": [
    "b=np.random.randint(0,10, (3,4))\n",
    "print(b)"
   ]
  },
  {
   "cell_type": "code",
   "execution_count": 57,
   "id": "27edc7e2-5a32-4f81-bdd6-577038b3bd4c",
   "metadata": {},
   "outputs": [
    {
     "data": {
      "text/plain": [
       "array([[7, 8, 9],\n",
       "       [4, 5, 6],\n",
       "       [1, 2, 3]])"
      ]
     },
     "execution_count": 57,
     "metadata": {},
     "output_type": "execute_result"
    }
   ],
   "source": [
    "## shuffle method \n",
    "arr=np.array([[1,2,3],[4,5,6],[7,8,9]])\n",
    "arr\n",
    "np.random.shuffle(arr)\n",
    "arr"
   ]
  },
  {
   "cell_type": "code",
   "execution_count": 61,
   "id": "74df9f9f-d6a0-49f9-9158-133b0a26d070",
   "metadata": {},
   "outputs": [
    {
     "name": "stdout",
     "output_type": "stream",
     "text": [
      "[[4.17022005e-01 7.20324493e-01 1.14374817e-04]\n",
      " [3.02332573e-01 1.46755891e-01 9.23385948e-02]\n",
      " [1.86260211e-01 3.45560727e-01 3.96767474e-01]]\n"
     ]
    }
   ],
   "source": [
    "np.random.seed(1)\n",
    "print(np.random.rand(3,3)) ## gives same array use numpy method for seed generators "
   ]
  },
  {
   "cell_type": "markdown",
   "id": "74f20681-86bb-447d-8076-12953364ff0f",
   "metadata": {},
   "source": [
    "# Decoraters "
   ]
  },
  {
   "cell_type": "code",
   "execution_count": null,
   "id": "bf57c02a-f97a-46d3-b5b1-bc5dcc682d1f",
   "metadata": {},
   "outputs": [],
   "source": [
    "@mydecorater ## its is a func that takes another func as argument and extends the behaviour the func of the funct without modfifying it\n",
    "def dosomething():\n",
    "    pass"
   ]
  },
  {
   "cell_type": "code",
   "execution_count": null,
   "id": "c91c0721-e865-4336-b8ab-0400968e198d",
   "metadata": {},
   "outputs": [],
   "source": []
  },
  {
   "cell_type": "code",
   "execution_count": 88,
   "id": "8e2b8f06-e987-4e17-98e6-f2fe45a982a6",
   "metadata": {},
   "outputs": [
    {
     "name": "stdout",
     "output_type": "stream",
     "text": [
      "Start\n",
      "End\n",
      "None\n"
     ]
    }
   ],
   "source": [
    "def start_end_decorater(func):\n",
    "    def wrapper(*args,**kwargs):\n",
    "        print('Start')\n",
    "        func(*args,*kwargs)\n",
    "        print('End')\n",
    "        return result\n",
    "    return wrapper\n",
    "@start_end_decorater\n",
    "def add5(x):\n",
    "    return x+5\n",
    "\n",
    "result=add5(10)\n",
    "print(result)\n",
    "    \n",
    "#def printname():\n",
    "  #  print('alex')\n",
    "##printname=start_end_decorater(printname)\n",
    "##printname()"
   ]
  },
  {
   "cell_type": "code",
   "execution_count": 91,
   "id": "3b945247-bbcd-45ef-ba93-9327e3ec76b2",
   "metadata": {},
   "outputs": [],
   "source": [
    "import functools"
   ]
  },
  {
   "cell_type": "code",
   "execution_count": 93,
   "id": "b31bb8f2-cca7-48ab-a317-1ae0be0a3f91",
   "metadata": {},
   "outputs": [
    {
     "name": "stdout",
     "output_type": "stream",
     "text": [
      "Help on function add5 in module __main__:\n",
      "\n",
      "add5(x)\n",
      "\n",
      "None\n",
      "add5\n"
     ]
    }
   ],
   "source": [
    "def start_end_decorater(func):\n",
    "    @functools.wraps(func)\n",
    "    def wrapper(*args,**kwargs):\n",
    "        print('Start')\n",
    "        func(*args,*kwargs)\n",
    "        print('End')\n",
    "        return result\n",
    "    return wrapper\n",
    "@start_end_decorater\n",
    "def add5(x):\n",
    "    return x+5\n",
    "\n",
    "print(help(add5))\n",
    "print(add5.__name__)"
   ]
  },
  {
   "cell_type": "code",
   "execution_count": 94,
   "id": "8ddc07fd-1dc6-4de6-9c3e-f4c186201c9e",
   "metadata": {},
   "outputs": [
    {
     "name": "stdout",
     "output_type": "stream",
     "text": [
      "add5\n"
     ]
    }
   ],
   "source": [
    "def start_end_decorater(func):\n",
    "    @functools.wraps(func)\n",
    "    def wrapper(*args,**kwargs):\n",
    "        print('Start')\n",
    "        func(*args,*kwargs)\n",
    "        print('End')\n",
    "        return result\n",
    "    return wrapper\n",
    "@start_end_decorater\n",
    "def add5(x):\n",
    "    return x+5\n",
    "\n",
    "print(add5.__name__)"
   ]
  },
  {
   "cell_type": "code",
   "execution_count": 96,
   "id": "2e932ecc-f82c-47ee-a17d-c2bb236636be",
   "metadata": {},
   "outputs": [
    {
     "name": "stdout",
     "output_type": "stream",
     "text": [
      "Help on function add5 in module __main__:\n",
      "\n",
      "add5(x)\n",
      "\n",
      "None\n",
      "add5\n"
     ]
    }
   ],
   "source": [
    "def my_decorator(func):\n",
    "    @functools.wraps(func)\n",
    "    def wrapper(*args,**kwargs):\n",
    "        ## do something\n",
    "        \n",
    "        result=func(*args,*kwargs)\n",
    "        ## dosomething\n",
    "     \n",
    "        return result\n",
    "    return wrapper\n",
    "@start_end_decorater\n",
    "def add5(x):\n",
    "    return x+5\n",
    "\n",
    "print(help(add5))\n",
    "print(add5.__name__)"
   ]
  },
  {
   "cell_type": "code",
   "execution_count": 103,
   "id": "2c1b00c9-7346-4424-86b5-abe839b62ece",
   "metadata": {},
   "outputs": [
    {
     "ename": "NameError",
     "evalue": "name 'function' is not defined",
     "output_type": "error",
     "traceback": [
      "\u001b[0;31m---------------------------------------------------------------------------\u001b[0m",
      "\u001b[0;31mNameError\u001b[0m                                 Traceback (most recent call last)",
      "Cell \u001b[0;32mIn[103], line 15\u001b[0m\n\u001b[1;32m     11\u001b[0m         \u001b[38;5;28;01mreturn\u001b[39;00m wrapper\n\u001b[1;32m     12\u001b[0m     \u001b[38;5;28;01mreturn\u001b[39;00m decorator_repeat\n\u001b[1;32m     14\u001b[0m \u001b[38;5;129;43m@repeat\u001b[39;49m\u001b[43m(\u001b[49m\u001b[43mnum_times\u001b[49m\u001b[38;5;241;43m=\u001b[39;49m\u001b[38;5;241;43m3\u001b[39;49m\u001b[43m)\u001b[49m\n\u001b[0;32m---> 15\u001b[0m \u001b[38;5;28;43;01mdef\u001b[39;49;00m\u001b[43m \u001b[49m\u001b[38;5;21;43mgreet\u001b[39;49m\u001b[43m(\u001b[49m\u001b[43mname\u001b[49m\u001b[43m)\u001b[49m\u001b[43m:\u001b[49m\n\u001b[1;32m     16\u001b[0m \u001b[43m    \u001b[49m\u001b[38;5;28;43mprint\u001b[39;49m\u001b[43m(\u001b[49m\u001b[38;5;124;43m'\u001b[39;49m\u001b[38;5;124;43mhello\u001b[39;49m\u001b[38;5;124;43m'\u001b[39;49m\u001b[43m,\u001b[49m\u001b[43mname\u001b[49m\u001b[43m)\u001b[49m\n\u001b[1;32m     18\u001b[0m greet(\u001b[38;5;124m\"\u001b[39m\u001b[38;5;124malex\u001b[39m\u001b[38;5;124m\"\u001b[39m)\n",
      "Cell \u001b[0;32mIn[103], line 5\u001b[0m, in \u001b[0;36mrepeat.<locals>.decorator_repeat\u001b[0;34m(func)\u001b[0m\n\u001b[1;32m      4\u001b[0m \u001b[38;5;28;01mdef\u001b[39;00m \u001b[38;5;21mdecorator_repeat\u001b[39m(func):\n\u001b[0;32m----> 5\u001b[0m     \u001b[38;5;129m@function\u001b[39m\u001b[38;5;241m.\u001b[39mwraps(func)\n\u001b[1;32m      6\u001b[0m     \u001b[38;5;28;01mdef\u001b[39;00m \u001b[38;5;21mwrapper\u001b[39m(\u001b[38;5;241m*\u001b[39margs,\u001b[38;5;241m*\u001b[39m\u001b[38;5;241m*\u001b[39mkwargs):\n\u001b[1;32m      7\u001b[0m         \u001b[38;5;28;01mfor\u001b[39;00m _ \u001b[38;5;129;01min\u001b[39;00m \u001b[38;5;28mrange\u001b[39m(num_times):\n\u001b[1;32m      9\u001b[0m             result\u001b[38;5;241m=\u001b[39mfunc(\u001b[38;5;241m*\u001b[39margs,\u001b[38;5;241m*\u001b[39m\u001b[38;5;241m*\u001b[39mkwargs)\n",
      "\u001b[0;31mNameError\u001b[0m: name 'function' is not defined"
     ]
    }
   ],
   "source": [
    "## decorators can also take arguments \n",
    "\n",
    "def repeat(num_times):\n",
    "    def decorator_repeat(func):\n",
    "        @function.wraps(func)\n",
    "        def wrapper(*args,**kwargs):\n",
    "            for _ in range(num_times):\n",
    "                \n",
    "                result=func(*args,**kwargs)\n",
    "            return result\n",
    "        return wrapper\n",
    "    return decorator_repeat\n",
    "\n",
    "@repeat(num_times=3)\n",
    "def greet(name):\n",
    "    print('hello',name)\n",
    "    \n"
   ]
  },
  {
   "cell_type": "code",
   "execution_count": 105,
   "id": "04570eb3-33f2-4a32-acb2-7cea19c0eb97",
   "metadata": {},
   "outputs": [
    {
     "name": "stdout",
     "output_type": "stream",
     "text": [
      "hi there\n"
     ]
    }
   ],
   "source": [
    "class CountCalls:\n",
    "    def __init__(self,func):\n",
    "        self.func=func\n",
    "        self.num_calls=0\n",
    "        \n",
    "    def __call__(self,*args,**kwargs):\n",
    "        print('hi there')\n",
    "        \n",
    "cc=CountCalls(None)\n",
    "cc()\n",
    "        \n",
    "\n",
    "@CountCalls\n",
    "def say_hello():\n",
    "    print('hello')"
   ]
  },
  {
   "cell_type": "code",
   "execution_count": 107,
   "id": "e52af444-e8e4-443c-a57f-f6612f42dd34",
   "metadata": {},
   "outputs": [],
   "source": [
    "class CountCalls:\n",
    "    def __init__(self,func):\n",
    "        self.func=func\n",
    "        self.num_calls=0\n",
    "        \n",
    "    def __call__(self,*args,**kwargs):\n",
    "        self.num_calls += 1\n",
    "        print(f'this is executed {self.num} times')\n",
    "        return self.func(*args,**kwargs)\n",
    "        \n",
    "        \n",
    "\n",
    "@CountCalls\n",
    "def say_hello():\n",
    "    print('hello')"
   ]
  },
  {
   "cell_type": "code",
   "execution_count": 108,
   "id": "29460731-0e99-4f93-b1a6-0f96db6781c5",
   "metadata": {},
   "outputs": [
    {
     "ename": "AttributeError",
     "evalue": "'CountCalls' object has no attribute 'num'",
     "output_type": "error",
     "traceback": [
      "\u001b[0;31m---------------------------------------------------------------------------\u001b[0m",
      "\u001b[0;31mAttributeError\u001b[0m                            Traceback (most recent call last)",
      "Cell \u001b[0;32mIn[108], line 1\u001b[0m\n\u001b[0;32m----> 1\u001b[0m \u001b[43msay_hello\u001b[49m\u001b[43m(\u001b[49m\u001b[43m)\u001b[49m\n",
      "Cell \u001b[0;32mIn[107], line 8\u001b[0m, in \u001b[0;36mCountCalls.__call__\u001b[0;34m(self, *args, **kwargs)\u001b[0m\n\u001b[1;32m      6\u001b[0m \u001b[38;5;28;01mdef\u001b[39;00m \u001b[38;5;21m__call__\u001b[39m(\u001b[38;5;28mself\u001b[39m,\u001b[38;5;241m*\u001b[39margs,\u001b[38;5;241m*\u001b[39m\u001b[38;5;241m*\u001b[39mkwargs):\n\u001b[1;32m      7\u001b[0m     \u001b[38;5;28mself\u001b[39m\u001b[38;5;241m.\u001b[39mnum_calls \u001b[38;5;241m+\u001b[39m\u001b[38;5;241m=\u001b[39m \u001b[38;5;241m1\u001b[39m\n\u001b[0;32m----> 8\u001b[0m     \u001b[38;5;28mprint\u001b[39m(\u001b[38;5;124mf\u001b[39m\u001b[38;5;124m'\u001b[39m\u001b[38;5;124mthis is executed \u001b[39m\u001b[38;5;132;01m{\u001b[39;00m\u001b[38;5;28;43mself\u001b[39;49m\u001b[38;5;241;43m.\u001b[39;49m\u001b[43mnum\u001b[49m\u001b[38;5;132;01m}\u001b[39;00m\u001b[38;5;124m times\u001b[39m\u001b[38;5;124m'\u001b[39m)\n\u001b[1;32m      9\u001b[0m     \u001b[38;5;28;01mreturn\u001b[39;00m \u001b[38;5;28mself\u001b[39m\u001b[38;5;241m.\u001b[39mfunc(\u001b[38;5;241m*\u001b[39margs,\u001b[38;5;241m*\u001b[39m\u001b[38;5;241m*\u001b[39mkwargs)\n",
      "\u001b[0;31mAttributeError\u001b[0m: 'CountCalls' object has no attribute 'num'"
     ]
    }
   ],
   "source": [
    "say_hello()"
   ]
  },
  {
   "cell_type": "code",
   "execution_count": null,
   "id": "1cb62b08-4dec-4f32-b2e3-ef220523d4c0",
   "metadata": {},
   "outputs": [],
   "source": [
    "say_hello"
   ]
  },
  {
   "cell_type": "markdown",
   "id": "f5e80394-c10a-43ca-b1ed-36c5e63b4cd7",
   "metadata": {},
   "source": [
    "# Generators "
   ]
  },
  {
   "cell_type": "code",
   "execution_count": null,
   "id": "6ec2c08b-96de-4f6e-94fe-a8217e134684",
   "metadata": {},
   "outputs": [],
   "source": []
  },
  {
   "cell_type": "code",
   "execution_count": null,
   "id": "ee358057-87dc-4ab5-86b1-9d587ec4778f",
   "metadata": {},
   "outputs": [],
   "source": []
  },
  {
   "cell_type": "code",
   "execution_count": null,
   "id": "9b839afd-d7af-4f98-a2d9-765e16276fe2",
   "metadata": {},
   "outputs": [],
   "source": []
  },
  {
   "cell_type": "code",
   "execution_count": null,
   "id": "4ae3235d-88b2-49a7-a4aa-be26511c3abf",
   "metadata": {},
   "outputs": [],
   "source": []
  },
  {
   "cell_type": "code",
   "execution_count": null,
   "id": "81ebca67-8d2d-4377-9f7a-2926aa28ec81",
   "metadata": {},
   "outputs": [],
   "source": []
  },
  {
   "cell_type": "code",
   "execution_count": null,
   "id": "5af4f017-d49d-4ded-9ed6-6c7c5bb3b212",
   "metadata": {},
   "outputs": [],
   "source": []
  },
  {
   "cell_type": "code",
   "execution_count": null,
   "id": "af18717b-03bb-45a0-844f-cbdf29f6c399",
   "metadata": {},
   "outputs": [],
   "source": []
  },
  {
   "cell_type": "code",
   "execution_count": null,
   "id": "850fa654-3999-4e05-a41b-f44035d0300d",
   "metadata": {},
   "outputs": [],
   "source": []
  },
  {
   "cell_type": "code",
   "execution_count": null,
   "id": "e5deef8b-55a5-4bcd-a410-7b8f1bc45412",
   "metadata": {},
   "outputs": [],
   "source": []
  },
  {
   "cell_type": "code",
   "execution_count": null,
   "id": "4ee7a3a0-3a8a-46a0-a50b-7b5dcba4f651",
   "metadata": {},
   "outputs": [],
   "source": []
  },
  {
   "cell_type": "code",
   "execution_count": null,
   "id": "193befb2-08d6-4981-8383-5eb1346c295a",
   "metadata": {},
   "outputs": [],
   "source": []
  },
  {
   "cell_type": "code",
   "execution_count": null,
   "id": "f0a39107-940f-4fe0-9fc8-7850b752cf6b",
   "metadata": {},
   "outputs": [],
   "source": []
  },
  {
   "cell_type": "code",
   "execution_count": null,
   "id": "faa07410-0546-4b74-a11c-e67fd0af2c77",
   "metadata": {},
   "outputs": [],
   "source": []
  },
  {
   "cell_type": "code",
   "execution_count": null,
   "id": "ad40cadf-d013-41ef-b9ec-3d4f5c16a4f3",
   "metadata": {},
   "outputs": [],
   "source": []
  },
  {
   "cell_type": "code",
   "execution_count": null,
   "id": "3d9deff2-9a5b-40ab-b7e0-28da499b33bd",
   "metadata": {},
   "outputs": [],
   "source": []
  },
  {
   "cell_type": "code",
   "execution_count": null,
   "id": "63e49a3f-ef88-4437-9045-419c488d2bfd",
   "metadata": {},
   "outputs": [],
   "source": []
  },
  {
   "cell_type": "code",
   "execution_count": null,
   "id": "82b10bad-3d88-4195-909f-709e1e223388",
   "metadata": {},
   "outputs": [],
   "source": []
  }
 ],
 "metadata": {
  "kernelspec": {
   "display_name": "Python 3 (ipykernel)",
   "language": "python",
   "name": "python3"
  },
  "language_info": {
   "codemirror_mode": {
    "name": "ipython",
    "version": 3
   },
   "file_extension": ".py",
   "mimetype": "text/x-python",
   "name": "python",
   "nbconvert_exporter": "python",
   "pygments_lexer": "ipython3",
   "version": "3.10.8"
  }
 },
 "nbformat": 4,
 "nbformat_minor": 5
}

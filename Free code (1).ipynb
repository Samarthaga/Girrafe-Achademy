{
 "cells": [
  {
   "cell_type": "code",
   "execution_count": null,
   "id": "8ad6cc2a-1529-4710-bebc-4a119cefea28",
   "metadata": {},
   "outputs": [],
   "source": [
    "print('hello world')"
   ]
  },
  {
   "cell_type": "code",
   "execution_count": 4,
   "id": "ce676c52-df27-40b0-8e37-636addce4c90",
   "metadata": {},
   "outputs": [
    {
     "name": "stdout",
     "output_type": "stream",
     "text": [
      "    /|\n",
      "   / |\n",
      "  /  |\n",
      " /   |\n",
      "/____|\n"
     ]
    }
   ],
   "source": [
    "print('    /|')\n",
    "print('   / |')\n",
    "print('  /  |')\n",
    "print(' /   |')\n",
    "print('/____|')"
   ]
  },
  {
   "cell_type": "markdown",
   "id": "e8568eb9-4af4-4950-8101-6556a3225bf8",
   "metadata": {},
   "source": [
    "## Variables and Data types"
   ]
  },
  {
   "cell_type": "code",
   "execution_count": 14,
   "id": "efa6ec72-2432-400e-87aa-b150a1a5842a",
   "metadata": {},
   "outputs": [
    {
     "name": "stdout",
     "output_type": "stream",
     "text": [
      "there once was a man named john,\n",
      "he was 70 years old\n",
      "he really liked the name mike,\n",
      "but didnt like being 35, \n"
     ]
    }
   ],
   "source": [
    "print('there once was a man named ' + character_name +',')\n",
    "print('he was 70 years old')\n",
    "\n",
    "character_name='mike'\n",
    "print('he really liked the name ' + character_name +',')\n",
    "print('but didnt like being ' + character_age + ', ')"
   ]
  },
  {
   "cell_type": "code",
   "execution_count": 6,
   "id": "9199418a-f758-454a-a303-79fcab5ad100",
   "metadata": {},
   "outputs": [],
   "source": [
    "## hoe to change the characters\n",
    "character_name='john'\n",
    "character_age='35'"
   ]
  },
  {
   "cell_type": "markdown",
   "id": "7c60b1ce-c216-4da8-ab75-d9a3b711f7ce",
   "metadata": {},
   "source": [
    "## working with strings "
   ]
  },
  {
   "cell_type": "code",
   "execution_count": 19,
   "id": "15cdf678-243f-4974-a48b-13f22195c863",
   "metadata": {},
   "outputs": [
    {
     "name": "stdout",
     "output_type": "stream",
     "text": [
      "giraffe ' academy\n"
     ]
    }
   ],
   "source": [
    "print('giraffe \\' academy') ## \\' is used to print quatation without ending the string"
   ]
  },
  {
   "cell_type": "code",
   "execution_count": 18,
   "id": "ce9004ab-41f8-4917-9d1d-3d6d9fa9377c",
   "metadata": {},
   "outputs": [
    {
     "name": "stdout",
     "output_type": "stream",
     "text": [
      "giraffe \n",
      " academy\n"
     ]
    }
   ],
   "source": [
    "print('giraffe \\n academy')"
   ]
  },
  {
   "cell_type": "code",
   "execution_count": 20,
   "id": "db751640-7119-4e1e-b237-81e94f25c0f9",
   "metadata": {},
   "outputs": [],
   "source": [
    "phrase='Giraffe Achedemy'"
   ]
  },
  {
   "cell_type": "code",
   "execution_count": 21,
   "id": "1185313a-156a-4fb6-9735-b694166c64c6",
   "metadata": {},
   "outputs": [
    {
     "data": {
      "text/plain": [
       "'Giraffe Achedemy'"
      ]
     },
     "execution_count": 21,
     "metadata": {},
     "output_type": "execute_result"
    }
   ],
   "source": [
    "phrase"
   ]
  },
  {
   "cell_type": "code",
   "execution_count": 23,
   "id": "3381257f-e0bb-4da5-a701-d6599b17dfef",
   "metadata": {},
   "outputs": [
    {
     "name": "stdout",
     "output_type": "stream",
     "text": [
      "Giraffe Achedemy is cool\n"
     ]
    }
   ],
   "source": [
    "## concatenation 1string Plus another \n",
    "print(phrase +' is cool')"
   ]
  },
  {
   "cell_type": "markdown",
   "id": "13d168c3-86bd-411d-824d-d320fd43a796",
   "metadata": {},
   "source": [
    "## Functions for strings "
   ]
  },
  {
   "cell_type": "code",
   "execution_count": 25,
   "id": "97fa027e-c7f2-4646-bbb3-0f9fe480c586",
   "metadata": {},
   "outputs": [
    {
     "name": "stdout",
     "output_type": "stream",
     "text": [
      "giraffe achedemy\n"
     ]
    }
   ],
   "source": [
    "print(phrase.lower())"
   ]
  },
  {
   "cell_type": "code",
   "execution_count": 26,
   "id": "313e8b18-998e-4044-849b-d4bbe7581094",
   "metadata": {},
   "outputs": [
    {
     "name": "stdout",
     "output_type": "stream",
     "text": [
      "GIRAFFE ACHEDEMY\n"
     ]
    }
   ],
   "source": [
    "print(phrase.upper())"
   ]
  },
  {
   "cell_type": "code",
   "execution_count": 27,
   "id": "d4ea861a-27c0-4e99-877d-b3f0f339e71f",
   "metadata": {},
   "outputs": [
    {
     "name": "stdout",
     "output_type": "stream",
     "text": [
      "Giraffe achedemy\n"
     ]
    }
   ],
   "source": [
    "print(phrase.capitalize())"
   ]
  },
  {
   "cell_type": "code",
   "execution_count": 31,
   "id": "97dfa077-2f15-40b6-896a-93ec70825c6b",
   "metadata": {},
   "outputs": [
    {
     "name": "stdout",
     "output_type": "stream",
     "text": [
      "True\n"
     ]
    }
   ],
   "source": [
    "print(phrase.upper().isupper()) ## for using two functions in single line () parantheses is req to be used "
   ]
  },
  {
   "cell_type": "code",
   "execution_count": 32,
   "id": "0148cbaa-a5d8-499c-88e2-8840fd1656b4",
   "metadata": {},
   "outputs": [
    {
     "name": "stdout",
     "output_type": "stream",
     "text": [
      "16\n"
     ]
    }
   ],
   "source": [
    "print(len(phrase))"
   ]
  },
  {
   "cell_type": "code",
   "execution_count": 33,
   "id": "ec45bb2a-b16c-41e8-afa2-9bcad88adcf2",
   "metadata": {},
   "outputs": [
    {
     "name": "stdout",
     "output_type": "stream",
     "text": [
      "G\n"
     ]
    }
   ],
   "source": [
    "## to grab a specif charater\n",
    "print(phrase[0])"
   ]
  },
  {
   "cell_type": "code",
   "execution_count": 34,
   "id": "42db8224-1c12-467a-b847-07dc2b6d5c65",
   "metadata": {},
   "outputs": [
    {
     "data": {
      "text/plain": [
       "'ymedehcA effariG'"
      ]
     },
     "execution_count": 34,
     "metadata": {},
     "output_type": "execute_result"
    }
   ],
   "source": [
    "phrase[::-1]"
   ]
  },
  {
   "cell_type": "code",
   "execution_count": 35,
   "id": "26ea6411-d685-4a2a-a356-65b01ed42ca4",
   "metadata": {},
   "outputs": [
    {
     "name": "stdout",
     "output_type": "stream",
     "text": [
      "a\n"
     ]
    }
   ],
   "source": [
    "print(phrase[3])"
   ]
  },
  {
   "cell_type": "code",
   "execution_count": 45,
   "id": "c68b6302-5a4d-45fd-8cc0-266ccf7a4fa8",
   "metadata": {},
   "outputs": [
    {
     "name": "stdout",
     "output_type": "stream",
     "text": [
      "3\n"
     ]
    }
   ],
   "source": [
    "##index function\n",
    "\n",
    "print(phrase.index('a'))"
   ]
  },
  {
   "cell_type": "code",
   "execution_count": 48,
   "id": "9ae32b18-68f3-4acb-83a6-4885236654a1",
   "metadata": {},
   "outputs": [
    {
     "name": "stdout",
     "output_type": "stream",
     "text": [
      "Elephant Achedemy\n"
     ]
    }
   ],
   "source": [
    "## How to rplace a string inside the character \n",
    "print(phrase.replace('Giraffe','Elephant'))"
   ]
  },
  {
   "cell_type": "markdown",
   "id": "8418212d-645c-4657-896b-ba26acc91754",
   "metadata": {},
   "source": [
    "## Numbers in python "
   ]
  },
  {
   "cell_type": "code",
   "execution_count": 11,
   "id": "4aa2981b-0132-42d3-84d0-afc1af7a70a1",
   "metadata": {},
   "outputs": [
    {
     "name": "stdout",
     "output_type": "stream",
     "text": [
      "-3\n"
     ]
    }
   ],
   "source": [
    "print(3*(4-5))"
   ]
  },
  {
   "cell_type": "code",
   "execution_count": 12,
   "id": "38fb9031-c651-497a-9a48-d6c7d8e9d8ea",
   "metadata": {},
   "outputs": [
    {
     "name": "stdout",
     "output_type": "stream",
     "text": [
      "1\n"
     ]
    }
   ],
   "source": [
    "print(10%3)"
   ]
  },
  {
   "cell_type": "code",
   "execution_count": 13,
   "id": "0dd73527-8f2c-400d-bb84-a874a71b71f1",
   "metadata": {},
   "outputs": [],
   "source": [
    "my_num=5"
   ]
  },
  {
   "cell_type": "code",
   "execution_count": 15,
   "id": "39ad6033-49ee-47fd-8e75-168d9c659981",
   "metadata": {},
   "outputs": [
    {
     "data": {
      "text/plain": [
       "5"
      ]
     },
     "execution_count": 15,
     "metadata": {},
     "output_type": "execute_result"
    }
   ],
   "source": [
    "my_num"
   ]
  },
  {
   "cell_type": "code",
   "execution_count": 17,
   "id": "825a1eff-4777-466a-a442-cd3489b96e0f",
   "metadata": {},
   "outputs": [
    {
     "data": {
      "text/plain": [
       "'5my fav no'"
      ]
     },
     "execution_count": 17,
     "metadata": {},
     "output_type": "execute_result"
    }
   ],
   "source": [
    "(str(my_num)+ 'my fav no')"
   ]
  },
  {
   "cell_type": "code",
   "execution_count": 18,
   "id": "37e5de18-afdd-4671-8902-8cd12849a99c",
   "metadata": {},
   "outputs": [],
   "source": [
    "my_num=-5"
   ]
  },
  {
   "cell_type": "code",
   "execution_count": 19,
   "id": "daba38a8-b834-4410-98e5-fe9e1c7299ca",
   "metadata": {},
   "outputs": [
    {
     "name": "stdout",
     "output_type": "stream",
     "text": [
      "5\n"
     ]
    }
   ],
   "source": [
    "print(abs(my_num))"
   ]
  },
  {
   "cell_type": "code",
   "execution_count": 20,
   "id": "ff4e9ffd-e094-41b8-add4-8b3a6b98249d",
   "metadata": {},
   "outputs": [
    {
     "name": "stdout",
     "output_type": "stream",
     "text": [
      "9\n"
     ]
    }
   ],
   "source": [
    "print(pow(3,2))"
   ]
  },
  {
   "cell_type": "code",
   "execution_count": 21,
   "id": "cb3ef4ac-b692-4927-9293-d4430eeae52e",
   "metadata": {},
   "outputs": [
    {
     "name": "stdout",
     "output_type": "stream",
     "text": [
      "6\n"
     ]
    }
   ],
   "source": [
    "print(max(4,6))"
   ]
  },
  {
   "cell_type": "code",
   "execution_count": 23,
   "id": "62469f1a-23ec-48b8-b50e-bf95fa6cae37",
   "metadata": {},
   "outputs": [
    {
     "name": "stdout",
     "output_type": "stream",
     "text": [
      "6\n"
     ]
    }
   ],
   "source": [
    "print(min(8,6))"
   ]
  },
  {
   "cell_type": "code",
   "execution_count": 24,
   "id": "f84cc32a-8205-494b-a705-0a3ed99dd14a",
   "metadata": {},
   "outputs": [
    {
     "data": {
      "text/plain": [
       "3"
      ]
     },
     "execution_count": 24,
     "metadata": {},
     "output_type": "execute_result"
    }
   ],
   "source": [
    "round(3.25)"
   ]
  },
  {
   "cell_type": "code",
   "execution_count": 25,
   "id": "335ddec7-0982-493b-97b0-2f9976039d1c",
   "metadata": {},
   "outputs": [
    {
     "data": {
      "text/plain": [
       "10"
      ]
     },
     "execution_count": 25,
     "metadata": {},
     "output_type": "execute_result"
    }
   ],
   "source": [
    "round(9.8)"
   ]
  },
  {
   "cell_type": "code",
   "execution_count": 25,
   "id": "b4ad97bb-0ca2-4e97-9203-502c1b616c4f",
   "metadata": {},
   "outputs": [],
   "source": [
    "from math import *"
   ]
  },
  {
   "cell_type": "code",
   "execution_count": 27,
   "id": "75fe2fa7-3381-4b31-9094-aa865c538d16",
   "metadata": {},
   "outputs": [
    {
     "data": {
      "text/plain": [
       "4"
      ]
     },
     "execution_count": 27,
     "metadata": {},
     "output_type": "execute_result"
    }
   ],
   "source": [
    "ceil(3.7)"
   ]
  },
  {
   "cell_type": "code",
   "execution_count": 28,
   "id": "929829b6-e473-452e-b2e2-74130500375e",
   "metadata": {},
   "outputs": [
    {
     "data": {
      "text/plain": [
       "8.06225774829855"
      ]
     },
     "execution_count": 28,
     "metadata": {},
     "output_type": "execute_result"
    }
   ],
   "source": [
    "sqrt(65)"
   ]
  },
  {
   "cell_type": "markdown",
   "id": "8870a996-7650-412c-91f8-abfd5bf8c048",
   "metadata": {},
   "source": [
    "## Getting input from users "
   ]
  },
  {
   "cell_type": "code",
   "execution_count": 3,
   "id": "91dfe876-f4f1-4d12-b6d0-013f4d8ad6ba",
   "metadata": {},
   "outputs": [
    {
     "name": "stdin",
     "output_type": "stream",
     "text": [
      "this is my birthdate  65111\n"
     ]
    },
    {
     "data": {
      "text/plain": [
       "65111"
      ]
     },
     "execution_count": 3,
     "metadata": {},
     "output_type": "execute_result"
    }
   ],
   "source": [
    "int(input('this is my birthdate '))"
   ]
  },
  {
   "cell_type": "code",
   "execution_count": 12,
   "id": "d05a2549-67b3-4c08-9889-0cca3add474c",
   "metadata": {},
   "outputs": [
    {
     "name": "stdin",
     "output_type": "stream",
     "text": [
      "enter your name samarth\n"
     ]
    }
   ],
   "source": [
    "name_1=input('enter your name')"
   ]
  },
  {
   "cell_type": "code",
   "execution_count": 10,
   "id": "c28f21cb-8d77-4c52-901f-a326fdbc39b8",
   "metadata": {},
   "outputs": [
    {
     "data": {
      "text/plain": [
       "'samarth'"
      ]
     },
     "execution_count": 10,
     "metadata": {},
     "output_type": "execute_result"
    }
   ],
   "source": [
    "name"
   ]
  },
  {
   "cell_type": "code",
   "execution_count": 13,
   "id": "d8bc8e7c-7242-425d-8efc-594b4c8480b4",
   "metadata": {},
   "outputs": [
    {
     "name": "stdout",
     "output_type": "stream",
     "text": [
      "hellosamarth!\n"
     ]
    }
   ],
   "source": [
    "print('hello'+ name_1 + '!')"
   ]
  },
  {
   "cell_type": "markdown",
   "id": "0f22d360-d1ca-40a1-a629-d225ccaac121",
   "metadata": {},
   "source": [
    "## Building the calculator "
   ]
  },
  {
   "cell_type": "code",
   "execution_count": 20,
   "id": "7cf81f9f-3349-489b-a235-ccc8e7924f53",
   "metadata": {},
   "outputs": [
    {
     "name": "stdin",
     "output_type": "stream",
     "text": [
      "enter a number 5.44\n",
      "enter another number 5.64\n"
     ]
    },
    {
     "name": "stdout",
     "output_type": "stream",
     "text": [
      "11.08\n"
     ]
    }
   ],
   "source": [
    "num1=input('enter a number')\n",
    "num2=input('enter another number')\n",
    "result=float(num1)+float(num2)\n",
    "print(result)"
   ]
  },
  {
   "cell_type": "code",
   "execution_count": 21,
   "id": "bbf2d44b-184c-447f-85f0-17363876bb5e",
   "metadata": {},
   "outputs": [
    {
     "name": "stdin",
     "output_type": "stream",
     "text": [
      "enter a number 5\n",
      "enter another number 5.986\n"
     ]
    },
    {
     "name": "stdout",
     "output_type": "stream",
     "text": [
      "10.986\n"
     ]
    }
   ],
   "source": [
    "num1=input('enter a number')\n",
    "num2=input('enter another number')\n",
    "result=int(num1)+float(num2)\n",
    "print(result)"
   ]
  },
  {
   "cell_type": "markdown",
   "id": "e75cfc95-71a2-489e-86ce-37294b5efcce",
   "metadata": {},
   "source": [
    "## Mad libs"
   ]
  },
  {
   "cell_type": "code",
   "execution_count": 4,
   "id": "b79c9f1f-153d-4eed-99a6-a3790a4dc70e",
   "metadata": {},
   "outputs": [
    {
     "name": "stdin",
     "output_type": "stream",
     "text": [
      "color name red\n",
      "enter noun girl\n",
      "enter name jhanvi\n"
     ]
    }
   ],
   "source": [
    "color=input('color name')\n",
    "prural_noun=input('enter noun')\n",
    "celebrity=input('enter name')"
   ]
  },
  {
   "cell_type": "code",
   "execution_count": 5,
   "id": "b81f44ba-bb10-4fef-8a7b-90d2c67cc0fd",
   "metadata": {},
   "outputs": [
    {
     "name": "stdout",
     "output_type": "stream",
     "text": [
      "Roses arered\n",
      "girlare blue\n",
      "i lovejhanvi\n"
     ]
    }
   ],
   "source": [
    "print('Roses are'+ color)\n",
    "print(prural_noun + 'are blue')\n",
    "print('i love' + celebrity)"
   ]
  },
  {
   "cell_type": "markdown",
   "id": "993421eb-af7c-40c6-a8e4-2837fa257c0e",
   "metadata": {},
   "source": [
    "## Lists"
   ]
  },
  {
   "cell_type": "markdown",
   "id": "88143ff1-d83b-4997-8823-dd867474fa4a",
   "metadata": {},
   "source": [
    "when we deal with large amount of data we use list to store information "
   ]
  },
  {
   "cell_type": "code",
   "execution_count": 13,
   "id": "8710e24f-5664-4045-821a-a8f56aca7d82",
   "metadata": {},
   "outputs": [],
   "source": [
    "friends=['samarth','pramit','dev','nikhil','tejas']"
   ]
  },
  {
   "cell_type": "code",
   "execution_count": 8,
   "id": "2678fa33-3ff7-4ea1-939a-ed29fc57422c",
   "metadata": {},
   "outputs": [
    {
     "data": {
      "text/plain": [
       "'samarth'"
      ]
     },
     "execution_count": 8,
     "metadata": {},
     "output_type": "execute_result"
    }
   ],
   "source": [
    "friends[0]"
   ]
  },
  {
   "cell_type": "code",
   "execution_count": 9,
   "id": "b97f379b-36c5-4858-839e-0692400e6117",
   "metadata": {},
   "outputs": [
    {
     "data": {
      "text/plain": [
       "'dev'"
      ]
     },
     "execution_count": 9,
     "metadata": {},
     "output_type": "execute_result"
    }
   ],
   "source": [
    "friends[-1]"
   ]
  },
  {
   "cell_type": "code",
   "execution_count": 16,
   "id": "bffb0cbe-2e4f-4c2e-bb13-4cb5a677dfd0",
   "metadata": {},
   "outputs": [
    {
     "data": {
      "text/plain": [
       "['pramit', 'dev', 'nikhil']"
      ]
     },
     "execution_count": 16,
     "metadata": {},
     "output_type": "execute_result"
    }
   ],
   "source": [
    "friends[1:4\n",
    "       ]"
   ]
  },
  {
   "cell_type": "code",
   "execution_count": 17,
   "id": "54a4ee1a-b9a6-41a8-99e5-509598fd0e00",
   "metadata": {},
   "outputs": [],
   "source": [
    "friends[1]='megha'"
   ]
  },
  {
   "cell_type": "code",
   "execution_count": 18,
   "id": "21a5aca7-8fa3-4f0a-81a9-2ccd805b1094",
   "metadata": {},
   "outputs": [
    {
     "data": {
      "text/plain": [
       "['samarth', 'megha', 'dev', 'nikhil', 'tejas']"
      ]
     },
     "execution_count": 18,
     "metadata": {},
     "output_type": "execute_result"
    }
   ],
   "source": [
    "friends"
   ]
  },
  {
   "cell_type": "markdown",
   "id": "8f3f49fa-c94a-42c6-8cb1-7d5f0f4f4721",
   "metadata": {},
   "source": [
    "## list functions "
   ]
  },
  {
   "cell_type": "code",
   "execution_count": 50,
   "id": "08851e9e-7367-49e1-85e5-0193a7ccf2d6",
   "metadata": {},
   "outputs": [],
   "source": [
    "lucky_numbers=[4,8,15,16,23,42]\n",
    "friends=['samarth', 'megha', 'dev', 'nikhil', 'tejas']"
   ]
  },
  {
   "cell_type": "code",
   "execution_count": 30,
   "id": "8e87ce4b-2d25-4048-8319-af9514c0caed",
   "metadata": {},
   "outputs": [],
   "source": [
    "## extend function is used to allow 1 list to another list\n",
    "friends.extend(lucky_numbers)"
   ]
  },
  {
   "cell_type": "code",
   "execution_count": 27,
   "id": "6c5ea9e9-edcb-4d93-b549-686e95fa0464",
   "metadata": {
    "collapsed": true,
    "jupyter": {
     "outputs_hidden": true
    },
    "tags": []
   },
   "outputs": [
    {
     "name": "stdout",
     "output_type": "stream",
     "text": [
      "Collecting jupyter_contrib_nbextensions\n",
      "  Downloading jupyter_contrib_nbextensions-0.7.0.tar.gz (23.5 MB)\n",
      "\u001b[2K     \u001b[90m━━━━━━━━━━━━━━━━━━━━━━━━━━━━━━━━━━━━━━━━\u001b[0m \u001b[32m23.5/23.5 MB\u001b[0m \u001b[31m40.9 MB/s\u001b[0m eta \u001b[36m0:00:00\u001b[0m00:01\u001b[0m00:01\u001b[0m\n",
      "\u001b[?25h  Preparing metadata (setup.py) ... \u001b[?25ldone\n",
      "\u001b[?25hRequirement already satisfied: ipython_genutils in /opt/conda/lib/python3.10/site-packages (from jupyter_contrib_nbextensions) (0.2.0)\n",
      "Collecting jupyter_contrib_core>=0.3.3\n",
      "  Downloading jupyter_contrib_core-0.4.2.tar.gz (17 kB)\n",
      "  Preparing metadata (setup.py) ... \u001b[?25ldone\n",
      "\u001b[?25hRequirement already satisfied: jupyter_core in /opt/conda/lib/python3.10/site-packages (from jupyter_contrib_nbextensions) (5.1.0)\n",
      "Collecting jupyter_highlight_selected_word>=0.1.1\n",
      "  Downloading jupyter_highlight_selected_word-0.2.0-py2.py3-none-any.whl (11 kB)\n",
      "Collecting jupyter_nbextensions_configurator>=0.4.0\n",
      "  Downloading jupyter_nbextensions_configurator-0.6.1.tar.gz (481 kB)\n",
      "\u001b[2K     \u001b[90m━━━━━━━━━━━━━━━━━━━━━━━━━━━━━━━━━━━━━━\u001b[0m \u001b[32m481.7/481.7 kB\u001b[0m \u001b[31m47.6 MB/s\u001b[0m eta \u001b[36m0:00:00\u001b[0m\n",
      "\u001b[?25h  Preparing metadata (setup.py) ... \u001b[?25ldone\n",
      "\u001b[?25hRequirement already satisfied: nbconvert>=6.0 in /opt/conda/lib/python3.10/site-packages (from jupyter_contrib_nbextensions) (7.2.6)\n",
      "Requirement already satisfied: notebook>=6.0 in /opt/conda/lib/python3.10/site-packages (from jupyter_contrib_nbextensions) (6.5.2)\n",
      "Requirement already satisfied: tornado in /opt/conda/lib/python3.10/site-packages (from jupyter_contrib_nbextensions) (6.1)\n",
      "Requirement already satisfied: traitlets>=4.1 in /opt/conda/lib/python3.10/site-packages (from jupyter_contrib_nbextensions) (5.7.1)\n",
      "Collecting lxml\n",
      "  Downloading lxml-4.9.2-cp310-cp310-manylinux_2_17_x86_64.manylinux2014_x86_64.manylinux_2_24_x86_64.whl (7.1 MB)\n",
      "\u001b[2K     \u001b[90m━━━━━━━━━━━━━━━━━━━━━━━━━━━━━━━━━━━━━━━━\u001b[0m \u001b[32m7.1/7.1 MB\u001b[0m \u001b[31m49.6 MB/s\u001b[0m eta \u001b[36m0:00:00\u001b[0m00:01\u001b[0m00:01\u001b[0m\n",
      "\u001b[?25hRequirement already satisfied: setuptools in /opt/conda/lib/python3.10/site-packages (from jupyter_contrib_core>=0.3.3->jupyter_contrib_nbextensions) (65.5.1)\n",
      "Requirement already satisfied: pyyaml in /opt/conda/lib/python3.10/site-packages (from jupyter_nbextensions_configurator>=0.4.0->jupyter_contrib_nbextensions) (6.0)\n",
      "Requirement already satisfied: tinycss2 in /opt/conda/lib/python3.10/site-packages (from nbconvert>=6.0->jupyter_contrib_nbextensions) (1.2.1)\n",
      "Requirement already satisfied: beautifulsoup4 in /opt/conda/lib/python3.10/site-packages (from nbconvert>=6.0->jupyter_contrib_nbextensions) (4.11.1)\n",
      "Requirement already satisfied: jupyterlab-pygments in /opt/conda/lib/python3.10/site-packages (from nbconvert>=6.0->jupyter_contrib_nbextensions) (0.2.2)\n",
      "Requirement already satisfied: defusedxml in /opt/conda/lib/python3.10/site-packages (from nbconvert>=6.0->jupyter_contrib_nbextensions) (0.7.1)\n",
      "Requirement already satisfied: bleach in /opt/conda/lib/python3.10/site-packages (from nbconvert>=6.0->jupyter_contrib_nbextensions) (5.0.1)\n",
      "Requirement already satisfied: mistune<3,>=2.0.3 in /opt/conda/lib/python3.10/site-packages (from nbconvert>=6.0->jupyter_contrib_nbextensions) (2.0.4)\n",
      "Requirement already satisfied: nbclient>=0.5.0 in /opt/conda/lib/python3.10/site-packages (from nbconvert>=6.0->jupyter_contrib_nbextensions) (0.7.2)\n",
      "Requirement already satisfied: pandocfilters>=1.4.1 in /opt/conda/lib/python3.10/site-packages (from nbconvert>=6.0->jupyter_contrib_nbextensions) (1.5.0)\n",
      "Requirement already satisfied: pygments>=2.4.1 in /opt/conda/lib/python3.10/site-packages (from nbconvert>=6.0->jupyter_contrib_nbextensions) (2.13.0)\n",
      "Requirement already satisfied: markupsafe>=2.0 in /opt/conda/lib/python3.10/site-packages (from nbconvert>=6.0->jupyter_contrib_nbextensions) (2.1.1)\n",
      "Requirement already satisfied: nbformat>=5.1 in /opt/conda/lib/python3.10/site-packages (from nbconvert>=6.0->jupyter_contrib_nbextensions) (5.7.0)\n",
      "Requirement already satisfied: packaging in /opt/conda/lib/python3.10/site-packages (from nbconvert>=6.0->jupyter_contrib_nbextensions) (22.0)\n",
      "Requirement already satisfied: jinja2>=3.0 in /opt/conda/lib/python3.10/site-packages (from nbconvert>=6.0->jupyter_contrib_nbextensions) (3.1.2)\n",
      "Requirement already satisfied: platformdirs>=2.5 in /opt/conda/lib/python3.10/site-packages (from jupyter_core->jupyter_contrib_nbextensions) (2.6.0)\n",
      "Requirement already satisfied: terminado>=0.8.3 in /opt/conda/lib/python3.10/site-packages (from notebook>=6.0->jupyter_contrib_nbextensions) (0.17.1)\n",
      "Requirement already satisfied: pyzmq>=17 in /opt/conda/lib/python3.10/site-packages (from notebook>=6.0->jupyter_contrib_nbextensions) (24.0.1)\n",
      "Requirement already satisfied: argon2-cffi in /opt/conda/lib/python3.10/site-packages (from notebook>=6.0->jupyter_contrib_nbextensions) (21.3.0)\n",
      "Requirement already satisfied: jupyter-client>=5.3.4 in /opt/conda/lib/python3.10/site-packages (from notebook>=6.0->jupyter_contrib_nbextensions) (7.3.4)\n",
      "Requirement already satisfied: ipykernel in /opt/conda/lib/python3.10/site-packages (from notebook>=6.0->jupyter_contrib_nbextensions) (6.19.2)\n",
      "Requirement already satisfied: Send2Trash>=1.8.0 in /opt/conda/lib/python3.10/site-packages (from notebook>=6.0->jupyter_contrib_nbextensions) (1.8.0)\n",
      "Requirement already satisfied: nbclassic>=0.4.7 in /opt/conda/lib/python3.10/site-packages (from notebook>=6.0->jupyter_contrib_nbextensions) (0.4.8)\n",
      "Requirement already satisfied: prometheus-client in /opt/conda/lib/python3.10/site-packages (from notebook>=6.0->jupyter_contrib_nbextensions) (0.15.0)\n",
      "Requirement already satisfied: nest-asyncio>=1.5 in /opt/conda/lib/python3.10/site-packages (from notebook>=6.0->jupyter_contrib_nbextensions) (1.5.6)\n",
      "Requirement already satisfied: entrypoints in /opt/conda/lib/python3.10/site-packages (from jupyter-client>=5.3.4->notebook>=6.0->jupyter_contrib_nbextensions) (0.4)\n",
      "Requirement already satisfied: python-dateutil>=2.8.2 in /opt/conda/lib/python3.10/site-packages (from jupyter-client>=5.3.4->notebook>=6.0->jupyter_contrib_nbextensions) (2.8.2)\n",
      "Requirement already satisfied: jupyter-server>=1.8 in /opt/conda/lib/python3.10/site-packages (from nbclassic>=0.4.7->notebook>=6.0->jupyter_contrib_nbextensions) (1.23.3)\n",
      "Requirement already satisfied: notebook-shim>=0.1.0 in /opt/conda/lib/python3.10/site-packages (from nbclassic>=0.4.7->notebook>=6.0->jupyter_contrib_nbextensions) (0.2.2)\n",
      "Requirement already satisfied: fastjsonschema in /opt/conda/lib/python3.10/site-packages (from nbformat>=5.1->nbconvert>=6.0->jupyter_contrib_nbextensions) (2.16.2)\n",
      "Requirement already satisfied: jsonschema>=2.6 in /opt/conda/lib/python3.10/site-packages (from nbformat>=5.1->nbconvert>=6.0->jupyter_contrib_nbextensions) (4.17.3)\n",
      "Requirement already satisfied: ptyprocess in /opt/conda/lib/python3.10/site-packages (from terminado>=0.8.3->notebook>=6.0->jupyter_contrib_nbextensions) (0.7.0)\n",
      "Requirement already satisfied: argon2-cffi-bindings in /opt/conda/lib/python3.10/site-packages (from argon2-cffi->notebook>=6.0->jupyter_contrib_nbextensions) (21.2.0)\n",
      "Requirement already satisfied: soupsieve>1.2 in /opt/conda/lib/python3.10/site-packages (from beautifulsoup4->nbconvert>=6.0->jupyter_contrib_nbextensions) (2.3.2.post1)\n",
      "Requirement already satisfied: webencodings in /opt/conda/lib/python3.10/site-packages (from bleach->nbconvert>=6.0->jupyter_contrib_nbextensions) (0.5.1)\n",
      "Requirement already satisfied: six>=1.9.0 in /opt/conda/lib/python3.10/site-packages (from bleach->nbconvert>=6.0->jupyter_contrib_nbextensions) (1.16.0)\n",
      "Requirement already satisfied: debugpy>=1.0 in /opt/conda/lib/python3.10/site-packages (from ipykernel->notebook>=6.0->jupyter_contrib_nbextensions) (1.6.4)\n",
      "Requirement already satisfied: ipython>=7.23.1 in /opt/conda/lib/python3.10/site-packages (from ipykernel->notebook>=6.0->jupyter_contrib_nbextensions) (8.7.0)\n",
      "Requirement already satisfied: comm>=0.1.1 in /opt/conda/lib/python3.10/site-packages (from ipykernel->notebook>=6.0->jupyter_contrib_nbextensions) (0.1.2)\n",
      "Requirement already satisfied: matplotlib-inline>=0.1 in /opt/conda/lib/python3.10/site-packages (from ipykernel->notebook>=6.0->jupyter_contrib_nbextensions) (0.1.6)\n",
      "Requirement already satisfied: psutil in /opt/conda/lib/python3.10/site-packages (from ipykernel->notebook>=6.0->jupyter_contrib_nbextensions) (5.9.4)\n",
      "Requirement already satisfied: decorator in /opt/conda/lib/python3.10/site-packages (from ipython>=7.23.1->ipykernel->notebook>=6.0->jupyter_contrib_nbextensions) (5.1.1)\n",
      "Requirement already satisfied: prompt-toolkit<3.1.0,>=3.0.11 in /opt/conda/lib/python3.10/site-packages (from ipython>=7.23.1->ipykernel->notebook>=6.0->jupyter_contrib_nbextensions) (3.0.36)\n",
      "Requirement already satisfied: backcall in /opt/conda/lib/python3.10/site-packages (from ipython>=7.23.1->ipykernel->notebook>=6.0->jupyter_contrib_nbextensions) (0.2.0)\n",
      "Requirement already satisfied: pickleshare in /opt/conda/lib/python3.10/site-packages (from ipython>=7.23.1->ipykernel->notebook>=6.0->jupyter_contrib_nbextensions) (0.7.5)\n",
      "Requirement already satisfied: jedi>=0.16 in /opt/conda/lib/python3.10/site-packages (from ipython>=7.23.1->ipykernel->notebook>=6.0->jupyter_contrib_nbextensions) (0.18.2)\n",
      "Requirement already satisfied: pexpect>4.3 in /opt/conda/lib/python3.10/site-packages (from ipython>=7.23.1->ipykernel->notebook>=6.0->jupyter_contrib_nbextensions) (4.8.0)\n",
      "Requirement already satisfied: stack-data in /opt/conda/lib/python3.10/site-packages (from ipython>=7.23.1->ipykernel->notebook>=6.0->jupyter_contrib_nbextensions) (0.6.2)\n",
      "Requirement already satisfied: attrs>=17.4.0 in /opt/conda/lib/python3.10/site-packages (from jsonschema>=2.6->nbformat>=5.1->nbconvert>=6.0->jupyter_contrib_nbextensions) (22.1.0)\n",
      "Requirement already satisfied: pyrsistent!=0.17.0,!=0.17.1,!=0.17.2,>=0.14.0 in /opt/conda/lib/python3.10/site-packages (from jsonschema>=2.6->nbformat>=5.1->nbconvert>=6.0->jupyter_contrib_nbextensions) (0.19.2)\n",
      "Requirement already satisfied: anyio<4,>=3.1.0 in /opt/conda/lib/python3.10/site-packages (from jupyter-server>=1.8->nbclassic>=0.4.7->notebook>=6.0->jupyter_contrib_nbextensions) (3.6.2)\n",
      "Requirement already satisfied: websocket-client in /opt/conda/lib/python3.10/site-packages (from jupyter-server>=1.8->nbclassic>=0.4.7->notebook>=6.0->jupyter_contrib_nbextensions) (1.4.2)\n",
      "Requirement already satisfied: cffi>=1.0.1 in /opt/conda/lib/python3.10/site-packages (from argon2-cffi-bindings->argon2-cffi->notebook>=6.0->jupyter_contrib_nbextensions) (1.15.1)\n",
      "Requirement already satisfied: idna>=2.8 in /opt/conda/lib/python3.10/site-packages (from anyio<4,>=3.1.0->jupyter-server>=1.8->nbclassic>=0.4.7->notebook>=6.0->jupyter_contrib_nbextensions) (3.4)\n",
      "Requirement already satisfied: sniffio>=1.1 in /opt/conda/lib/python3.10/site-packages (from anyio<4,>=3.1.0->jupyter-server>=1.8->nbclassic>=0.4.7->notebook>=6.0->jupyter_contrib_nbextensions) (1.3.0)\n",
      "Requirement already satisfied: pycparser in /opt/conda/lib/python3.10/site-packages (from cffi>=1.0.1->argon2-cffi-bindings->argon2-cffi->notebook>=6.0->jupyter_contrib_nbextensions) (2.21)\n",
      "Requirement already satisfied: parso<0.9.0,>=0.8.0 in /opt/conda/lib/python3.10/site-packages (from jedi>=0.16->ipython>=7.23.1->ipykernel->notebook>=6.0->jupyter_contrib_nbextensions) (0.8.3)\n",
      "Requirement already satisfied: wcwidth in /opt/conda/lib/python3.10/site-packages (from prompt-toolkit<3.1.0,>=3.0.11->ipython>=7.23.1->ipykernel->notebook>=6.0->jupyter_contrib_nbextensions) (0.2.5)\n",
      "Requirement already satisfied: executing>=1.2.0 in /opt/conda/lib/python3.10/site-packages (from stack-data->ipython>=7.23.1->ipykernel->notebook>=6.0->jupyter_contrib_nbextensions) (1.2.0)\n",
      "Requirement already satisfied: pure-eval in /opt/conda/lib/python3.10/site-packages (from stack-data->ipython>=7.23.1->ipykernel->notebook>=6.0->jupyter_contrib_nbextensions) (0.2.2)\n",
      "Requirement already satisfied: asttokens>=2.1.0 in /opt/conda/lib/python3.10/site-packages (from stack-data->ipython>=7.23.1->ipykernel->notebook>=6.0->jupyter_contrib_nbextensions) (2.2.1)\n",
      "Building wheels for collected packages: jupyter_contrib_nbextensions, jupyter_contrib_core, jupyter_nbextensions_configurator\n",
      "  Building wheel for jupyter_contrib_nbextensions (setup.py) ... \u001b[?25ldone\n",
      "\u001b[?25h  Created wheel for jupyter_contrib_nbextensions: filename=jupyter_contrib_nbextensions-0.7.0-py2.py3-none-any.whl size=23428784 sha256=a9d980ee401a64daece930000cdc0925aa5746e2f68480aacd5a7bd070eba492\n",
      "  Stored in directory: /home/jovyan/.cache/pip/wheels/44/a7/44/406684ced6e1131cbfce3391ab8508a39857e215c5498c4e6b\n",
      "  Building wheel for jupyter_contrib_core (setup.py) ... \u001b[?25ldone\n",
      "\u001b[?25h  Created wheel for jupyter_contrib_core: filename=jupyter_contrib_core-0.4.2-py2.py3-none-any.whl size=17483 sha256=c6e24113ec81e31eb5f9bb533fd1c47c3ae8d34a91582d5e11ab1d7c7cb81448\n",
      "  Stored in directory: /home/jovyan/.cache/pip/wheels/22/48/07/905faed53d1593772d705f08a979f218f8a6caa91f186895e4\n",
      "  Building wheel for jupyter_nbextensions_configurator (setup.py) ... \u001b[?25ldone\n",
      "\u001b[?25h  Created wheel for jupyter_nbextensions_configurator: filename=jupyter_nbextensions_configurator-0.6.1-py2.py3-none-any.whl size=466845 sha256=8c760f143a135203bad564a2d9eb6c8c7db0ec46bed312289a0d164d21d3c84d\n",
      "  Stored in directory: /home/jovyan/.cache/pip/wheels/43/f0/cf/87837f1de9fa73de0ea18abec5d1bf7c996cce90936cf6aafa\n",
      "Successfully built jupyter_contrib_nbextensions jupyter_contrib_core jupyter_nbextensions_configurator\n",
      "Installing collected packages: jupyter_highlight_selected_word, lxml, jupyter_contrib_core, jupyter_nbextensions_configurator, jupyter_contrib_nbextensions\n",
      "Successfully installed jupyter_contrib_core-0.4.2 jupyter_contrib_nbextensions-0.7.0 jupyter_highlight_selected_word-0.2.0 jupyter_nbextensions_configurator-0.6.1 lxml-4.9.2\n",
      "\u001b[32m[I 12:39:19 InstallContribNbextensionsApp]\u001b[m jupyter contrib nbextension install \n",
      "\u001b[32m[I 12:39:19 InstallContribNbextensionsApp]\u001b[m Installing jupyter_contrib_nbextensions nbextension files to jupyter data directory\n",
      "\u001b[32m[I 12:39:19 InstallContribNbextensionsApp]\u001b[m Installing /opt/conda/lib/python3.10/site-packages/jupyter_contrib_nbextensions/nbextensions/autosavetime -> autosavetime\n",
      "Traceback (most recent call last):\n",
      "  File \"/opt/conda/bin/jupyter-contrib\", line 8, in <module>\n",
      "    sys.exit(main())\n",
      "  File \"/opt/conda/lib/python3.10/site-packages/jupyter_core/application.py\", line 276, in launch_instance\n",
      "    return super().launch_instance(argv=argv, **kwargs)\n",
      "  File \"/opt/conda/lib/python3.10/site-packages/traitlets/config/application.py\", line 992, in launch_instance\n",
      "    app.start()\n",
      "  File \"/opt/conda/lib/python3.10/site-packages/jupyter_contrib_core/application.py\", line 50, in start\n",
      "    super(JupyterContribApp, self).start()\n",
      "  File \"/opt/conda/lib/python3.10/site-packages/jupyter_core/application.py\", line 265, in start\n",
      "    self.subapp.start()\n",
      "  File \"/opt/conda/lib/python3.10/site-packages/jupyter_contrib_nbextensions/application.py\", line 229, in start\n",
      "    super(ContribNbextensionsApp, self).start()\n",
      "  File \"/opt/conda/lib/python3.10/site-packages/jupyter_core/application.py\", line 265, in start\n",
      "    self.subapp.start()\n",
      "  File \"/opt/conda/lib/python3.10/site-packages/jupyter_contrib_nbextensions/application.py\", line 176, in start\n",
      "    toggle_install_files(self._toggle_value, **kwargs_files)\n",
      "  File \"/opt/conda/lib/python3.10/site-packages/jupyter_contrib_nbextensions/install.py\", line 68, in toggle_install_files\n",
      "    nbextensions.install_nbextension_python(\n",
      "  File \"/opt/conda/lib/python3.10/site-packages/notebook/nbextensions.py\", line 214, in install_nbextension_python\n",
      "    full_dest = install_nbextension(\n",
      "  File \"/opt/conda/lib/python3.10/site-packages/notebook/nbextensions.py\", line 118, in install_nbextension\n",
      "    ensure_dir_exists(nbext)\n",
      "  File \"/opt/conda/lib/python3.10/site-packages/jupyter_core/utils/__init__.py\", line 23, in ensure_dir_exists\n",
      "    os.makedirs(path, mode=mode)\n",
      "  File \"/opt/conda/lib/python3.10/os.py\", line 215, in makedirs\n",
      "    makedirs(head, exist_ok=exist_ok)\n",
      "  File \"/opt/conda/lib/python3.10/os.py\", line 225, in makedirs\n",
      "    mkdir(name, mode)\n",
      "PermissionError: [Errno 13] Permission denied: '/usr/local/share/jupyter'\n",
      "Note: you may need to restart the kernel to use updated packages.\n"
     ]
    }
   ],
   "source": [
    "pip install jupyter_contrib_nbextensions && jupyter contrib nbextension install "
   ]
  },
  {
   "cell_type": "code",
   "execution_count": 33,
   "id": "4fd79136-d6af-4a2e-9021-8dd0785cf1d5",
   "metadata": {},
   "outputs": [
    {
     "data": {
      "text/plain": [
       "['samarth', 'megha', 'dev', 'nikhil', 'tejas', 4, 8, 15, 16, 23, 42]"
      ]
     },
     "execution_count": 33,
     "metadata": {},
     "output_type": "execute_result"
    }
   ],
   "source": [
    "friends+lucky_numbers"
   ]
  },
  {
   "cell_type": "code",
   "execution_count": 36,
   "id": "83cb40f8-dbb4-4e2e-803f-e788dbd87301",
   "metadata": {},
   "outputs": [],
   "source": [
    "friends.append('creed')"
   ]
  },
  {
   "cell_type": "code",
   "execution_count": 37,
   "id": "6d8a5b9f-01da-4658-8071-ad89e1d08e90",
   "metadata": {},
   "outputs": [
    {
     "data": {
      "text/plain": [
       "['samarth', 'megha', 'dev', 'nikhil', 'tejas', 'creed']"
      ]
     },
     "execution_count": 37,
     "metadata": {},
     "output_type": "execute_result"
    }
   ],
   "source": [
    "friends"
   ]
  },
  {
   "cell_type": "code",
   "execution_count": 41,
   "id": "129e5edf-f7ec-419d-bb5c-4fc33d248a5f",
   "metadata": {},
   "outputs": [],
   "source": [
    "friends.insert(1,'kelly')"
   ]
  },
  {
   "cell_type": "code",
   "execution_count": 42,
   "id": "f580f05c-7d7e-410f-ae97-a66803ded651",
   "metadata": {},
   "outputs": [
    {
     "data": {
      "text/plain": [
       "['samarth', 'kelly', 'megha', 'dev', 'nikhil', 'tejas', 'creed']"
      ]
     },
     "execution_count": 42,
     "metadata": {},
     "output_type": "execute_result"
    }
   ],
   "source": [
    "friends"
   ]
  },
  {
   "cell_type": "code",
   "execution_count": 45,
   "id": "488fcf3f-58c4-41bd-a620-cced4b6733a5",
   "metadata": {},
   "outputs": [
    {
     "name": "stdout",
     "output_type": "stream",
     "text": [
      "None\n"
     ]
    }
   ],
   "source": [
    "print(friends.remove('creed'))"
   ]
  },
  {
   "cell_type": "code",
   "execution_count": 46,
   "id": "28ad6525-a1ec-4eda-bfae-50187e093fbf",
   "metadata": {},
   "outputs": [
    {
     "data": {
      "text/plain": [
       "['samarth', 'megha', 'dev', 'nikhil', 'tejas']"
      ]
     },
     "execution_count": 46,
     "metadata": {},
     "output_type": "execute_result"
    }
   ],
   "source": [
    "friends"
   ]
  },
  {
   "cell_type": "code",
   "execution_count": 48,
   "id": "d6e06309-b301-45a2-9b27-239957283472",
   "metadata": {},
   "outputs": [],
   "source": [
    "friends.clear()"
   ]
  },
  {
   "cell_type": "code",
   "execution_count": 49,
   "id": "a0260b32-b482-4d0c-900d-838ff568f1f7",
   "metadata": {},
   "outputs": [
    {
     "data": {
      "text/plain": [
       "[]"
      ]
     },
     "execution_count": 49,
     "metadata": {},
     "output_type": "execute_result"
    }
   ],
   "source": [
    "friends"
   ]
  },
  {
   "cell_type": "code",
   "execution_count": 51,
   "id": "de15b34c-63a9-4262-83b9-4d1562935b38",
   "metadata": {},
   "outputs": [
    {
     "data": {
      "text/plain": [
       "'tejas'"
      ]
     },
     "execution_count": 51,
     "metadata": {},
     "output_type": "execute_result"
    }
   ],
   "source": [
    "friends.pop()"
   ]
  },
  {
   "cell_type": "code",
   "execution_count": 53,
   "id": "039df386-3bd5-4d39-8eea-a697a1df495d",
   "metadata": {},
   "outputs": [
    {
     "data": {
      "text/plain": [
       "1"
      ]
     },
     "execution_count": 53,
     "metadata": {},
     "output_type": "execute_result"
    }
   ],
   "source": [
    "friends.index('megha')"
   ]
  },
  {
   "cell_type": "code",
   "execution_count": 56,
   "id": "4d3c8623-f0fe-478a-887b-c3592d829d11",
   "metadata": {},
   "outputs": [
    {
     "data": {
      "text/plain": [
       "1"
      ]
     },
     "execution_count": 56,
     "metadata": {},
     "output_type": "execute_result"
    }
   ],
   "source": [
    "friends.count('samarth')"
   ]
  },
  {
   "cell_type": "code",
   "execution_count": 57,
   "id": "de0d2741-bb9b-4cba-9507-b93764ff1617",
   "metadata": {},
   "outputs": [],
   "source": [
    "friends.sort()"
   ]
  },
  {
   "cell_type": "code",
   "execution_count": 58,
   "id": "289cbdc5-ef4c-4de3-ac8f-ae7ee6daa3b0",
   "metadata": {},
   "outputs": [
    {
     "data": {
      "text/plain": [
       "['dev', 'megha', 'nikhil', 'samarth']"
      ]
     },
     "execution_count": 58,
     "metadata": {},
     "output_type": "execute_result"
    }
   ],
   "source": [
    "friends"
   ]
  },
  {
   "cell_type": "code",
   "execution_count": 59,
   "id": "d2783bec-050b-4e82-aab5-f0da1a315546",
   "metadata": {},
   "outputs": [],
   "source": [
    "lucky_numbers.sort()"
   ]
  },
  {
   "cell_type": "code",
   "execution_count": 60,
   "id": "60dfddda-fbbd-4c61-80b8-6b044050b299",
   "metadata": {},
   "outputs": [
    {
     "data": {
      "text/plain": [
       "[4, 8, 15, 16, 23, 42]"
      ]
     },
     "execution_count": 60,
     "metadata": {},
     "output_type": "execute_result"
    }
   ],
   "source": [
    "lucky_numbers"
   ]
  },
  {
   "cell_type": "code",
   "execution_count": 61,
   "id": "af2b30bf-09e3-4818-afcb-411a23f362d2",
   "metadata": {},
   "outputs": [],
   "source": [
    "lucky_numbers.reverse()"
   ]
  },
  {
   "cell_type": "code",
   "execution_count": 63,
   "id": "026135e7-3096-498c-a943-37db4ae44038",
   "metadata": {},
   "outputs": [
    {
     "data": {
      "text/plain": [
       "[42, 23, 16, 15, 8, 4]"
      ]
     },
     "execution_count": 63,
     "metadata": {},
     "output_type": "execute_result"
    }
   ],
   "source": [
    "lucky_numbers"
   ]
  },
  {
   "cell_type": "code",
   "execution_count": 64,
   "id": "9936b9bd-900c-44c9-af89-4d49f2203b22",
   "metadata": {},
   "outputs": [],
   "source": [
    "friends2=friends.copy()"
   ]
  },
  {
   "cell_type": "code",
   "execution_count": 65,
   "id": "510952bf-e7db-48f5-b822-52d1afd8756c",
   "metadata": {},
   "outputs": [
    {
     "data": {
      "text/plain": [
       "['dev', 'megha', 'nikhil', 'samarth']"
      ]
     },
     "execution_count": 65,
     "metadata": {},
     "output_type": "execute_result"
    }
   ],
   "source": [
    "friends2"
   ]
  },
  {
   "cell_type": "markdown",
   "id": "6255bf99-f74a-4873-bbca-36c0969c3fd1",
   "metadata": {},
   "source": [
    "#### Tuples : it is a container where we can store differenmt values , similar to list"
   ]
  },
  {
   "cell_type": "code",
   "execution_count": 66,
   "id": "20f810da-c328-4cdd-a44b-db55f5b4fbf4",
   "metadata": {},
   "outputs": [],
   "source": [
    "coordinates=(4,5)"
   ]
  },
  {
   "cell_type": "markdown",
   "id": "7cf4a7d1-c3ce-437f-8c7c-2a189a4b807a",
   "metadata": {},
   "source": [
    "tuples are immutable and cannot be modified "
   ]
  },
  {
   "cell_type": "code",
   "execution_count": 67,
   "id": "9803ffd9-2b9f-4ced-b597-34984dabfd86",
   "metadata": {},
   "outputs": [
    {
     "data": {
      "text/plain": [
       "(4, 5)"
      ]
     },
     "execution_count": 67,
     "metadata": {},
     "output_type": "execute_result"
    }
   ],
   "source": [
    "coordinates"
   ]
  },
  {
   "cell_type": "code",
   "execution_count": 68,
   "id": "87b769ed-6c25-4fb0-ab63-806ba34a9ba0",
   "metadata": {},
   "outputs": [
    {
     "data": {
      "text/plain": [
       "4"
      ]
     },
     "execution_count": 68,
     "metadata": {},
     "output_type": "execute_result"
    }
   ],
   "source": [
    "coordinates[0]"
   ]
  },
  {
   "cell_type": "code",
   "execution_count": 69,
   "id": "d1192294-e3ec-48fb-9dba-e3b5544081fb",
   "metadata": {},
   "outputs": [
    {
     "ename": "TypeError",
     "evalue": "'tuple' object does not support item assignment",
     "output_type": "error",
     "traceback": [
      "\u001b[0;31m---------------------------------------------------------------------------\u001b[0m",
      "\u001b[0;31mTypeError\u001b[0m                                 Traceback (most recent call last)",
      "Cell \u001b[0;32mIn[69], line 1\u001b[0m\n\u001b[0;32m----> 1\u001b[0m \u001b[43mcoordinates\u001b[49m\u001b[43m[\u001b[49m\u001b[38;5;241;43m0\u001b[39;49m\u001b[43m]\u001b[49m\u001b[38;5;241m=\u001b[39m\u001b[38;5;241m1\u001b[39m\n",
      "\u001b[0;31mTypeError\u001b[0m: 'tuple' object does not support item assignment"
     ]
    }
   ],
   "source": [
    "coordinates[0]=1 ## tuples cannot be changes and immutable "
   ]
  },
  {
   "cell_type": "code",
   "execution_count": 70,
   "id": "0305c1ca-54b4-4985-97e9-4c18b2416797",
   "metadata": {},
   "outputs": [],
   "source": [
    "coordinates=[(4,5),(6,46,5)]"
   ]
  },
  {
   "cell_type": "code",
   "execution_count": 71,
   "id": "edb5b16a-31bf-4491-9ed0-3141ae2354dd",
   "metadata": {},
   "outputs": [
    {
     "data": {
      "text/plain": [
       "[(4, 5), (6, 46, 5)]"
      ]
     },
     "execution_count": 71,
     "metadata": {},
     "output_type": "execute_result"
    }
   ],
   "source": [
    "coordinates"
   ]
  },
  {
   "cell_type": "markdown",
   "id": "8b24dde3-f66b-43c6-8324-4fb40bbd5962",
   "metadata": {},
   "source": [
    "# Functions "
   ]
  },
  {
   "cell_type": "code",
   "execution_count": 78,
   "id": "dbb41734-20ab-4497-afc0-d22b9a70714e",
   "metadata": {},
   "outputs": [],
   "source": [
    "def sayhi():\n",
    "    print('hello user')"
   ]
  },
  {
   "cell_type": "code",
   "execution_count": 80,
   "id": "89ef744e-87cb-4472-bc90-cd271b6522fb",
   "metadata": {},
   "outputs": [
    {
     "name": "stdout",
     "output_type": "stream",
     "text": [
      "top\n",
      "hello user\n",
      "bottom\n"
     ]
    }
   ],
   "source": [
    "print('top')\n",
    "sayhi()\n",
    "print('bottom')"
   ]
  },
  {
   "cell_type": "code",
   "execution_count": 95,
   "id": "45b1f490-0559-4643-9a6b-e906699b454a",
   "metadata": {},
   "outputs": [],
   "source": [
    "def sayhi(name,age):\n",
    "    print('hello user' + name +'you are ' + str(age))"
   ]
  },
  {
   "cell_type": "code",
   "execution_count": 96,
   "id": "582bb836-5afb-481c-a18d-93dcd90da2c9",
   "metadata": {},
   "outputs": [
    {
     "name": "stdout",
     "output_type": "stream",
     "text": [
      "hello usermikeyou are 56\n"
     ]
    }
   ],
   "source": [
    "sayhi('mike',56)"
   ]
  },
  {
   "cell_type": "code",
   "execution_count": 90,
   "id": "4e7fa8a8-8837-45de-b6e7-18ef16f89e20",
   "metadata": {},
   "outputs": [],
   "source": [
    "def age():\n",
    "    print('hello user' + age)"
   ]
  },
  {
   "cell_type": "code",
   "execution_count": 89,
   "id": "2072b23f-ca13-4d34-8a11-a599494a2e75",
   "metadata": {},
   "outputs": [
    {
     "name": "stdin",
     "output_type": "stream",
     "text": [
      "my age is  84\n"
     ]
    },
    {
     "data": {
      "text/plain": [
       "'84'"
      ]
     },
     "execution_count": 89,
     "metadata": {},
     "output_type": "execute_result"
    }
   ],
   "source": [
    "input('my age is ')"
   ]
  },
  {
   "cell_type": "markdown",
   "id": "0df0d9aa-28b2-4cf3-a16c-1d75351a708e",
   "metadata": {},
   "source": [
    "## Return statement"
   ]
  },
  {
   "cell_type": "code",
   "execution_count": 101,
   "id": "271df331-fd91-4bc1-aef1-37a0e98a38b7",
   "metadata": {},
   "outputs": [],
   "source": [
    "def cube(num):\n",
    "    return(num*num*num)"
   ]
  },
  {
   "cell_type": "code",
   "execution_count": 102,
   "id": "25cc7e50-2418-480d-90f4-c9da12a4ea67",
   "metadata": {},
   "outputs": [
    {
     "data": {
      "text/plain": [
       "27"
      ]
     },
     "execution_count": 102,
     "metadata": {},
     "output_type": "execute_result"
    }
   ],
   "source": [
    "cube(3)"
   ]
  },
  {
   "cell_type": "code",
   "execution_count": 103,
   "id": "022bbe78-838a-4315-b3c9-5cb1e03e7a66",
   "metadata": {},
   "outputs": [
    {
     "data": {
      "text/plain": [
       "64"
      ]
     },
     "execution_count": 103,
     "metadata": {},
     "output_type": "execute_result"
    }
   ],
   "source": [
    "cube(4)"
   ]
  },
  {
   "cell_type": "code",
   "execution_count": 104,
   "id": "225867af-28ae-4505-a411-a3c04cc2960c",
   "metadata": {},
   "outputs": [
    {
     "data": {
      "text/plain": [
       "447697125"
      ]
     },
     "execution_count": 104,
     "metadata": {},
     "output_type": "execute_result"
    }
   ],
   "source": [
    "cube(765)"
   ]
  },
  {
   "cell_type": "code",
   "execution_count": 105,
   "id": "4532c58e-baef-4973-a916-76b1e8994f65",
   "metadata": {},
   "outputs": [],
   "source": [
    "result=cube(4)"
   ]
  },
  {
   "cell_type": "code",
   "execution_count": 106,
   "id": "357be67a-0613-4a89-864c-7dff124fd16b",
   "metadata": {},
   "outputs": [
    {
     "data": {
      "text/plain": [
       "64"
      ]
     },
     "execution_count": 106,
     "metadata": {},
     "output_type": "execute_result"
    }
   ],
   "source": [
    "result"
   ]
  },
  {
   "cell_type": "markdown",
   "id": "f886ca2e-54cd-4cf2-8f51-2164f2d74923",
   "metadata": {},
   "source": [
    "## If statements "
   ]
  },
  {
   "cell_type": "code",
   "execution_count": 123,
   "id": "9bb627f2-7f8b-401b-86e0-925815508f97",
   "metadata": {},
   "outputs": [],
   "source": [
    "is_male=False\n",
    "is_tall=True"
   ]
  },
  {
   "cell_type": "code",
   "execution_count": 124,
   "id": "680be665-3881-4d60-a122-4d99f5e5b053",
   "metadata": {},
   "outputs": [
    {
     "name": "stdout",
     "output_type": "stream",
     "text": [
      "you are not male but tall\n",
      "sqidy scoop scopp\n"
     ]
    }
   ],
   "source": [
    "if is_male and is_tall:\n",
    "    print('you are a male, or tall or both')\n",
    "elif is_male and not(is_tall):\n",
    "    print('yor are male but not tall')\n",
    "elif not(is_male) and is_tall:\n",
    "    print('you are not male but tall')\n",
    "else:\n",
    "    print('yor might be sigma and fuckit')\n",
    "print('sqidy scoop scopp')"
   ]
  },
  {
   "cell_type": "markdown",
   "id": "81d15e4b-a3b8-4dd4-a6f6-6fcac8197c8d",
   "metadata": {},
   "source": [
    "## if statements & comparisions "
   ]
  },
  {
   "cell_type": "code",
   "execution_count": 125,
   "id": "b50a16c2-4651-4104-9d8c-f94e94c0984c",
   "metadata": {},
   "outputs": [],
   "source": [
    "def max_num(num1,num2,num3):\n",
    "    if num1 >= num2 and num1 >= num3 :\n",
    "        return num1\n",
    "    elif num2>=num1 and num2>=num3:\n",
    "        return num2\n",
    "    else:\n",
    "        return num3"
   ]
  },
  {
   "cell_type": "code",
   "execution_count": 128,
   "id": "c71b5067-7834-4109-8330-fd3354f0a1d6",
   "metadata": {},
   "outputs": [
    {
     "data": {
      "text/plain": [
       "865"
      ]
     },
     "execution_count": 128,
     "metadata": {},
     "output_type": "execute_result"
    }
   ],
   "source": [
    "max_num(865,89,9)"
   ]
  },
  {
   "cell_type": "code",
   "execution_count": 129,
   "id": "00b07457-8f00-4c27-ab8c-328a895af179",
   "metadata": {},
   "outputs": [
    {
     "data": {
      "text/plain": [
       "9"
      ]
     },
     "execution_count": 129,
     "metadata": {},
     "output_type": "execute_result"
    }
   ],
   "source": [
    "max_num(5,8,9)"
   ]
  },
  {
   "cell_type": "code",
   "execution_count": 130,
   "id": "da1157b0-7bec-434a-ad9f-972caef1c204",
   "metadata": {},
   "outputs": [
    {
     "data": {
      "text/plain": [
       "10"
      ]
     },
     "execution_count": 130,
     "metadata": {},
     "output_type": "execute_result"
    }
   ],
   "source": [
    "max_num(5,10,9)"
   ]
  },
  {
   "cell_type": "markdown",
   "id": "93a42ed9-6c66-467d-985e-2d6b9589a125",
   "metadata": {},
   "source": [
    "## better calculator "
   ]
  },
  {
   "cell_type": "code",
   "execution_count": 132,
   "id": "d7514faa-1444-4fe4-b389-d1aacf5d1848",
   "metadata": {},
   "outputs": [
    {
     "name": "stdin",
     "output_type": "stream",
     "text": [
      "enter first number :   98\n",
      "enter operator +\n",
      "enter second number 661\n"
     ]
    }
   ],
   "source": [
    "num1=float(input('enter first number :  '))\n",
    "op=input('enter operator')\n",
    "num2=float(input('enter second number'))"
   ]
  },
  {
   "cell_type": "code",
   "execution_count": null,
   "id": "e1a53dff-6636-47b0-aedc-98f854b4f434",
   "metadata": {},
   "outputs": [],
   "source": [
    "num1=float(input('enter first number :  '))\n",
    "op=input('enter operator')\n",
    "num2=float(input('enter second number'))\n",
    "\n",
    "if op=='+':\n",
    "    print(num1+num2)\n",
    "elif op=='-':\n",
    "    print(num1+num2)\n",
    "elif op=='/':\n",
    "    print(num1+num2)\n",
    "elif op=='*':\n",
    "    print(num1+num2)\n",
    "else:\n",
    "    print('invalid operator')"
   ]
  },
  {
   "cell_type": "code",
   "execution_count": null,
   "id": "330298ec-f5b4-45d3-bbce-517779cc74b8",
   "metadata": {},
   "outputs": [],
   "source": [
    "print('this is good game ')"
   ]
  },
  {
   "cell_type": "code",
   "execution_count": 1,
   "id": "6423bb75-b37b-4063-8bab-3ba903c60a23",
   "metadata": {},
   "outputs": [
    {
     "name": "stdout",
     "output_type": "stream",
     "text": [
      "12\n"
     ]
    }
   ],
   "source": [
    "print(12)"
   ]
  },
  {
   "cell_type": "code",
   "execution_count": 4,
   "id": "d8c737c6-6011-4807-8853-6d14764f7790",
   "metadata": {},
   "outputs": [],
   "source": [
    "monthconversions={'jan':'january','feb':'february','mar':'march','apr':'april','may':'may','june':'june'}"
   ]
  },
  {
   "cell_type": "code",
   "execution_count": 5,
   "id": "26fe6aa9-4afc-4219-bee1-06025d0ae603",
   "metadata": {},
   "outputs": [
    {
     "data": {
      "text/plain": [
       "'february'"
      ]
     },
     "execution_count": 5,
     "metadata": {},
     "output_type": "execute_result"
    }
   ],
   "source": [
    "monthconversions['feb']"
   ]
  },
  {
   "cell_type": "code",
   "execution_count": 8,
   "id": "af02129b-5d38-4387-8779-51c0bdfaf90c",
   "metadata": {},
   "outputs": [
    {
     "data": {
      "text/plain": [
       "'march'"
      ]
     },
     "execution_count": 8,
     "metadata": {},
     "output_type": "execute_result"
    }
   ],
   "source": [
    "monthconversions['mar']"
   ]
  },
  {
   "cell_type": "code",
   "execution_count": 9,
   "id": "29ae8d1d-b61b-49ff-afcc-82128cfd0292",
   "metadata": {},
   "outputs": [
    {
     "data": {
      "text/plain": [
       "'february'"
      ]
     },
     "execution_count": 9,
     "metadata": {},
     "output_type": "execute_result"
    }
   ],
   "source": [
    "monthconversions.get('feb')"
   ]
  },
  {
   "cell_type": "code",
   "execution_count": 11,
   "id": "5484091c-d707-4bf7-a8f7-8fc5bb37d212",
   "metadata": {},
   "outputs": [
    {
     "data": {
      "text/plain": [
       "'not a valid key'"
      ]
     },
     "execution_count": 11,
     "metadata": {},
     "output_type": "execute_result"
    }
   ],
   "source": [
    "monthconversions.get('nov','not a valid key')"
   ]
  },
  {
   "cell_type": "markdown",
   "id": "1991ee2d-c908-4b01-b25b-a825632f20ad",
   "metadata": {},
   "source": [
    "## While loops "
   ]
  },
  {
   "cell_type": "code",
   "execution_count": 12,
   "id": "1612016e-1ea2-4bdd-867d-7c15dfb329af",
   "metadata": {},
   "outputs": [
    {
     "name": "stdout",
     "output_type": "stream",
     "text": [
      "1\n",
      "2\n",
      "3\n",
      "4\n",
      "5\n",
      "6\n",
      "7\n",
      "8\n",
      "9\n",
      "10\n",
      "done with loop\n"
     ]
    }
   ],
   "source": [
    "i=1\n",
    "while i<=10:\n",
    "    print(i)\n",
    "    i += 1\n",
    "print('done with loop')"
   ]
  },
  {
   "cell_type": "markdown",
   "id": "e2dbbca5-0724-479f-a0c6-ac0eb6e64df8",
   "metadata": {},
   "source": [
    "## building a guessing game "
   ]
  },
  {
   "cell_type": "code",
   "execution_count": 14,
   "id": "76fe6b07-6a8b-488d-b7f5-072703508818",
   "metadata": {},
   "outputs": [
    {
     "name": "stdin",
     "output_type": "stream",
     "text": [
      "enter guess:  fgufgw\n",
      "enter guess:  jhjfu\n",
      "enter guess:  jguy3efu\n",
      "enter guess:  jsjd\n",
      "enter guess:  giraffe\n"
     ]
    },
    {
     "name": "stdout",
     "output_type": "stream",
     "text": [
      "you win\n"
     ]
    }
   ],
   "source": [
    "secret_word='giraffe'\n",
    "guess=''\n",
    "while guess != secret_word:\n",
    "    guess=input('enter guess: ')\n",
    "print('you win')"
   ]
  },
  {
   "cell_type": "code",
   "execution_count": null,
   "id": "f9757f89-e7e5-4a3f-9775-b9f48be94985",
   "metadata": {},
   "outputs": [],
   "source": [
    "secret_word='giraffe'\n",
    "guess=''\n",
    "guess_count=0\n",
    "guess_limit=3\n",
    "out_of_guesses=False\n",
    "\n",
    "while guess != secret_word and not(out_of_guesses):\n",
    "    if guess_count<guess_limit:\n",
    "        guess=input('enter guess: ')\n",
    "        guess_count += 1\n",
    "    else:\n",
    "        out_of_guesses=True\n",
    "\n",
    "if out_of_guesses:\n",
    "    print('out of guesses you loose')\n",
    "else:\n",
    "    print('you win')"
   ]
  },
  {
   "cell_type": "code",
   "execution_count": 1,
   "id": "c768eb8a-7d77-44b2-8884-3c4aebbfadd1",
   "metadata": {},
   "outputs": [
    {
     "name": "stdin",
     "output_type": "stream",
     "text": [
      "enter guess:  samarth\n",
      "enter guess:  samaryu\n",
      "enter guess:  jdugug\n"
     ]
    },
    {
     "name": "stdout",
     "output_type": "stream",
     "text": [
      "out of guesses you loose\n"
     ]
    }
   ],
   "source": [
    "secret_word='giraffe'\n",
    "guess=''\n",
    "guess_count=0\n",
    "guess_limit=3\n",
    "out_of_guesses=False\n",
    "\n",
    "while guess != secret_word and not(out_of_guesses):\n",
    "    if guess_count<guess_limit:\n",
    "        guess=input('enter guess: ')\n",
    "        guess_count += 1\n",
    "    else:\n",
    "        out_of_guesses=True\n",
    "\n",
    "if out_of_guesses:\n",
    "    print('out of guesses you loose')\n",
    "else:\n",
    "    print('you win')"
   ]
  },
  {
   "cell_type": "code",
   "execution_count": 2,
   "id": "d37f5c61-b263-4e6b-bed6-b3b8e7ed2e3c",
   "metadata": {},
   "outputs": [
    {
     "name": "stdin",
     "output_type": "stream",
     "text": [
      "enter guess:  samausyuy\n",
      "enter guess:  udfe7fdu\n",
      "enter guess:  giraffe\n"
     ]
    },
    {
     "name": "stdout",
     "output_type": "stream",
     "text": [
      "you win\n"
     ]
    }
   ],
   "source": [
    "secret_word='giraffe'\n",
    "guess=''\n",
    "guess_count=0\n",
    "guess_limit=3\n",
    "out_of_guesses=False\n",
    "\n",
    "while guess != secret_word and not(out_of_guesses):\n",
    "    if guess_count<guess_limit:\n",
    "        guess=input('enter guess: ')\n",
    "        guess_count += 1\n",
    "    else:\n",
    "        out_of_guesses=True\n",
    "\n",
    "if out_of_guesses:\n",
    "    print('out of guesses you loose')\n",
    "else:\n",
    "    print('you win')"
   ]
  },
  {
   "cell_type": "markdown",
   "id": "769bc281-dfd7-4e33-9b1d-4c7e7cae959b",
   "metadata": {},
   "source": [
    "## For loop"
   ]
  },
  {
   "cell_type": "code",
   "execution_count": 6,
   "id": "94fd0114-fb11-4000-bffd-c0065d279f78",
   "metadata": {},
   "outputs": [
    {
     "name": "stdout",
     "output_type": "stream",
     "text": [
      "samarth\n",
      "pramit\n",
      "dev\n"
     ]
    }
   ],
   "source": [
    "friends=['samarth','pramit','dev']\n",
    "for i in friends:\n",
    "    print(i)"
   ]
  },
  {
   "cell_type": "code",
   "execution_count": null,
   "id": "c8142a90-7d73-4dc7-a3b6-e724273f0fb9",
   "metadata": {},
   "outputs": [
    {
     "name": "stdout",
     "output_type": "stream",
     "text": [
      "0\n",
      "1\n",
      "2\n",
      "3\n",
      "4\n",
      "5\n",
      "6\n",
      "7\n",
      "8\n",
      "9\n"
     ]
    }
   ],
   "source": [
    "friends=['samarth','pramit','dev']\n",
    "for friend in friends:\n",
    "    print(friend)"
   ]
  },
  {
   "cell_type": "code",
   "execution_count": 10,
   "id": "668d173b-b6d7-4bd0-a9d9-abc2d2032b47",
   "metadata": {},
   "outputs": [
    {
     "name": "stdout",
     "output_type": "stream",
     "text": [
      "0\n",
      "1\n",
      "2\n",
      "3\n",
      "4\n",
      "5\n",
      "6\n",
      "7\n",
      "8\n",
      "9\n"
     ]
    }
   ],
   "source": [
    "friends=['samarth','pramit','dev']\n",
    "for i in range(10):\n",
    "    print(i)"
   ]
  },
  {
   "cell_type": "code",
   "execution_count": 11,
   "id": "93992498-f4c5-4e73-8c32-1bead108617f",
   "metadata": {},
   "outputs": [
    {
     "name": "stdout",
     "output_type": "stream",
     "text": [
      "3\n",
      "4\n",
      "5\n",
      "6\n",
      "7\n",
      "8\n",
      "9\n"
     ]
    }
   ],
   "source": [
    "for i in range(3,10):\n",
    "    print(i)"
   ]
  },
  {
   "cell_type": "code",
   "execution_count": 14,
   "id": "e9009b81-42ed-4bcd-b642-4434bd5cfbdd",
   "metadata": {},
   "outputs": [
    {
     "name": "stdout",
     "output_type": "stream",
     "text": [
      "samarth\n",
      "pramit\n",
      "dev\n"
     ]
    }
   ],
   "source": [
    "len(friends)\n",
    "for i in range(len(friends)):\n",
    "    print(friends[i])\n",
    "    friend[0]"
   ]
  },
  {
   "cell_type": "code",
   "execution_count": 21,
   "id": "dc68cd87-68d9-4f0b-93c3-31e588b4c40e",
   "metadata": {},
   "outputs": [
    {
     "name": "stdout",
     "output_type": "stream",
     "text": [
      "fiurst iteration\n",
      "1\n",
      "2\n",
      "3\n",
      "4\n"
     ]
    }
   ],
   "source": [
    "for i in range(5):\n",
    "    if i== 0:\n",
    "        print('fiurst iteration')\n",
    "    else:\n",
    "        ('not first')\n",
    "        print(i)"
   ]
  },
  {
   "cell_type": "markdown",
   "id": "db95cb09-13bd-414b-b09b-189cff5e02ac",
   "metadata": {},
   "source": [
    "## exponent function "
   ]
  },
  {
   "cell_type": "code",
   "execution_count": 23,
   "id": "6af0db38-ed2a-41aa-a1a7-5504681c5e2b",
   "metadata": {},
   "outputs": [
    {
     "name": "stdout",
     "output_type": "stream",
     "text": [
      "8\n"
     ]
    }
   ],
   "source": [
    "print(2**3)"
   ]
  },
  {
   "cell_type": "code",
   "execution_count": 25,
   "id": "376546e0-19d2-4377-9b79-95bca5913fac",
   "metadata": {},
   "outputs": [
    {
     "name": "stdout",
     "output_type": "stream",
     "text": [
      "81\n"
     ]
    }
   ],
   "source": [
    "def raise_to_power(base_num,pow_num):\n",
    "    result = 1\n",
    "    for i in range(pow_num):\n",
    "        result=result * base_num\n",
    "    return result\n",
    "\n",
    "print(raise_to_power(3,4))"
   ]
  },
  {
   "cell_type": "markdown",
   "id": "f49959bc-7d6f-4156-95b3-330409999b38",
   "metadata": {},
   "source": [
    "## 2D list and nested loops "
   ]
  },
  {
   "cell_type": "code",
   "execution_count": 30,
   "id": "e2e8f65e-a4dc-4817-99bd-d404ae9c85c3",
   "metadata": {},
   "outputs": [
    {
     "data": {
      "text/plain": [
       "[[1, 2, 3], [4, 5, 6], [7, 8, 9], [0]]"
      ]
     },
     "execution_count": 30,
     "metadata": {},
     "output_type": "execute_result"
    }
   ],
   "source": [
    "number_grid=[[1,2,3],[4,5,6],[7,8,9],[0]]\n",
    "number_grid"
   ]
  },
  {
   "cell_type": "code",
   "execution_count": 27,
   "id": "f7bff443-7588-4793-b9cf-58179fa29937",
   "metadata": {},
   "outputs": [
    {
     "data": {
      "text/plain": [
       "1"
      ]
     },
     "execution_count": 27,
     "metadata": {},
     "output_type": "execute_result"
    }
   ],
   "source": [
    "number_grid[0][0]"
   ]
  },
  {
   "cell_type": "markdown",
   "id": "53a57672-e43b-4ad1-ae01-efbc7a6d7364",
   "metadata": {},
   "source": [
    "## nested for loops "
   ]
  },
  {
   "cell_type": "code",
   "execution_count": 29,
   "id": "25f4c8d0-d412-4a87-bd76-7d9bc9293fe5",
   "metadata": {},
   "outputs": [
    {
     "name": "stdout",
     "output_type": "stream",
     "text": [
      "[1, 2, 3]\n",
      "[4, 5, 6]\n",
      "[7, 8, 9]\n",
      "[0]\n"
     ]
    }
   ],
   "source": [
    "for row in number_grid:\n",
    "    print(row)"
   ]
  },
  {
   "cell_type": "code",
   "execution_count": 32,
   "id": "8bd36280-a0b9-4628-9a45-01b716839198",
   "metadata": {},
   "outputs": [
    {
     "name": "stdout",
     "output_type": "stream",
     "text": [
      "1\n",
      "2\n",
      "3\n",
      "4\n",
      "5\n",
      "6\n",
      "7\n",
      "8\n",
      "9\n",
      "0\n"
     ]
    }
   ],
   "source": [
    "for row in number_grid:\n",
    "    for col in row:\n",
    "        print(col)"
   ]
  },
  {
   "cell_type": "code",
   "execution_count": 33,
   "id": "3cbcdb2d-f463-4066-8d18-73f14fc43aca",
   "metadata": {},
   "outputs": [],
   "source": [
    "## Build a translator "
   ]
  },
  {
   "cell_type": "code",
   "execution_count": 40,
   "id": "c047ae3f-a34e-401b-8290-36b468a1bf5a",
   "metadata": {},
   "outputs": [],
   "source": [
    "def translate(phrase):\n",
    "    translation = ''\n",
    "    for i in phrase:\n",
    "        if i in 'AEIOUaeiou':\n",
    "            translation=translation +'g'\n",
    "        else:\n",
    "            translation = translation + i\n",
    "    return translation"
   ]
  },
  {
   "cell_type": "code",
   "execution_count": 41,
   "id": "5994f474-c3a4-4da9-aff0-1ac0da970ac6",
   "metadata": {},
   "outputs": [
    {
     "name": "stdin",
     "output_type": "stream",
     "text": [
      "enter a phrase this is samarth agarwal\n"
     ]
    },
    {
     "name": "stdout",
     "output_type": "stream",
     "text": [
      "thgs gs sgmgrth gggrwgl\n"
     ]
    }
   ],
   "source": [
    "print(translate(input('enter a phrase')))"
   ]
  },
  {
   "cell_type": "code",
   "execution_count": 44,
   "id": "1fe2a369-dff7-48ec-9f6e-0a17e0528629",
   "metadata": {},
   "outputs": [],
   "source": [
    "def translate(phrase):\n",
    "    translation = ''\n",
    "    for i in phrase:\n",
    "        if i.lower() in 'aeiou':\n",
    "            if letter.isupper():\n",
    "                translation=translation + 'G'\n",
    "            else:\n",
    "                translation=translation +'g'\n",
    "        else:\n",
    "            translation = translation + i\n",
    "    return translation"
   ]
  },
  {
   "cell_type": "code",
   "execution_count": 45,
   "id": "4b8ddc12-3519-4348-b496-49ed5a430d29",
   "metadata": {},
   "outputs": [
    {
     "name": "stdin",
     "output_type": "stream",
     "text": [
      "enter a phrase DOG\n"
     ]
    },
    {
     "name": "stdout",
     "output_type": "stream",
     "text": [
      "DgG\n"
     ]
    }
   ],
   "source": [
    "print(translate(input('enter a phrase')))"
   ]
  },
  {
   "cell_type": "code",
   "execution_count": null,
   "id": "a05bfa42-5907-4aeb-9c22-82119d8f2b71",
   "metadata": {},
   "outputs": [],
   "source": []
  }
 ],
 "metadata": {
  "kernelspec": {
   "display_name": "Python 3 (ipykernel)",
   "language": "python",
   "name": "python3"
  },
  "language_info": {
   "codemirror_mode": {
    "name": "ipython",
    "version": 3
   },
   "file_extension": ".py",
   "mimetype": "text/x-python",
   "name": "python",
   "nbconvert_exporter": "python",
   "pygments_lexer": "ipython3",
   "version": "3.10.8"
  }
 },
 "nbformat": 4,
 "nbformat_minor": 5
}
